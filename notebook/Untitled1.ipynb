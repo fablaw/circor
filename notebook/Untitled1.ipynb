{
 "cells": [
  {
   "cell_type": "code",
   "execution_count": 1,
   "id": "5028c0e1",
   "metadata": {},
   "outputs": [
    {
     "data": {
      "text/html": [
       "<div>\n",
       "<style scoped>\n",
       "    .dataframe tbody tr th:only-of-type {\n",
       "        vertical-align: middle;\n",
       "    }\n",
       "\n",
       "    .dataframe tbody tr th {\n",
       "        vertical-align: top;\n",
       "    }\n",
       "\n",
       "    .dataframe thead th {\n",
       "        text-align: right;\n",
       "    }\n",
       "</style>\n",
       "<table border=\"1\" class=\"dataframe\">\n",
       "  <thead>\n",
       "    <tr style=\"text-align: right;\">\n",
       "      <th></th>\n",
       "      <th>Unnamed: 0.1</th>\n",
       "      <th>Unnamed: 0</th>\n",
       "      <th>Patient_id</th>\n",
       "      <th>select</th>\n",
       "      <th>Outcome</th>\n",
       "    </tr>\n",
       "  </thead>\n",
       "  <tbody>\n",
       "    <tr>\n",
       "      <th>45</th>\n",
       "      <td>45</td>\n",
       "      <td>45</td>\n",
       "      <td>50285</td>\n",
       "      <td>MV</td>\n",
       "      <td>Abnormal</td>\n",
       "    </tr>\n",
       "    <tr>\n",
       "      <th>539</th>\n",
       "      <td>539</td>\n",
       "      <td>539</td>\n",
       "      <td>85305</td>\n",
       "      <td>AV</td>\n",
       "      <td>Abnormal</td>\n",
       "    </tr>\n",
       "    <tr>\n",
       "      <th>82</th>\n",
       "      <td>82</td>\n",
       "      <td>82</td>\n",
       "      <td>84714</td>\n",
       "      <td>AV</td>\n",
       "      <td>Abnormal</td>\n",
       "    </tr>\n",
       "    <tr>\n",
       "      <th>120</th>\n",
       "      <td>120</td>\n",
       "      <td>120</td>\n",
       "      <td>85207</td>\n",
       "      <td>TV</td>\n",
       "      <td>Abnormal</td>\n",
       "    </tr>\n",
       "    <tr>\n",
       "      <th>243</th>\n",
       "      <td>243</td>\n",
       "      <td>243</td>\n",
       "      <td>50658</td>\n",
       "      <td>PV</td>\n",
       "      <td>Normal</td>\n",
       "    </tr>\n",
       "    <tr>\n",
       "      <th>...</th>\n",
       "      <td>...</td>\n",
       "      <td>...</td>\n",
       "      <td>...</td>\n",
       "      <td>...</td>\n",
       "      <td>...</td>\n",
       "    </tr>\n",
       "    <tr>\n",
       "      <th>136</th>\n",
       "      <td>136</td>\n",
       "      <td>136</td>\n",
       "      <td>40798</td>\n",
       "      <td>AV</td>\n",
       "      <td>Abnormal</td>\n",
       "    </tr>\n",
       "    <tr>\n",
       "      <th>369</th>\n",
       "      <td>369</td>\n",
       "      <td>369</td>\n",
       "      <td>84764</td>\n",
       "      <td>MV</td>\n",
       "      <td>Normal</td>\n",
       "    </tr>\n",
       "    <tr>\n",
       "      <th>58</th>\n",
       "      <td>58</td>\n",
       "      <td>58</td>\n",
       "      <td>57700</td>\n",
       "      <td>PV</td>\n",
       "      <td>Abnormal</td>\n",
       "    </tr>\n",
       "    <tr>\n",
       "      <th>200</th>\n",
       "      <td>200</td>\n",
       "      <td>200</td>\n",
       "      <td>50230</td>\n",
       "      <td>AV</td>\n",
       "      <td>Normal</td>\n",
       "    </tr>\n",
       "    <tr>\n",
       "      <th>354</th>\n",
       "      <td>354</td>\n",
       "      <td>354</td>\n",
       "      <td>84724</td>\n",
       "      <td>PV</td>\n",
       "      <td>Normal</td>\n",
       "    </tr>\n",
       "  </tbody>\n",
       "</table>\n",
       "<p>554 rows × 5 columns</p>\n",
       "</div>"
      ],
      "text/plain": [
       "     Unnamed: 0.1  Unnamed: 0  Patient_id select   Outcome\n",
       "45             45          45       50285     MV  Abnormal\n",
       "539           539         539       85305     AV  Abnormal\n",
       "82             82          82       84714     AV  Abnormal\n",
       "120           120         120       85207     TV  Abnormal\n",
       "243           243         243       50658     PV    Normal\n",
       "..            ...         ...         ...    ...       ...\n",
       "136           136         136       40798     AV  Abnormal\n",
       "369           369         369       84764     MV    Normal\n",
       "58             58          58       57700     PV  Abnormal\n",
       "200           200         200       50230     AV    Normal\n",
       "354           354         354       84724     PV    Normal\n",
       "\n",
       "[554 rows x 5 columns]"
      ]
     },
     "execution_count": 1,
     "metadata": {},
     "output_type": "execute_result"
    }
   ],
   "source": [
    "import numpy as np\n",
    "import pandas as pd\n",
    "\n",
    "df1=pd.read_csv('/Users/fabianlaw/code/fablaw/circor/raw_data/1.0.3/new_table_2.csv')\n",
    "df=df1.sample(frac=1)\n",
    "df"
   ]
  },
  {
   "cell_type": "code",
   "execution_count": 2,
   "id": "73eaae14",
   "metadata": {},
   "outputs": [],
   "source": [
    "X_raw=[]\n",
    "for i in df.index:\n",
    "    file='../raw_data/1.0.3/proc_img/'+str(df.loc[i,'Patient_id'])+'_'+df.loc[i,'select']+'.npy'\n",
    "    v=np.load(file)\n",
    "    X_raw.append(v)\n",
    "    \n",
    "X=np.stack(X_raw)"
   ]
  },
  {
   "cell_type": "code",
   "execution_count": 3,
   "id": "c6adc786",
   "metadata": {},
   "outputs": [
    {
     "data": {
      "text/plain": [
       "(554,)"
      ]
     },
     "execution_count": 3,
     "metadata": {},
     "output_type": "execute_result"
    }
   ],
   "source": [
    "y=df.Outcome.map({'Abnormal': 1, 'Normal': 0})\n",
    "y.shape"
   ]
  },
  {
   "cell_type": "code",
   "execution_count": 4,
   "id": "d3d3f645",
   "metadata": {},
   "outputs": [],
   "source": [
    "from sklearn.model_selection import train_test_split\n",
    "\n",
    "X_train, X_test, y_train, y_test=train_test_split(X, y, test_size=0.3, random_state=1)"
   ]
  },
  {
   "cell_type": "code",
   "execution_count": 5,
   "id": "54723bbf",
   "metadata": {},
   "outputs": [],
   "source": [
    "from tensorflow.keras.layers import Dense, Flatten, MaxPooling1D, Conv1D, LSTM\n",
    "from tensorflow.keras import Sequential\n",
    "from tensorflow.keras.optimizers import Adam\n",
    "from tensorflow.keras.losses import BinaryCrossentropy\n",
    "from tensorflow.keras.callbacks import EarlyStopping\n",
    "from tensorflow.keras.applications.resnet import ResNet101\n",
    "from tensorflow.keras.metrics import Recall\n",
    "\n",
    "import matplotlib.pyplot as plt"
   ]
  },
  {
   "cell_type": "code",
   "execution_count": 6,
   "id": "b7479737",
   "metadata": {},
   "outputs": [],
   "source": [
    "base_model = ResNet101(include_top=False, input_shape=(224, 224, 3), weights='imagenet')"
   ]
  },
  {
   "cell_type": "code",
   "execution_count": 7,
   "id": "0fc83459",
   "metadata": {},
   "outputs": [],
   "source": [
    "base_model.trainable = False"
   ]
  },
  {
   "cell_type": "code",
   "execution_count": 8,
   "id": "2760f4f8",
   "metadata": {},
   "outputs": [],
   "source": [
    "layer1=Flatten()\n",
    "layer2=Dense(1024, activation='relu')\n",
    "layer3=Dense(1, activation='sigmoid')\n"
   ]
  },
  {
   "cell_type": "code",
   "execution_count": 9,
   "id": "b98c8116",
   "metadata": {},
   "outputs": [],
   "source": [
    "model = Sequential([base_model, layer1, layer2, layer3])"
   ]
  },
  {
   "cell_type": "code",
   "execution_count": 10,
   "id": "054d9d5e",
   "metadata": {},
   "outputs": [
    {
     "name": "stdout",
     "output_type": "stream",
     "text": [
      "Model: \"sequential\"\n",
      "_________________________________________________________________\n",
      " Layer (type)                Output Shape              Param #   \n",
      "=================================================================\n",
      " resnet101 (Functional)      (None, 7, 7, 2048)        42658176  \n",
      "                                                                 \n",
      " flatten (Flatten)           (None, 100352)            0         \n",
      "                                                                 \n",
      " dense (Dense)               (None, 1024)              102761472 \n",
      "                                                                 \n",
      " dense_1 (Dense)             (None, 1)                 1025      \n",
      "                                                                 \n",
      "=================================================================\n",
      "Total params: 145,420,673\n",
      "Trainable params: 102,762,497\n",
      "Non-trainable params: 42,658,176\n",
      "_________________________________________________________________\n"
     ]
    }
   ],
   "source": [
    "model.summary()"
   ]
  },
  {
   "cell_type": "code",
   "execution_count": 11,
   "id": "fe420c9a",
   "metadata": {},
   "outputs": [],
   "source": [
    "model.compile(loss=BinaryCrossentropy(),\n",
    "              optimizer=Adam(learning_rate=0.0001),\n",
    "              metrics=['accuracy', Recall()])"
   ]
  },
  {
   "cell_type": "code",
   "execution_count": 12,
   "id": "124bd8a5",
   "metadata": {},
   "outputs": [
    {
     "name": "stdout",
     "output_type": "stream",
     "text": [
      "Epoch 1/150\n"
     ]
    },
    {
     "name": "stderr",
     "output_type": "stream",
     "text": [
      "/Users/fabianlaw/.pyenv/versions/3.10.6/envs/circor/lib/python3.10/site-packages/keras/engine/data_adapter.py:1699: FutureWarning: The behavior of `series[i:j]` with an integer-dtype index is deprecated. In a future version, this will be treated as *label-based* indexing, consistent with e.g. `series[i]` lookups. To retain the old behavior, use `series.iloc[i:j]`. To get the future behavior, use `series.loc[i:j]`.\n",
      "  return t[start:end]\n",
      "2022-12-01 18:20:01.635200: W tensorflow/core/platform/profile_utils/cpu_utils.cc:128] Failed to get CPU frequency: 0 Hz\n"
     ]
    },
    {
     "name": "stdout",
     "output_type": "stream",
     "text": [
      "10/10 [==============================] - 28s 3s/step - loss: 2.7561 - accuracy: 0.5049 - recall: 0.4872 - val_loss: 2.2621 - val_accuracy: 0.5128 - val_recall: 1.0000\n",
      "Epoch 2/150\n",
      "10/10 [==============================] - 26s 3s/step - loss: 1.2290 - accuracy: 0.5307 - recall: 0.4103 - val_loss: 1.2347 - val_accuracy: 0.5128 - val_recall: 1.0000\n",
      "Epoch 3/150\n",
      "10/10 [==============================] - 27s 3s/step - loss: 0.8987 - accuracy: 0.4919 - recall: 0.4744 - val_loss: 0.7247 - val_accuracy: 0.5128 - val_recall: 1.0000\n",
      "Epoch 4/150\n",
      "10/10 [==============================] - 27s 3s/step - loss: 0.7143 - accuracy: 0.4790 - recall: 0.5962 - val_loss: 0.7005 - val_accuracy: 0.4872 - val_recall: 0.0000e+00\n",
      "Epoch 5/150\n",
      "10/10 [==============================] - 28s 3s/step - loss: 0.7035 - accuracy: 0.4628 - recall: 0.4167 - val_loss: 0.6925 - val_accuracy: 0.5000 - val_recall: 0.9500\n",
      "Epoch 6/150\n",
      "10/10 [==============================] - 28s 3s/step - loss: 0.7127 - accuracy: 0.5243 - recall: 0.6603 - val_loss: 0.6929 - val_accuracy: 0.5000 - val_recall: 0.0500\n",
      "Epoch 7/150\n",
      "10/10 [==============================] - 28s 3s/step - loss: 0.7174 - accuracy: 0.4951 - recall: 0.5833 - val_loss: 0.9064 - val_accuracy: 0.4872 - val_recall: 0.0000e+00\n",
      "Epoch 8/150\n",
      "10/10 [==============================] - 29s 3s/step - loss: 0.8833 - accuracy: 0.5210 - recall: 0.4359 - val_loss: 0.8202 - val_accuracy: 0.4872 - val_recall: 0.0000e+00\n",
      "Epoch 9/150\n",
      "10/10 [==============================] - 29s 3s/step - loss: 0.7359 - accuracy: 0.5113 - recall: 0.5833 - val_loss: 0.7275 - val_accuracy: 0.5128 - val_recall: 1.0000\n",
      "Epoch 10/150\n",
      "10/10 [==============================] - 30s 3s/step - loss: 0.7021 - accuracy: 0.5243 - recall: 0.6026 - val_loss: 0.6911 - val_accuracy: 0.5000 - val_recall: 0.9750\n",
      "Epoch 11/150\n",
      "10/10 [==============================] - 29s 3s/step - loss: 0.7562 - accuracy: 0.4951 - recall: 0.5128 - val_loss: 0.7975 - val_accuracy: 0.4872 - val_recall: 0.0000e+00\n",
      "Epoch 12/150\n",
      "10/10 [==============================] - 29s 3s/step - loss: 0.7237 - accuracy: 0.5599 - recall: 0.4936 - val_loss: 0.6932 - val_accuracy: 0.5128 - val_recall: 1.0000\n",
      "Epoch 13/150\n",
      "10/10 [==============================] - 29s 3s/step - loss: 0.7427 - accuracy: 0.4919 - recall: 0.5769 - val_loss: 0.6977 - val_accuracy: 0.5128 - val_recall: 1.0000\n",
      "Epoch 14/150\n",
      "10/10 [==============================] - 29s 3s/step - loss: 0.6889 - accuracy: 0.5405 - recall: 0.5321 - val_loss: 0.7154 - val_accuracy: 0.5128 - val_recall: 1.0000\n"
     ]
    }
   ],
   "source": [
    "es=EarlyStopping(patience=10, restore_best_weights=True, monitor='val_recall')\n",
    "history=model.fit(X_train, y_train, \n",
    "                  validation_split=0.2, \n",
    "                  batch_size=32, \n",
    "                  epochs=150, \n",
    "                  callbacks=[es])"
   ]
  },
  {
   "cell_type": "code",
   "execution_count": 13,
   "id": "f0609dc0",
   "metadata": {},
   "outputs": [],
   "source": [
    "def plot_loss_recall(history):\n",
    "    fig, (ax1, ax2) = plt.subplots(1,2, figsize=(13,4))\n",
    "    ax1.plot(history.history['loss'])\n",
    "    ax1.plot(history.history['val_loss'])\n",
    "    ax1.set_title('Model loss')\n",
    "    ax1.set_ylabel('Loss')\n",
    "    ax1.set_xlabel('Epoch')\n",
    "    ax1.set_ylim(ymin=0, ymax=1)\n",
    "    ax1.legend(['Train', 'Validation'], loc='best')\n",
    "    ax1.grid(axis=\"x\",linewidth=0.5)\n",
    "    ax1.grid(axis=\"y\",linewidth=0.5)    \n",
    "\n",
    "    \n",
    "    ax2.plot(history.history['recall'])\n",
    "    ax2.plot(history.history['val_recall'])\n",
    "    ax2.set_title('RECALL')\n",
    "    ax2.set_ylabel('Recall')\n",
    "    ax2.set_xlabel('Epoch')\n",
    "    ax2.set_ylim(ymin=0, ymax=2)\n",
    "    ax2.legend(['Train', 'Validation'], loc='best')\n",
    "    ax2.grid(axis=\"x\",linewidth=0.5)\n",
    "    ax2.grid(axis=\"y\",linewidth=0.5)    \n",
    "\n",
    "    plt.show()"
   ]
  },
  {
   "cell_type": "code",
   "execution_count": 14,
   "id": "2b4b03d1",
   "metadata": {},
   "outputs": [
    {
     "data": {
      "image/png": "[encoded data removed]",
      "text/plain": [
       "<Figure size 1300x400 with 2 Axes>"
      ]
     },
     "metadata": {},
     "output_type": "display_data"
    }
   ],
   "source": [
    "plot_loss_recall(history)"
   ]
  },
  {
   "cell_type": "code",
   "execution_count": 15,
   "id": "3aa0f967",
   "metadata": {},
   "outputs": [
    {
     "name": "stdout",
     "output_type": "stream",
     "text": [
      "6/6 [==============================] - 12s 2s/step\n"
     ]
    },
    {
     "data": {
      "text/plain": [
       "array([[0.45334223],\n",
       "       [0.44840974],\n",
       "       [0.4480771 ],\n",
       "       [0.45890823],\n",
       "       [0.4550005 ],\n",
       "       [0.4551936 ],\n",
       "       [0.45225707],\n",
       "       [0.4556284 ],\n",
       "       [0.44662207],\n",
       "       [0.45824435],\n",
       "       [0.45004147],\n",
       "       [0.45194265],\n",
       "       [0.44975528],\n",
       "       [0.43891063],\n",
       "       [0.44967934],\n",
       "       [0.44884583],\n",
       "       [0.45345244],\n",
       "       [0.45090288],\n",
       "       [0.44645667],\n",
       "       [0.44546425],\n",
       "       [0.4504881 ],\n",
       "       [0.45518696],\n",
       "       [0.45113754],\n",
       "       [0.45185563],\n",
       "       [0.45403337],\n",
       "       [0.4529666 ],\n",
       "       [0.44940096],\n",
       "       [0.45725426],\n",
       "       [0.45215425],\n",
       "       [0.44250274],\n",
       "       [0.4508983 ],\n",
       "       [0.45003426],\n",
       "       [0.4557826 ],\n",
       "       [0.44884545],\n",
       "       [0.4449381 ],\n",
       "       [0.44803345],\n",
       "       [0.44953984],\n",
       "       [0.45058846],\n",
       "       [0.4556438 ],\n",
       "       [0.44826907],\n",
       "       [0.45251188],\n",
       "       [0.45250446],\n",
       "       [0.4553488 ],\n",
       "       [0.45548397],\n",
       "       [0.45489764],\n",
       "       [0.4551406 ],\n",
       "       [0.4480543 ],\n",
       "       [0.45520043],\n",
       "       [0.4577846 ],\n",
       "       [0.45819038],\n",
       "       [0.45158386],\n",
       "       [0.455827  ],\n",
       "       [0.45182285],\n",
       "       [0.45193562],\n",
       "       [0.44944695],\n",
       "       [0.45360282],\n",
       "       [0.45073903],\n",
       "       [0.45360076],\n",
       "       [0.4249195 ],\n",
       "       [0.44918376],\n",
       "       [0.4469294 ],\n",
       "       [0.45824274],\n",
       "       [0.45286033],\n",
       "       [0.45123348],\n",
       "       [0.45459655],\n",
       "       [0.4594176 ],\n",
       "       [0.45658904],\n",
       "       [0.44927692],\n",
       "       [0.44516808],\n",
       "       [0.45607907],\n",
       "       [0.4556902 ],\n",
       "       [0.44432867],\n",
       "       [0.45563978],\n",
       "       [0.451286  ],\n",
       "       [0.45206794],\n",
       "       [0.45137647],\n",
       "       [0.4475064 ],\n",
       "       [0.451322  ],\n",
       "       [0.45094356],\n",
       "       [0.4535194 ],\n",
       "       [0.44729397],\n",
       "       [0.44839448],\n",
       "       [0.44989043],\n",
       "       [0.45046884],\n",
       "       [0.44914466],\n",
       "       [0.44907764],\n",
       "       [0.45424965],\n",
       "       [0.45259675],\n",
       "       [0.4579737 ],\n",
       "       [0.45840925],\n",
       "       [0.4425096 ],\n",
       "       [0.43860647],\n",
       "       [0.45384938],\n",
       "       [0.45801768],\n",
       "       [0.45155933],\n",
       "       [0.45545578],\n",
       "       [0.45178384],\n",
       "       [0.44803953],\n",
       "       [0.4454147 ],\n",
       "       [0.4503941 ],\n",
       "       [0.4567707 ],\n",
       "       [0.4508603 ],\n",
       "       [0.45067263],\n",
       "       [0.4529333 ],\n",
       "       [0.4572934 ],\n",
       "       [0.4524307 ],\n",
       "       [0.4528964 ],\n",
       "       [0.44913825],\n",
       "       [0.45177993],\n",
       "       [0.45000544],\n",
       "       [0.45177042],\n",
       "       [0.45452347],\n",
       "       [0.45281765],\n",
       "       [0.4587762 ],\n",
       "       [0.4575951 ],\n",
       "       [0.44886413],\n",
       "       [0.4567093 ],\n",
       "       [0.4590928 ],\n",
       "       [0.45171672],\n",
       "       [0.45520586],\n",
       "       [0.44947806],\n",
       "       [0.45550254],\n",
       "       [0.44217148],\n",
       "       [0.45243084],\n",
       "       [0.4398055 ],\n",
       "       [0.45425022],\n",
       "       [0.44261605],\n",
       "       [0.4545256 ],\n",
       "       [0.45136404],\n",
       "       [0.45459443],\n",
       "       [0.4547837 ],\n",
       "       [0.4592013 ],\n",
       "       [0.45690745],\n",
       "       [0.4540762 ],\n",
       "       [0.4552192 ],\n",
       "       [0.45955306],\n",
       "       [0.45335907],\n",
       "       [0.45460278],\n",
       "       [0.4603432 ],\n",
       "       [0.45568407],\n",
       "       [0.45397788],\n",
       "       [0.4516661 ],\n",
       "       [0.45300618],\n",
       "       [0.4581601 ],\n",
       "       [0.44861788],\n",
       "       [0.45441675],\n",
       "       [0.45885265],\n",
       "       [0.43167195],\n",
       "       [0.4463621 ],\n",
       "       [0.43814725],\n",
       "       [0.45466542],\n",
       "       [0.45182458],\n",
       "       [0.4593537 ],\n",
       "       [0.4570939 ],\n",
       "       [0.45442036],\n",
       "       [0.45992643],\n",
       "       [0.4521121 ],\n",
       "       [0.45345113],\n",
       "       [0.43476355],\n",
       "       [0.45729578],\n",
       "       [0.4563908 ],\n",
       "       [0.4554937 ],\n",
       "       [0.4464245 ],\n",
       "       [0.45651317],\n",
       "       [0.4519297 ],\n",
       "       [0.45101175],\n",
       "       [0.44729662]], dtype=float32)"
      ]
     },
     "execution_count": 15,
     "metadata": {},
     "output_type": "execute_result"
    }
   ],
   "source": [
    "model.predict(X_test)"
   ]
  },
  {
   "cell_type": "code",
   "execution_count": null,
   "id": "fc3c6bf0",
   "metadata": {},
   "outputs": [],
   "source": []
  }
 ],
 "metadata": {
  "kernelspec": {
   "display_name": "Python 3 (ipykernel)",
   "language": "python",
   "name": "python3"
  },
  "language_info": {
   "codemirror_mode": {
    "name": "ipython",
    "version": 3
   },
   "file_extension": ".py",
   "mimetype": "text/x-python",
   "name": "python",
   "nbconvert_exporter": "python",
   "pygments_lexer": "ipython3",
   "version": "3.10.6"
  },
  "toc": {
   "base_numbering": 1,
   "nav_menu": {},
   "number_sections": true,
   "sideBar": true,
   "skip_h1_title": false,
   "title_cell": "Table of Contents",
   "title_sidebar": "Contents",
   "toc_cell": false,
   "toc_position": {},
   "toc_section_display": true,
   "toc_window_display": false
  }
 },
 "nbformat": 4,
 "nbformat_minor": 5
}
