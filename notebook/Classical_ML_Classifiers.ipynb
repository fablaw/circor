{
 "cells": [
  {
   "cell_type": "markdown",
   "id": "ce7a5813",
   "metadata": {},
   "source": [
    "## Imports"
   ]
  },
  {
   "cell_type": "code",
   "execution_count": 147,
   "id": "2afbea21",
   "metadata": {},
   "outputs": [],
   "source": [
    "import numpy as np\n",
    "import pandas as pd\n",
    "import matplotlib.pyplot as plt\n",
    "#INLINE STATEMENT for matplot\n",
    "#AUTOLOAD --NOT ESSENTIAL\n",
    "\n",
    "#Classifiers\n",
    "from sklearn.linear_model import LogisticRegression\n",
    "from sklearn.neighbors import KNeighborsClassifier\n",
    "from sklearn.svm import SVC\n",
    "\n",
    "\n",
    "from sklearn.preprocessing import MinMaxScaler, RobustScaler, StandardScaler\n",
    "from sklearn.model_selection import train_test_split, cross_validate, cross_val_score\n",
    "from sklearn.metrics import classification_report, precision_recall_fscore_support\n",
    "\n",
    "\n",
    "from sklearn.pipeline import make_pipeline\n",
    "from sklearn.model_selection import RandomizedSearchCV\n",
    "\n",
    "\n",
    "from scipy.stats import uniform\n",
    "from sklearn.decomposition import PCA\n",
    "\n",
    "from sklearn import set_config; set_config(display='text')\n",
    "\n",
    "from sktime.classification.interval_based import TimeSeriesForestClassifier #pip install sktime\n",
    "\n",
    "\n"
   ]
  },
  {
   "cell_type": "markdown",
   "id": "23003751",
   "metadata": {},
   "source": [
    "# Data frame"
   ]
  },
  {
   "cell_type": "code",
   "execution_count": 2,
   "id": "e1104082",
   "metadata": {},
   "outputs": [
    {
     "data": {
      "text/html": [
       "<div>\n",
       "<style scoped>\n",
       "    .dataframe tbody tr th:only-of-type {\n",
       "        vertical-align: middle;\n",
       "    }\n",
       "\n",
       "    .dataframe tbody tr th {\n",
       "        vertical-align: top;\n",
       "    }\n",
       "\n",
       "    .dataframe thead th {\n",
       "        text-align: right;\n",
       "    }\n",
       "</style>\n",
       "<table border=\"1\" class=\"dataframe\">\n",
       "  <thead>\n",
       "    <tr style=\"text-align: right;\">\n",
       "      <th></th>\n",
       "      <th>Patient ID</th>\n",
       "      <th>Recording locations:</th>\n",
       "      <th>Age</th>\n",
       "      <th>Sex</th>\n",
       "      <th>Height</th>\n",
       "      <th>Weight</th>\n",
       "      <th>Pregnancy status</th>\n",
       "      <th>Murmur</th>\n",
       "      <th>Murmur locations</th>\n",
       "      <th>Most audible location</th>\n",
       "      <th>...</th>\n",
       "      <th>Systolic murmur pitch</th>\n",
       "      <th>Systolic murmur quality</th>\n",
       "      <th>Diastolic murmur timing</th>\n",
       "      <th>Diastolic murmur shape</th>\n",
       "      <th>Diastolic murmur grading</th>\n",
       "      <th>Diastolic murmur pitch</th>\n",
       "      <th>Diastolic murmur quality</th>\n",
       "      <th>Outcome</th>\n",
       "      <th>Campaign</th>\n",
       "      <th>Additional ID</th>\n",
       "    </tr>\n",
       "  </thead>\n",
       "  <tbody>\n",
       "    <tr>\n",
       "      <th>0</th>\n",
       "      <td>2530</td>\n",
       "      <td>AV+PV+TV+MV</td>\n",
       "      <td>Child</td>\n",
       "      <td>Female</td>\n",
       "      <td>98.0</td>\n",
       "      <td>15.9</td>\n",
       "      <td>False</td>\n",
       "      <td>Absent</td>\n",
       "      <td>NaN</td>\n",
       "      <td>NaN</td>\n",
       "      <td>...</td>\n",
       "      <td>NaN</td>\n",
       "      <td>NaN</td>\n",
       "      <td>NaN</td>\n",
       "      <td>NaN</td>\n",
       "      <td>NaN</td>\n",
       "      <td>NaN</td>\n",
       "      <td>NaN</td>\n",
       "      <td>Abnormal</td>\n",
       "      <td>CC2015</td>\n",
       "      <td>NaN</td>\n",
       "    </tr>\n",
       "    <tr>\n",
       "      <th>1</th>\n",
       "      <td>9979</td>\n",
       "      <td>AV+PV+TV+MV</td>\n",
       "      <td>Child</td>\n",
       "      <td>Female</td>\n",
       "      <td>103.0</td>\n",
       "      <td>13.1</td>\n",
       "      <td>False</td>\n",
       "      <td>Present</td>\n",
       "      <td>AV+MV+PV+TV</td>\n",
       "      <td>TV</td>\n",
       "      <td>...</td>\n",
       "      <td>High</td>\n",
       "      <td>Harsh</td>\n",
       "      <td>NaN</td>\n",
       "      <td>NaN</td>\n",
       "      <td>NaN</td>\n",
       "      <td>NaN</td>\n",
       "      <td>NaN</td>\n",
       "      <td>Abnormal</td>\n",
       "      <td>CC2015</td>\n",
       "      <td>NaN</td>\n",
       "    </tr>\n",
       "    <tr>\n",
       "      <th>2</th>\n",
       "      <td>9983</td>\n",
       "      <td>AV+PV+TV+MV</td>\n",
       "      <td>Child</td>\n",
       "      <td>Male</td>\n",
       "      <td>115.0</td>\n",
       "      <td>19.1</td>\n",
       "      <td>False</td>\n",
       "      <td>Unknown</td>\n",
       "      <td>NaN</td>\n",
       "      <td>NaN</td>\n",
       "      <td>...</td>\n",
       "      <td>NaN</td>\n",
       "      <td>NaN</td>\n",
       "      <td>NaN</td>\n",
       "      <td>NaN</td>\n",
       "      <td>NaN</td>\n",
       "      <td>NaN</td>\n",
       "      <td>NaN</td>\n",
       "      <td>Abnormal</td>\n",
       "      <td>CC2015</td>\n",
       "      <td>NaN</td>\n",
       "    </tr>\n",
       "    <tr>\n",
       "      <th>3</th>\n",
       "      <td>13918</td>\n",
       "      <td>AV+PV+TV+MV</td>\n",
       "      <td>Child</td>\n",
       "      <td>Male</td>\n",
       "      <td>98.0</td>\n",
       "      <td>15.9</td>\n",
       "      <td>False</td>\n",
       "      <td>Present</td>\n",
       "      <td>TV</td>\n",
       "      <td>TV</td>\n",
       "      <td>...</td>\n",
       "      <td>Low</td>\n",
       "      <td>Blowing</td>\n",
       "      <td>NaN</td>\n",
       "      <td>NaN</td>\n",
       "      <td>NaN</td>\n",
       "      <td>NaN</td>\n",
       "      <td>NaN</td>\n",
       "      <td>Abnormal</td>\n",
       "      <td>CC2015</td>\n",
       "      <td>NaN</td>\n",
       "    </tr>\n",
       "    <tr>\n",
       "      <th>4</th>\n",
       "      <td>14241</td>\n",
       "      <td>AV+PV+TV+MV</td>\n",
       "      <td>Child</td>\n",
       "      <td>Male</td>\n",
       "      <td>87.0</td>\n",
       "      <td>11.2</td>\n",
       "      <td>False</td>\n",
       "      <td>Present</td>\n",
       "      <td>AV+MV+PV+TV</td>\n",
       "      <td>PV</td>\n",
       "      <td>...</td>\n",
       "      <td>Low</td>\n",
       "      <td>Harsh</td>\n",
       "      <td>NaN</td>\n",
       "      <td>NaN</td>\n",
       "      <td>NaN</td>\n",
       "      <td>NaN</td>\n",
       "      <td>NaN</td>\n",
       "      <td>Abnormal</td>\n",
       "      <td>CC2015</td>\n",
       "      <td>NaN</td>\n",
       "    </tr>\n",
       "    <tr>\n",
       "      <th>...</th>\n",
       "      <td>...</td>\n",
       "      <td>...</td>\n",
       "      <td>...</td>\n",
       "      <td>...</td>\n",
       "      <td>...</td>\n",
       "      <td>...</td>\n",
       "      <td>...</td>\n",
       "      <td>...</td>\n",
       "      <td>...</td>\n",
       "      <td>...</td>\n",
       "      <td>...</td>\n",
       "      <td>...</td>\n",
       "      <td>...</td>\n",
       "      <td>...</td>\n",
       "      <td>...</td>\n",
       "      <td>...</td>\n",
       "      <td>...</td>\n",
       "      <td>...</td>\n",
       "      <td>...</td>\n",
       "      <td>...</td>\n",
       "      <td>...</td>\n",
       "    </tr>\n",
       "    <tr>\n",
       "      <th>937</th>\n",
       "      <td>85340</td>\n",
       "      <td>AV+PV+TV+MV</td>\n",
       "      <td>Child</td>\n",
       "      <td>Male</td>\n",
       "      <td>105.0</td>\n",
       "      <td>16.6</td>\n",
       "      <td>False</td>\n",
       "      <td>Absent</td>\n",
       "      <td>NaN</td>\n",
       "      <td>NaN</td>\n",
       "      <td>...</td>\n",
       "      <td>NaN</td>\n",
       "      <td>NaN</td>\n",
       "      <td>NaN</td>\n",
       "      <td>NaN</td>\n",
       "      <td>NaN</td>\n",
       "      <td>NaN</td>\n",
       "      <td>NaN</td>\n",
       "      <td>Normal</td>\n",
       "      <td>CC2015</td>\n",
       "      <td>NaN</td>\n",
       "    </tr>\n",
       "    <tr>\n",
       "      <th>938</th>\n",
       "      <td>85341</td>\n",
       "      <td>AV+PV+TV+MV</td>\n",
       "      <td>Child</td>\n",
       "      <td>Male</td>\n",
       "      <td>92.0</td>\n",
       "      <td>15.2</td>\n",
       "      <td>False</td>\n",
       "      <td>Absent</td>\n",
       "      <td>NaN</td>\n",
       "      <td>NaN</td>\n",
       "      <td>...</td>\n",
       "      <td>NaN</td>\n",
       "      <td>NaN</td>\n",
       "      <td>NaN</td>\n",
       "      <td>NaN</td>\n",
       "      <td>NaN</td>\n",
       "      <td>NaN</td>\n",
       "      <td>NaN</td>\n",
       "      <td>Normal</td>\n",
       "      <td>CC2015</td>\n",
       "      <td>NaN</td>\n",
       "    </tr>\n",
       "    <tr>\n",
       "      <th>939</th>\n",
       "      <td>85343</td>\n",
       "      <td>AV+PV+TV+MV</td>\n",
       "      <td>Child</td>\n",
       "      <td>Female</td>\n",
       "      <td>97.0</td>\n",
       "      <td>13.5</td>\n",
       "      <td>False</td>\n",
       "      <td>Present</td>\n",
       "      <td>MV+TV</td>\n",
       "      <td>TV</td>\n",
       "      <td>...</td>\n",
       "      <td>Low</td>\n",
       "      <td>Blowing</td>\n",
       "      <td>NaN</td>\n",
       "      <td>NaN</td>\n",
       "      <td>NaN</td>\n",
       "      <td>NaN</td>\n",
       "      <td>NaN</td>\n",
       "      <td>Abnormal</td>\n",
       "      <td>CC2015</td>\n",
       "      <td>NaN</td>\n",
       "    </tr>\n",
       "    <tr>\n",
       "      <th>940</th>\n",
       "      <td>85345</td>\n",
       "      <td>AV+PV</td>\n",
       "      <td>Child</td>\n",
       "      <td>Female</td>\n",
       "      <td>132.0</td>\n",
       "      <td>38.1</td>\n",
       "      <td>False</td>\n",
       "      <td>Absent</td>\n",
       "      <td>NaN</td>\n",
       "      <td>NaN</td>\n",
       "      <td>...</td>\n",
       "      <td>NaN</td>\n",
       "      <td>NaN</td>\n",
       "      <td>NaN</td>\n",
       "      <td>NaN</td>\n",
       "      <td>NaN</td>\n",
       "      <td>NaN</td>\n",
       "      <td>NaN</td>\n",
       "      <td>Normal</td>\n",
       "      <td>CC2015</td>\n",
       "      <td>NaN</td>\n",
       "    </tr>\n",
       "    <tr>\n",
       "      <th>941</th>\n",
       "      <td>85349</td>\n",
       "      <td>AV+PV+TV</td>\n",
       "      <td>NaN</td>\n",
       "      <td>Female</td>\n",
       "      <td>NaN</td>\n",
       "      <td>NaN</td>\n",
       "      <td>True</td>\n",
       "      <td>Absent</td>\n",
       "      <td>NaN</td>\n",
       "      <td>NaN</td>\n",
       "      <td>...</td>\n",
       "      <td>NaN</td>\n",
       "      <td>NaN</td>\n",
       "      <td>NaN</td>\n",
       "      <td>NaN</td>\n",
       "      <td>NaN</td>\n",
       "      <td>NaN</td>\n",
       "      <td>NaN</td>\n",
       "      <td>Normal</td>\n",
       "      <td>CC2015</td>\n",
       "      <td>NaN</td>\n",
       "    </tr>\n",
       "  </tbody>\n",
       "</table>\n",
       "<p>942 rows × 23 columns</p>\n",
       "</div>"
      ],
      "text/plain": [
       "     Patient ID Recording locations:    Age     Sex  Height  Weight  \\\n",
       "0          2530          AV+PV+TV+MV  Child  Female    98.0    15.9   \n",
       "1          9979          AV+PV+TV+MV  Child  Female   103.0    13.1   \n",
       "2          9983          AV+PV+TV+MV  Child    Male   115.0    19.1   \n",
       "3         13918          AV+PV+TV+MV  Child    Male    98.0    15.9   \n",
       "4         14241          AV+PV+TV+MV  Child    Male    87.0    11.2   \n",
       "..          ...                  ...    ...     ...     ...     ...   \n",
       "937       85340          AV+PV+TV+MV  Child    Male   105.0    16.6   \n",
       "938       85341          AV+PV+TV+MV  Child    Male    92.0    15.2   \n",
       "939       85343          AV+PV+TV+MV  Child  Female    97.0    13.5   \n",
       "940       85345                AV+PV  Child  Female   132.0    38.1   \n",
       "941       85349             AV+PV+TV    NaN  Female     NaN     NaN   \n",
       "\n",
       "     Pregnancy status   Murmur Murmur locations Most audible location  ...  \\\n",
       "0               False   Absent              NaN                   NaN  ...   \n",
       "1               False  Present      AV+MV+PV+TV                    TV  ...   \n",
       "2               False  Unknown              NaN                   NaN  ...   \n",
       "3               False  Present               TV                    TV  ...   \n",
       "4               False  Present      AV+MV+PV+TV                    PV  ...   \n",
       "..                ...      ...              ...                   ...  ...   \n",
       "937             False   Absent              NaN                   NaN  ...   \n",
       "938             False   Absent              NaN                   NaN  ...   \n",
       "939             False  Present            MV+TV                    TV  ...   \n",
       "940             False   Absent              NaN                   NaN  ...   \n",
       "941              True   Absent              NaN                   NaN  ...   \n",
       "\n",
       "    Systolic murmur pitch Systolic murmur quality Diastolic murmur timing  \\\n",
       "0                     NaN                     NaN                     NaN   \n",
       "1                    High                   Harsh                     NaN   \n",
       "2                     NaN                     NaN                     NaN   \n",
       "3                     Low                 Blowing                     NaN   \n",
       "4                     Low                   Harsh                     NaN   \n",
       "..                    ...                     ...                     ...   \n",
       "937                   NaN                     NaN                     NaN   \n",
       "938                   NaN                     NaN                     NaN   \n",
       "939                   Low                 Blowing                     NaN   \n",
       "940                   NaN                     NaN                     NaN   \n",
       "941                   NaN                     NaN                     NaN   \n",
       "\n",
       "    Diastolic murmur shape Diastolic murmur grading Diastolic murmur pitch  \\\n",
       "0                      NaN                      NaN                    NaN   \n",
       "1                      NaN                      NaN                    NaN   \n",
       "2                      NaN                      NaN                    NaN   \n",
       "3                      NaN                      NaN                    NaN   \n",
       "4                      NaN                      NaN                    NaN   \n",
       "..                     ...                      ...                    ...   \n",
       "937                    NaN                      NaN                    NaN   \n",
       "938                    NaN                      NaN                    NaN   \n",
       "939                    NaN                      NaN                    NaN   \n",
       "940                    NaN                      NaN                    NaN   \n",
       "941                    NaN                      NaN                    NaN   \n",
       "\n",
       "    Diastolic murmur quality   Outcome Campaign Additional ID  \n",
       "0                        NaN  Abnormal   CC2015           NaN  \n",
       "1                        NaN  Abnormal   CC2015           NaN  \n",
       "2                        NaN  Abnormal   CC2015           NaN  \n",
       "3                        NaN  Abnormal   CC2015           NaN  \n",
       "4                        NaN  Abnormal   CC2015           NaN  \n",
       "..                       ...       ...      ...           ...  \n",
       "937                      NaN    Normal   CC2015           NaN  \n",
       "938                      NaN    Normal   CC2015           NaN  \n",
       "939                      NaN  Abnormal   CC2015           NaN  \n",
       "940                      NaN    Normal   CC2015           NaN  \n",
       "941                      NaN    Normal   CC2015           NaN  \n",
       "\n",
       "[942 rows x 23 columns]"
      ]
     },
     "execution_count": 2,
     "metadata": {},
     "output_type": "execute_result"
    }
   ],
   "source": [
    "circor_raw_df = pd.read_csv('../circor/training_data.csv') #This is the recently edited dataframe from Google cloud\n",
    "circor_raw_df"
   ]
  },
  {
   "cell_type": "markdown",
   "id": "03b65a4b",
   "metadata": {},
   "source": [
    "## Selection by age-groups [Non-adoloscents or only children]"
   ]
  },
  {
   "cell_type": "code",
   "execution_count": 3,
   "id": "3f4ed571",
   "metadata": {},
   "outputs": [
    {
     "data": {
      "text/plain": [
       "Child         664\n",
       "Infant        126\n",
       "Adolescent     72\n",
       "Neonate         6\n",
       "Name: Age, dtype: int64"
      ]
     },
     "execution_count": 3,
     "metadata": {},
     "output_type": "execute_result"
    }
   ],
   "source": [
    "circor_raw_df.loc[:,'Age'].value_counts()"
   ]
  },
  {
   "cell_type": "code",
   "execution_count": 4,
   "id": "a358e7d9",
   "metadata": {},
   "outputs": [
    {
     "data": {
      "text/plain": [
       "Index(['Patient ID', 'Recording locations:', 'Age', 'Sex', 'Height', 'Weight',\n",
       "       'Pregnancy status', 'Murmur', 'Murmur locations',\n",
       "       'Most audible location', 'Systolic murmur timing',\n",
       "       'Systolic murmur shape', 'Systolic murmur grading',\n",
       "       'Systolic murmur pitch', 'Systolic murmur quality',\n",
       "       'Diastolic murmur timing', 'Diastolic murmur shape',\n",
       "       'Diastolic murmur grading', 'Diastolic murmur pitch',\n",
       "       'Diastolic murmur quality', 'Outcome', 'Campaign', 'Additional ID'],\n",
       "      dtype='object')"
      ]
     },
     "execution_count": 4,
     "metadata": {},
     "output_type": "execute_result"
    }
   ],
   "source": [
    "circor_raw_df.columns"
   ]
  },
  {
   "cell_type": "code",
   "execution_count": 5,
   "id": "a04f6997",
   "metadata": {},
   "outputs": [
    {
     "data": {
      "text/html": [
       "<div>\n",
       "<style scoped>\n",
       "    .dataframe tbody tr th:only-of-type {\n",
       "        vertical-align: middle;\n",
       "    }\n",
       "\n",
       "    .dataframe tbody tr th {\n",
       "        vertical-align: top;\n",
       "    }\n",
       "\n",
       "    .dataframe thead th {\n",
       "        text-align: right;\n",
       "    }\n",
       "</style>\n",
       "<table border=\"1\" class=\"dataframe\">\n",
       "  <thead>\n",
       "    <tr style=\"text-align: right;\">\n",
       "      <th></th>\n",
       "      <th>Patient ID</th>\n",
       "    </tr>\n",
       "  </thead>\n",
       "  <tbody>\n",
       "    <tr>\n",
       "      <th>0</th>\n",
       "      <td>2530</td>\n",
       "    </tr>\n",
       "    <tr>\n",
       "      <th>1</th>\n",
       "      <td>9979</td>\n",
       "    </tr>\n",
       "    <tr>\n",
       "      <th>2</th>\n",
       "      <td>9983</td>\n",
       "    </tr>\n",
       "    <tr>\n",
       "      <th>3</th>\n",
       "      <td>13918</td>\n",
       "    </tr>\n",
       "    <tr>\n",
       "      <th>4</th>\n",
       "      <td>14241</td>\n",
       "    </tr>\n",
       "    <tr>\n",
       "      <th>...</th>\n",
       "      <td>...</td>\n",
       "    </tr>\n",
       "    <tr>\n",
       "      <th>937</th>\n",
       "      <td>85340</td>\n",
       "    </tr>\n",
       "    <tr>\n",
       "      <th>938</th>\n",
       "      <td>85341</td>\n",
       "    </tr>\n",
       "    <tr>\n",
       "      <th>939</th>\n",
       "      <td>85343</td>\n",
       "    </tr>\n",
       "    <tr>\n",
       "      <th>940</th>\n",
       "      <td>85345</td>\n",
       "    </tr>\n",
       "    <tr>\n",
       "      <th>941</th>\n",
       "      <td>85349</td>\n",
       "    </tr>\n",
       "  </tbody>\n",
       "</table>\n",
       "<p>870 rows × 1 columns</p>\n",
       "</div>"
      ],
      "text/plain": [
       "     Patient ID\n",
       "0          2530\n",
       "1          9979\n",
       "2          9983\n",
       "3         13918\n",
       "4         14241\n",
       "..          ...\n",
       "937       85340\n",
       "938       85341\n",
       "939       85343\n",
       "940       85345\n",
       "941       85349\n",
       "\n",
       "[870 rows x 1 columns]"
      ]
     },
     "execution_count": 5,
     "metadata": {},
     "output_type": "execute_result"
    }
   ],
   "source": [
    "non_adolescent_patients = circor_raw_df[~(circor_raw_df['Age']=='Adolescent')].loc[:, ['Patient ID']]\n",
    "non_adolescent_patients"
   ]
  },
  {
   "cell_type": "code",
   "execution_count": 6,
   "id": "4a398ced",
   "metadata": {},
   "outputs": [
    {
     "data": {
      "text/html": [
       "<div>\n",
       "<style scoped>\n",
       "    .dataframe tbody tr th:only-of-type {\n",
       "        vertical-align: middle;\n",
       "    }\n",
       "\n",
       "    .dataframe tbody tr th {\n",
       "        vertical-align: top;\n",
       "    }\n",
       "\n",
       "    .dataframe thead th {\n",
       "        text-align: right;\n",
       "    }\n",
       "</style>\n",
       "<table border=\"1\" class=\"dataframe\">\n",
       "  <thead>\n",
       "    <tr style=\"text-align: right;\">\n",
       "      <th></th>\n",
       "      <th>Patient ID</th>\n",
       "    </tr>\n",
       "  </thead>\n",
       "  <tbody>\n",
       "    <tr>\n",
       "      <th>0</th>\n",
       "      <td>2530</td>\n",
       "    </tr>\n",
       "    <tr>\n",
       "      <th>1</th>\n",
       "      <td>9979</td>\n",
       "    </tr>\n",
       "    <tr>\n",
       "      <th>2</th>\n",
       "      <td>9983</td>\n",
       "    </tr>\n",
       "    <tr>\n",
       "      <th>3</th>\n",
       "      <td>13918</td>\n",
       "    </tr>\n",
       "    <tr>\n",
       "      <th>4</th>\n",
       "      <td>14241</td>\n",
       "    </tr>\n",
       "    <tr>\n",
       "      <th>...</th>\n",
       "      <td>...</td>\n",
       "    </tr>\n",
       "    <tr>\n",
       "      <th>865</th>\n",
       "      <td>85340</td>\n",
       "    </tr>\n",
       "    <tr>\n",
       "      <th>866</th>\n",
       "      <td>85341</td>\n",
       "    </tr>\n",
       "    <tr>\n",
       "      <th>867</th>\n",
       "      <td>85343</td>\n",
       "    </tr>\n",
       "    <tr>\n",
       "      <th>868</th>\n",
       "      <td>85345</td>\n",
       "    </tr>\n",
       "    <tr>\n",
       "      <th>869</th>\n",
       "      <td>85349</td>\n",
       "    </tr>\n",
       "  </tbody>\n",
       "</table>\n",
       "<p>870 rows × 1 columns</p>\n",
       "</div>"
      ],
      "text/plain": [
       "     Patient ID\n",
       "0          2530\n",
       "1          9979\n",
       "2          9983\n",
       "3         13918\n",
       "4         14241\n",
       "..          ...\n",
       "865       85340\n",
       "866       85341\n",
       "867       85343\n",
       "868       85345\n",
       "869       85349\n",
       "\n",
       "[870 rows x 1 columns]"
      ]
     },
     "execution_count": 6,
     "metadata": {},
     "output_type": "execute_result"
    }
   ],
   "source": [
    "non_adolescent_patients = non_adolescent_patients.reset_index(drop=True)\n",
    "non_adolescent_patients"
   ]
  },
  {
   "cell_type": "code",
   "execution_count": 7,
   "id": "cd9cc081",
   "metadata": {},
   "outputs": [
    {
     "data": {
      "text/html": [
       "<div>\n",
       "<style scoped>\n",
       "    .dataframe tbody tr th:only-of-type {\n",
       "        vertical-align: middle;\n",
       "    }\n",
       "\n",
       "    .dataframe tbody tr th {\n",
       "        vertical-align: top;\n",
       "    }\n",
       "\n",
       "    .dataframe thead th {\n",
       "        text-align: right;\n",
       "    }\n",
       "</style>\n",
       "<table border=\"1\" class=\"dataframe\">\n",
       "  <thead>\n",
       "    <tr style=\"text-align: right;\">\n",
       "      <th></th>\n",
       "      <th>Patient ID</th>\n",
       "    </tr>\n",
       "  </thead>\n",
       "  <tbody>\n",
       "    <tr>\n",
       "      <th>12</th>\n",
       "      <td>36327</td>\n",
       "    </tr>\n",
       "    <tr>\n",
       "      <th>19</th>\n",
       "      <td>40840</td>\n",
       "    </tr>\n",
       "    <tr>\n",
       "      <th>21</th>\n",
       "      <td>44514</td>\n",
       "    </tr>\n",
       "    <tr>\n",
       "      <th>22</th>\n",
       "      <td>45843</td>\n",
       "    </tr>\n",
       "    <tr>\n",
       "      <th>26</th>\n",
       "      <td>46778</td>\n",
       "    </tr>\n",
       "    <tr>\n",
       "      <th>...</th>\n",
       "      <td>...</td>\n",
       "    </tr>\n",
       "    <tr>\n",
       "      <th>860</th>\n",
       "      <td>85207</td>\n",
       "    </tr>\n",
       "    <tr>\n",
       "      <th>866</th>\n",
       "      <td>85217</td>\n",
       "    </tr>\n",
       "    <tr>\n",
       "      <th>876</th>\n",
       "      <td>85236</td>\n",
       "    </tr>\n",
       "    <tr>\n",
       "      <th>889</th>\n",
       "      <td>85253</td>\n",
       "    </tr>\n",
       "    <tr>\n",
       "      <th>924</th>\n",
       "      <td>85323</td>\n",
       "    </tr>\n",
       "  </tbody>\n",
       "</table>\n",
       "<p>72 rows × 1 columns</p>\n",
       "</div>"
      ],
      "text/plain": [
       "     Patient ID\n",
       "12        36327\n",
       "19        40840\n",
       "21        44514\n",
       "22        45843\n",
       "26        46778\n",
       "..          ...\n",
       "860       85207\n",
       "866       85217\n",
       "876       85236\n",
       "889       85253\n",
       "924       85323\n",
       "\n",
       "[72 rows x 1 columns]"
      ]
     },
     "execution_count": 7,
     "metadata": {},
     "output_type": "execute_result"
    }
   ],
   "source": [
    "adolescent_patients = circor_raw_df[(circor_raw_df['Age']=='Adolescent')].loc[:, ['Patient ID']]\n",
    "adolescent_patients"
   ]
  },
  {
   "cell_type": "code",
   "execution_count": 8,
   "id": "175a514c",
   "metadata": {},
   "outputs": [
    {
     "data": {
      "text/plain": [
       "(72, 1)"
      ]
     },
     "execution_count": 8,
     "metadata": {},
     "output_type": "execute_result"
    }
   ],
   "source": [
    "_.shape"
   ]
  },
  {
   "cell_type": "markdown",
   "id": "8bd401be",
   "metadata": {},
   "source": [
    "**In the following we shall study only child patients for better grouping the heartbeat rates**"
   ]
  },
  {
   "cell_type": "code",
   "execution_count": 9,
   "id": "a70c45d7",
   "metadata": {},
   "outputs": [
    {
     "data": {
      "text/html": [
       "<div>\n",
       "<style scoped>\n",
       "    .dataframe tbody tr th:only-of-type {\n",
       "        vertical-align: middle;\n",
       "    }\n",
       "\n",
       "    .dataframe tbody tr th {\n",
       "        vertical-align: top;\n",
       "    }\n",
       "\n",
       "    .dataframe thead th {\n",
       "        text-align: right;\n",
       "    }\n",
       "</style>\n",
       "<table border=\"1\" class=\"dataframe\">\n",
       "  <thead>\n",
       "    <tr style=\"text-align: right;\">\n",
       "      <th></th>\n",
       "      <th>Patient ID</th>\n",
       "    </tr>\n",
       "  </thead>\n",
       "  <tbody>\n",
       "    <tr>\n",
       "      <th>0</th>\n",
       "      <td>2530</td>\n",
       "    </tr>\n",
       "    <tr>\n",
       "      <th>1</th>\n",
       "      <td>9979</td>\n",
       "    </tr>\n",
       "    <tr>\n",
       "      <th>2</th>\n",
       "      <td>9983</td>\n",
       "    </tr>\n",
       "    <tr>\n",
       "      <th>3</th>\n",
       "      <td>13918</td>\n",
       "    </tr>\n",
       "    <tr>\n",
       "      <th>4</th>\n",
       "      <td>14241</td>\n",
       "    </tr>\n",
       "    <tr>\n",
       "      <th>...</th>\n",
       "      <td>...</td>\n",
       "    </tr>\n",
       "    <tr>\n",
       "      <th>659</th>\n",
       "      <td>85337</td>\n",
       "    </tr>\n",
       "    <tr>\n",
       "      <th>660</th>\n",
       "      <td>85340</td>\n",
       "    </tr>\n",
       "    <tr>\n",
       "      <th>661</th>\n",
       "      <td>85341</td>\n",
       "    </tr>\n",
       "    <tr>\n",
       "      <th>662</th>\n",
       "      <td>85343</td>\n",
       "    </tr>\n",
       "    <tr>\n",
       "      <th>663</th>\n",
       "      <td>85345</td>\n",
       "    </tr>\n",
       "  </tbody>\n",
       "</table>\n",
       "<p>664 rows × 1 columns</p>\n",
       "</div>"
      ],
      "text/plain": [
       "     Patient ID\n",
       "0          2530\n",
       "1          9979\n",
       "2          9983\n",
       "3         13918\n",
       "4         14241\n",
       "..          ...\n",
       "659       85337\n",
       "660       85340\n",
       "661       85341\n",
       "662       85343\n",
       "663       85345\n",
       "\n",
       "[664 rows x 1 columns]"
      ]
     },
     "execution_count": 9,
     "metadata": {},
     "output_type": "execute_result"
    }
   ],
   "source": [
    "child_patients = circor_raw_df[(circor_raw_df['Age']=='Child')].loc[:, ['Patient ID']]\n",
    "child_patients = child_patients.reset_index(drop=True)\n",
    "child_patients"
   ]
  },
  {
   "cell_type": "markdown",
   "id": "71590b27",
   "metadata": {},
   "source": [
    "## Selected dataframe with numpy arrays"
   ]
  },
  {
   "cell_type": "code",
   "execution_count": 10,
   "id": "0d7dc7ce",
   "metadata": {},
   "outputs": [
    {
     "data": {
      "text/html": [
       "<div>\n",
       "<style scoped>\n",
       "    .dataframe tbody tr th:only-of-type {\n",
       "        vertical-align: middle;\n",
       "    }\n",
       "\n",
       "    .dataframe tbody tr th {\n",
       "        vertical-align: top;\n",
       "    }\n",
       "\n",
       "    .dataframe thead th {\n",
       "        text-align: right;\n",
       "    }\n",
       "</style>\n",
       "<table border=\"1\" class=\"dataframe\">\n",
       "  <thead>\n",
       "    <tr style=\"text-align: right;\">\n",
       "      <th></th>\n",
       "      <th>patient_id</th>\n",
       "      <th>select</th>\n",
       "      <th>audible</th>\n",
       "      <th>outcome</th>\n",
       "    </tr>\n",
       "  </thead>\n",
       "  <tbody>\n",
       "    <tr>\n",
       "      <th>0</th>\n",
       "      <td>2530</td>\n",
       "      <td>TV</td>\n",
       "      <td>TV</td>\n",
       "      <td>Abnormal</td>\n",
       "    </tr>\n",
       "    <tr>\n",
       "      <th>1</th>\n",
       "      <td>9979</td>\n",
       "      <td>TV</td>\n",
       "      <td>TV</td>\n",
       "      <td>Abnormal</td>\n",
       "    </tr>\n",
       "    <tr>\n",
       "      <th>2</th>\n",
       "      <td>13918</td>\n",
       "      <td>PV</td>\n",
       "      <td>TV</td>\n",
       "      <td>Abnormal</td>\n",
       "    </tr>\n",
       "    <tr>\n",
       "      <th>3</th>\n",
       "      <td>14241</td>\n",
       "      <td>AV</td>\n",
       "      <td>PV</td>\n",
       "      <td>Abnormal</td>\n",
       "    </tr>\n",
       "    <tr>\n",
       "      <th>4</th>\n",
       "      <td>14998</td>\n",
       "      <td>AV</td>\n",
       "      <td>AV</td>\n",
       "      <td>Abnormal</td>\n",
       "    </tr>\n",
       "    <tr>\n",
       "      <th>...</th>\n",
       "      <td>...</td>\n",
       "      <td>...</td>\n",
       "      <td>...</td>\n",
       "      <td>...</td>\n",
       "    </tr>\n",
       "    <tr>\n",
       "      <th>514</th>\n",
       "      <td>85337</td>\n",
       "      <td>PV</td>\n",
       "      <td>PV</td>\n",
       "      <td>Normal</td>\n",
       "    </tr>\n",
       "    <tr>\n",
       "      <th>515</th>\n",
       "      <td>85338</td>\n",
       "      <td>AV</td>\n",
       "      <td>AV</td>\n",
       "      <td>Normal</td>\n",
       "    </tr>\n",
       "    <tr>\n",
       "      <th>516</th>\n",
       "      <td>85340</td>\n",
       "      <td>PV</td>\n",
       "      <td>PV</td>\n",
       "      <td>Normal</td>\n",
       "    </tr>\n",
       "    <tr>\n",
       "      <th>517</th>\n",
       "      <td>85341</td>\n",
       "      <td>MV</td>\n",
       "      <td>MV</td>\n",
       "      <td>Normal</td>\n",
       "    </tr>\n",
       "    <tr>\n",
       "      <th>518</th>\n",
       "      <td>85343</td>\n",
       "      <td>PV</td>\n",
       "      <td>TV</td>\n",
       "      <td>Abnormal</td>\n",
       "    </tr>\n",
       "  </tbody>\n",
       "</table>\n",
       "<p>519 rows × 4 columns</p>\n",
       "</div>"
      ],
      "text/plain": [
       "     patient_id select audible   outcome\n",
       "0          2530     TV      TV  Abnormal\n",
       "1          9979     TV      TV  Abnormal\n",
       "2         13918     PV      TV  Abnormal\n",
       "3         14241     AV      PV  Abnormal\n",
       "4         14998     AV      AV  Abnormal\n",
       "..          ...    ...     ...       ...\n",
       "514       85337     PV      PV    Normal\n",
       "515       85338     AV      AV    Normal\n",
       "516       85340     PV      PV    Normal\n",
       "517       85341     MV      MV    Normal\n",
       "518       85343     PV      TV  Abnormal\n",
       "\n",
       "[519 rows x 4 columns]"
      ]
     },
     "execution_count": 10,
     "metadata": {},
     "output_type": "execute_result"
    }
   ],
   "source": [
    "circor_df = pd.read_csv('../circor/processed_data/df_new.csv')\n",
    "circor_df"
   ]
  },
  {
   "cell_type": "code",
   "execution_count": 11,
   "id": "9bfda955",
   "metadata": {},
   "outputs": [
    {
     "name": "stdout",
     "output_type": "stream",
     "text": [
      "<class 'pandas.core.frame.DataFrame'>\n",
      "RangeIndex: 519 entries, 0 to 518\n",
      "Data columns (total 4 columns):\n",
      " #   Column      Non-Null Count  Dtype \n",
      "---  ------      --------------  ----- \n",
      " 0   patient_id  519 non-null    int64 \n",
      " 1   select      519 non-null    object\n",
      " 2   audible     519 non-null    object\n",
      " 3   outcome     519 non-null    object\n",
      "dtypes: int64(1), object(3)\n",
      "memory usage: 16.3+ KB\n"
     ]
    }
   ],
   "source": [
    "circor_df.info()"
   ]
  },
  {
   "cell_type": "code",
   "execution_count": 12,
   "id": "98ef82ad",
   "metadata": {},
   "outputs": [],
   "source": [
    "# circor_df_1 = circor_df[~circor_df['patient_id'].isin(list(adolescent_patients.loc[:, 'Patient ID']))]\n",
    "# circor_df_2 = circor_df_1.reset_index(drop=True)\n",
    "# circor_df_2"
   ]
  },
  {
   "cell_type": "code",
   "execution_count": 13,
   "id": "618f5750",
   "metadata": {},
   "outputs": [
    {
     "data": {
      "text/html": [
       "<div>\n",
       "<style scoped>\n",
       "    .dataframe tbody tr th:only-of-type {\n",
       "        vertical-align: middle;\n",
       "    }\n",
       "\n",
       "    .dataframe tbody tr th {\n",
       "        vertical-align: top;\n",
       "    }\n",
       "\n",
       "    .dataframe thead th {\n",
       "        text-align: right;\n",
       "    }\n",
       "</style>\n",
       "<table border=\"1\" class=\"dataframe\">\n",
       "  <thead>\n",
       "    <tr style=\"text-align: right;\">\n",
       "      <th></th>\n",
       "      <th>patient_id</th>\n",
       "      <th>select</th>\n",
       "      <th>audible</th>\n",
       "      <th>outcome</th>\n",
       "    </tr>\n",
       "  </thead>\n",
       "  <tbody>\n",
       "    <tr>\n",
       "      <th>0</th>\n",
       "      <td>2530</td>\n",
       "      <td>TV</td>\n",
       "      <td>TV</td>\n",
       "      <td>Abnormal</td>\n",
       "    </tr>\n",
       "    <tr>\n",
       "      <th>1</th>\n",
       "      <td>9979</td>\n",
       "      <td>TV</td>\n",
       "      <td>TV</td>\n",
       "      <td>Abnormal</td>\n",
       "    </tr>\n",
       "    <tr>\n",
       "      <th>2</th>\n",
       "      <td>13918</td>\n",
       "      <td>PV</td>\n",
       "      <td>TV</td>\n",
       "      <td>Abnormal</td>\n",
       "    </tr>\n",
       "    <tr>\n",
       "      <th>3</th>\n",
       "      <td>14241</td>\n",
       "      <td>AV</td>\n",
       "      <td>PV</td>\n",
       "      <td>Abnormal</td>\n",
       "    </tr>\n",
       "    <tr>\n",
       "      <th>4</th>\n",
       "      <td>14998</td>\n",
       "      <td>AV</td>\n",
       "      <td>AV</td>\n",
       "      <td>Abnormal</td>\n",
       "    </tr>\n",
       "    <tr>\n",
       "      <th>...</th>\n",
       "      <td>...</td>\n",
       "      <td>...</td>\n",
       "      <td>...</td>\n",
       "      <td>...</td>\n",
       "    </tr>\n",
       "    <tr>\n",
       "      <th>423</th>\n",
       "      <td>85334</td>\n",
       "      <td>TV</td>\n",
       "      <td>TV</td>\n",
       "      <td>Normal</td>\n",
       "    </tr>\n",
       "    <tr>\n",
       "      <th>424</th>\n",
       "      <td>85337</td>\n",
       "      <td>PV</td>\n",
       "      <td>PV</td>\n",
       "      <td>Normal</td>\n",
       "    </tr>\n",
       "    <tr>\n",
       "      <th>425</th>\n",
       "      <td>85340</td>\n",
       "      <td>PV</td>\n",
       "      <td>PV</td>\n",
       "      <td>Normal</td>\n",
       "    </tr>\n",
       "    <tr>\n",
       "      <th>426</th>\n",
       "      <td>85341</td>\n",
       "      <td>MV</td>\n",
       "      <td>MV</td>\n",
       "      <td>Normal</td>\n",
       "    </tr>\n",
       "    <tr>\n",
       "      <th>427</th>\n",
       "      <td>85343</td>\n",
       "      <td>PV</td>\n",
       "      <td>TV</td>\n",
       "      <td>Abnormal</td>\n",
       "    </tr>\n",
       "  </tbody>\n",
       "</table>\n",
       "<p>428 rows × 4 columns</p>\n",
       "</div>"
      ],
      "text/plain": [
       "     patient_id select audible   outcome\n",
       "0          2530     TV      TV  Abnormal\n",
       "1          9979     TV      TV  Abnormal\n",
       "2         13918     PV      TV  Abnormal\n",
       "3         14241     AV      PV  Abnormal\n",
       "4         14998     AV      AV  Abnormal\n",
       "..          ...    ...     ...       ...\n",
       "423       85334     TV      TV    Normal\n",
       "424       85337     PV      PV    Normal\n",
       "425       85340     PV      PV    Normal\n",
       "426       85341     MV      MV    Normal\n",
       "427       85343     PV      TV  Abnormal\n",
       "\n",
       "[428 rows x 4 columns]"
      ]
     },
     "execution_count": 13,
     "metadata": {},
     "output_type": "execute_result"
    }
   ],
   "source": [
    "circor_df_1 = circor_df[circor_df['patient_id'].isin(list(child_patients.loc[:, 'Patient ID']))]\n",
    "circor_df_2 = circor_df_1.reset_index(drop=True)\n",
    "circor_df_2"
   ]
  },
  {
   "cell_type": "code",
   "execution_count": 119,
   "id": "ec82af4f",
   "metadata": {},
   "outputs": [],
   "source": [
    "# circor_df = circor_df.loc[0:-1]\n",
    "# circor_df"
   ]
  },
  {
   "cell_type": "code",
   "execution_count": 14,
   "id": "6011980c",
   "metadata": {},
   "outputs": [
    {
     "name": "stdout",
     "output_type": "stream",
     "text": [
      "<class 'pandas.core.frame.DataFrame'>\n",
      "RangeIndex: 428 entries, 0 to 427\n",
      "Data columns (total 4 columns):\n",
      " #   Column      Non-Null Count  Dtype \n",
      "---  ------      --------------  ----- \n",
      " 0   patient_id  428 non-null    int64 \n",
      " 1   select      428 non-null    object\n",
      " 2   audible     428 non-null    object\n",
      " 3   outcome     428 non-null    object\n",
      "dtypes: int64(1), object(3)\n",
      "memory usage: 13.5+ KB\n"
     ]
    }
   ],
   "source": [
    "circor_df_2.info()"
   ]
  },
  {
   "cell_type": "code",
   "execution_count": 139,
   "id": "f992d3a3",
   "metadata": {},
   "outputs": [],
   "source": [
    "# npy_list_no_adol = [np.load(f'../circor/processed_data/npy_files/{circor_df_2.iloc[ind][\"patient_id\"]}_{circor_df_2.iloc[ind][\"audible\"]}.npy')[:2400] \\\n",
    "#             for ind in circor_df_2.index]"
   ]
  },
  {
   "cell_type": "code",
   "execution_count": 122,
   "id": "6e18e3a9",
   "metadata": {},
   "outputs": [],
   "source": [
    "# for row in circor_df.iterrows():\n",
    "#     print(row)"
   ]
  },
  {
   "cell_type": "code",
   "execution_count": 15,
   "id": "f276a214",
   "metadata": {},
   "outputs": [
    {
     "data": {
      "text/html": [
       "<div>\n",
       "<style scoped>\n",
       "    .dataframe tbody tr th:only-of-type {\n",
       "        vertical-align: middle;\n",
       "    }\n",
       "\n",
       "    .dataframe tbody tr th {\n",
       "        vertical-align: top;\n",
       "    }\n",
       "\n",
       "    .dataframe thead th {\n",
       "        text-align: right;\n",
       "    }\n",
       "</style>\n",
       "<table border=\"1\" class=\"dataframe\">\n",
       "  <thead>\n",
       "    <tr style=\"text-align: right;\">\n",
       "      <th></th>\n",
       "      <th>patient_id</th>\n",
       "      <th>select</th>\n",
       "      <th>audible</th>\n",
       "      <th>outcome</th>\n",
       "      <th>npy_arrays</th>\n",
       "    </tr>\n",
       "  </thead>\n",
       "  <tbody>\n",
       "    <tr>\n",
       "      <th>0</th>\n",
       "      <td>2530</td>\n",
       "      <td>TV</td>\n",
       "      <td>TV</td>\n",
       "      <td>Abnormal</td>\n",
       "      <td>[-0.014939931, -0.015137674, -0.015344764, -0....</td>\n",
       "    </tr>\n",
       "    <tr>\n",
       "      <th>1</th>\n",
       "      <td>9979</td>\n",
       "      <td>TV</td>\n",
       "      <td>TV</td>\n",
       "      <td>Abnormal</td>\n",
       "      <td>[0.009304384, 0.021842243, 0.03387945, 0.04530...</td>\n",
       "    </tr>\n",
       "    <tr>\n",
       "      <th>2</th>\n",
       "      <td>13918</td>\n",
       "      <td>PV</td>\n",
       "      <td>TV</td>\n",
       "      <td>Abnormal</td>\n",
       "      <td>[-0.0057269894, -0.0052762283, -0.0048356913, ...</td>\n",
       "    </tr>\n",
       "    <tr>\n",
       "      <th>3</th>\n",
       "      <td>14241</td>\n",
       "      <td>AV</td>\n",
       "      <td>PV</td>\n",
       "      <td>Abnormal</td>\n",
       "      <td>[-0.02624997, -0.02599725, -0.025725888, -0.02...</td>\n",
       "    </tr>\n",
       "    <tr>\n",
       "      <th>4</th>\n",
       "      <td>14998</td>\n",
       "      <td>AV</td>\n",
       "      <td>AV</td>\n",
       "      <td>Abnormal</td>\n",
       "      <td>[-0.006009835, -0.005675483, -0.005332388, -0....</td>\n",
       "    </tr>\n",
       "    <tr>\n",
       "      <th>...</th>\n",
       "      <td>...</td>\n",
       "      <td>...</td>\n",
       "      <td>...</td>\n",
       "      <td>...</td>\n",
       "      <td>...</td>\n",
       "    </tr>\n",
       "    <tr>\n",
       "      <th>423</th>\n",
       "      <td>85334</td>\n",
       "      <td>TV</td>\n",
       "      <td>TV</td>\n",
       "      <td>Normal</td>\n",
       "      <td>[-0.033141844, -0.029803721, -0.02654953, -0.0...</td>\n",
       "    </tr>\n",
       "    <tr>\n",
       "      <th>424</th>\n",
       "      <td>85337</td>\n",
       "      <td>PV</td>\n",
       "      <td>PV</td>\n",
       "      <td>Normal</td>\n",
       "      <td>[0.000518905, -0.0009550942, -0.0023938122, -0...</td>\n",
       "    </tr>\n",
       "    <tr>\n",
       "      <th>425</th>\n",
       "      <td>85340</td>\n",
       "      <td>PV</td>\n",
       "      <td>PV</td>\n",
       "      <td>Normal</td>\n",
       "      <td>[-0.031074673, -0.029285496, -0.027446643, -0....</td>\n",
       "    </tr>\n",
       "    <tr>\n",
       "      <th>426</th>\n",
       "      <td>85341</td>\n",
       "      <td>MV</td>\n",
       "      <td>MV</td>\n",
       "      <td>Normal</td>\n",
       "      <td>[0.0035850152, 0.003623246, 0.003651578, 0.003...</td>\n",
       "    </tr>\n",
       "    <tr>\n",
       "      <th>427</th>\n",
       "      <td>85343</td>\n",
       "      <td>PV</td>\n",
       "      <td>TV</td>\n",
       "      <td>Abnormal</td>\n",
       "      <td>[0.020302558, 0.01910412, 0.017917423, 0.01674...</td>\n",
       "    </tr>\n",
       "  </tbody>\n",
       "</table>\n",
       "<p>428 rows × 5 columns</p>\n",
       "</div>"
      ],
      "text/plain": [
       "     patient_id select audible   outcome  \\\n",
       "0          2530     TV      TV  Abnormal   \n",
       "1          9979     TV      TV  Abnormal   \n",
       "2         13918     PV      TV  Abnormal   \n",
       "3         14241     AV      PV  Abnormal   \n",
       "4         14998     AV      AV  Abnormal   \n",
       "..          ...    ...     ...       ...   \n",
       "423       85334     TV      TV    Normal   \n",
       "424       85337     PV      PV    Normal   \n",
       "425       85340     PV      PV    Normal   \n",
       "426       85341     MV      MV    Normal   \n",
       "427       85343     PV      TV  Abnormal   \n",
       "\n",
       "                                            npy_arrays  \n",
       "0    [-0.014939931, -0.015137674, -0.015344764, -0....  \n",
       "1    [0.009304384, 0.021842243, 0.03387945, 0.04530...  \n",
       "2    [-0.0057269894, -0.0052762283, -0.0048356913, ...  \n",
       "3    [-0.02624997, -0.02599725, -0.025725888, -0.02...  \n",
       "4    [-0.006009835, -0.005675483, -0.005332388, -0....  \n",
       "..                                                 ...  \n",
       "423  [-0.033141844, -0.029803721, -0.02654953, -0.0...  \n",
       "424  [0.000518905, -0.0009550942, -0.0023938122, -0...  \n",
       "425  [-0.031074673, -0.029285496, -0.027446643, -0....  \n",
       "426  [0.0035850152, 0.003623246, 0.003651578, 0.003...  \n",
       "427  [0.020302558, 0.01910412, 0.017917423, 0.01674...  \n",
       "\n",
       "[428 rows x 5 columns]"
      ]
     },
     "execution_count": 15,
     "metadata": {},
     "output_type": "execute_result"
    }
   ],
   "source": [
    "circor_df_2[\"npy_arrays\"] = circor_df_2.apply(lambda row:\n",
    "                          np.load(f'../circor/processed_data/npy_files/{int(row[0])}_{row[2]}.npy')[:2400], axis=1)\n",
    "circor_df_2"
   ]
  },
  {
   "cell_type": "code",
   "execution_count": 16,
   "id": "e22da125",
   "metadata": {},
   "outputs": [
    {
     "name": "stdout",
     "output_type": "stream",
     "text": [
      "<class 'pandas.core.frame.DataFrame'>\n",
      "RangeIndex: 428 entries, 0 to 427\n",
      "Data columns (total 5 columns):\n",
      " #   Column      Non-Null Count  Dtype \n",
      "---  ------      --------------  ----- \n",
      " 0   patient_id  428 non-null    int64 \n",
      " 1   select      428 non-null    object\n",
      " 2   audible     428 non-null    object\n",
      " 3   outcome     428 non-null    object\n",
      " 4   npy_arrays  428 non-null    object\n",
      "dtypes: int64(1), object(4)\n",
      "memory usage: 16.8+ KB\n"
     ]
    }
   ],
   "source": [
    "circor_df_2.info()"
   ]
  },
  {
   "cell_type": "code",
   "execution_count": 17,
   "id": "f07c2dbf",
   "metadata": {},
   "outputs": [
    {
     "name": "stderr",
     "output_type": "stream",
     "text": [
      "/tmp/ipykernel_33801/46951013.py:2: FutureWarning: In a future version, `df.iloc[:, i] = newvals` will attempt to set the values inplace instead of always setting a new array. To retain the old behavior, use either `df[df.columns[i]] = newvals` or, if columns are non-unique, `df.isetitem(i, newvals)`\n",
      "  circor_df_3.loc[:, 'outcome'] = circor_df_3.loc[:, 'outcome'].map({'Abnormal': 1, 'Normal': 0})\n"
     ]
    },
    {
     "data": {
      "text/html": [
       "<div>\n",
       "<style scoped>\n",
       "    .dataframe tbody tr th:only-of-type {\n",
       "        vertical-align: middle;\n",
       "    }\n",
       "\n",
       "    .dataframe tbody tr th {\n",
       "        vertical-align: top;\n",
       "    }\n",
       "\n",
       "    .dataframe thead th {\n",
       "        text-align: right;\n",
       "    }\n",
       "</style>\n",
       "<table border=\"1\" class=\"dataframe\">\n",
       "  <thead>\n",
       "    <tr style=\"text-align: right;\">\n",
       "      <th></th>\n",
       "      <th>patient_id</th>\n",
       "      <th>npy_arrays</th>\n",
       "      <th>outcome</th>\n",
       "    </tr>\n",
       "  </thead>\n",
       "  <tbody>\n",
       "    <tr>\n",
       "      <th>0</th>\n",
       "      <td>2530</td>\n",
       "      <td>[-0.014939931, -0.015137674, -0.015344764, -0....</td>\n",
       "      <td>1</td>\n",
       "    </tr>\n",
       "    <tr>\n",
       "      <th>1</th>\n",
       "      <td>9979</td>\n",
       "      <td>[0.009304384, 0.021842243, 0.03387945, 0.04530...</td>\n",
       "      <td>1</td>\n",
       "    </tr>\n",
       "    <tr>\n",
       "      <th>2</th>\n",
       "      <td>13918</td>\n",
       "      <td>[-0.0057269894, -0.0052762283, -0.0048356913, ...</td>\n",
       "      <td>1</td>\n",
       "    </tr>\n",
       "    <tr>\n",
       "      <th>3</th>\n",
       "      <td>14241</td>\n",
       "      <td>[-0.02624997, -0.02599725, -0.025725888, -0.02...</td>\n",
       "      <td>1</td>\n",
       "    </tr>\n",
       "    <tr>\n",
       "      <th>4</th>\n",
       "      <td>14998</td>\n",
       "      <td>[-0.006009835, -0.005675483, -0.005332388, -0....</td>\n",
       "      <td>1</td>\n",
       "    </tr>\n",
       "    <tr>\n",
       "      <th>...</th>\n",
       "      <td>...</td>\n",
       "      <td>...</td>\n",
       "      <td>...</td>\n",
       "    </tr>\n",
       "    <tr>\n",
       "      <th>423</th>\n",
       "      <td>85334</td>\n",
       "      <td>[-0.033141844, -0.029803721, -0.02654953, -0.0...</td>\n",
       "      <td>0</td>\n",
       "    </tr>\n",
       "    <tr>\n",
       "      <th>424</th>\n",
       "      <td>85337</td>\n",
       "      <td>[0.000518905, -0.0009550942, -0.0023938122, -0...</td>\n",
       "      <td>0</td>\n",
       "    </tr>\n",
       "    <tr>\n",
       "      <th>425</th>\n",
       "      <td>85340</td>\n",
       "      <td>[-0.031074673, -0.029285496, -0.027446643, -0....</td>\n",
       "      <td>0</td>\n",
       "    </tr>\n",
       "    <tr>\n",
       "      <th>426</th>\n",
       "      <td>85341</td>\n",
       "      <td>[0.0035850152, 0.003623246, 0.003651578, 0.003...</td>\n",
       "      <td>0</td>\n",
       "    </tr>\n",
       "    <tr>\n",
       "      <th>427</th>\n",
       "      <td>85343</td>\n",
       "      <td>[0.020302558, 0.01910412, 0.017917423, 0.01674...</td>\n",
       "      <td>1</td>\n",
       "    </tr>\n",
       "  </tbody>\n",
       "</table>\n",
       "<p>428 rows × 3 columns</p>\n",
       "</div>"
      ],
      "text/plain": [
       "     patient_id                                         npy_arrays  outcome\n",
       "0          2530  [-0.014939931, -0.015137674, -0.015344764, -0....        1\n",
       "1          9979  [0.009304384, 0.021842243, 0.03387945, 0.04530...        1\n",
       "2         13918  [-0.0057269894, -0.0052762283, -0.0048356913, ...        1\n",
       "3         14241  [-0.02624997, -0.02599725, -0.025725888, -0.02...        1\n",
       "4         14998  [-0.006009835, -0.005675483, -0.005332388, -0....        1\n",
       "..          ...                                                ...      ...\n",
       "423       85334  [-0.033141844, -0.029803721, -0.02654953, -0.0...        0\n",
       "424       85337  [0.000518905, -0.0009550942, -0.0023938122, -0...        0\n",
       "425       85340  [-0.031074673, -0.029285496, -0.027446643, -0....        0\n",
       "426       85341  [0.0035850152, 0.003623246, 0.003651578, 0.003...        0\n",
       "427       85343  [0.020302558, 0.01910412, 0.017917423, 0.01674...        1\n",
       "\n",
       "[428 rows x 3 columns]"
      ]
     },
     "execution_count": 17,
     "metadata": {},
     "output_type": "execute_result"
    }
   ],
   "source": [
    "circor_df_3 = circor_df_2.loc[:, ['patient_id', 'npy_arrays', 'outcome']]\n",
    "circor_df_3.loc[:, 'outcome'] = circor_df_3.loc[:, 'outcome'].map({'Abnormal': 1, 'Normal': 0})\n",
    "circor_df_3"
   ]
  },
  {
   "cell_type": "markdown",
   "id": "f2bc5f05",
   "metadata": {},
   "source": [
    "## Train test split"
   ]
  },
  {
   "cell_type": "code",
   "execution_count": 18,
   "id": "d14b95a1",
   "metadata": {},
   "outputs": [],
   "source": [
    "X = circor_df_3.loc[:, 'npy_arrays']\n",
    "y = circor_df_3.loc[:, 'outcome']"
   ]
  },
  {
   "cell_type": "code",
   "execution_count": 19,
   "id": "41e7c022",
   "metadata": {},
   "outputs": [
    {
     "data": {
      "text/html": [
       "<div>\n",
       "<style scoped>\n",
       "    .dataframe tbody tr th:only-of-type {\n",
       "        vertical-align: middle;\n",
       "    }\n",
       "\n",
       "    .dataframe tbody tr th {\n",
       "        vertical-align: top;\n",
       "    }\n",
       "\n",
       "    .dataframe thead th {\n",
       "        text-align: right;\n",
       "    }\n",
       "</style>\n",
       "<table border=\"1\" class=\"dataframe\">\n",
       "  <thead>\n",
       "    <tr style=\"text-align: right;\">\n",
       "      <th></th>\n",
       "      <th>0</th>\n",
       "      <th>1</th>\n",
       "      <th>2</th>\n",
       "      <th>3</th>\n",
       "      <th>4</th>\n",
       "      <th>5</th>\n",
       "      <th>6</th>\n",
       "      <th>7</th>\n",
       "      <th>8</th>\n",
       "      <th>9</th>\n",
       "      <th>...</th>\n",
       "      <th>2390</th>\n",
       "      <th>2391</th>\n",
       "      <th>2392</th>\n",
       "      <th>2393</th>\n",
       "      <th>2394</th>\n",
       "      <th>2395</th>\n",
       "      <th>2396</th>\n",
       "      <th>2397</th>\n",
       "      <th>2398</th>\n",
       "      <th>2399</th>\n",
       "    </tr>\n",
       "  </thead>\n",
       "  <tbody>\n",
       "    <tr>\n",
       "      <th>0</th>\n",
       "      <td>-0.014940</td>\n",
       "      <td>-0.015138</td>\n",
       "      <td>-0.015345</td>\n",
       "      <td>-0.015561</td>\n",
       "      <td>-0.015785</td>\n",
       "      <td>-0.016017</td>\n",
       "      <td>-0.016255</td>\n",
       "      <td>-0.016500</td>\n",
       "      <td>-0.016750</td>\n",
       "      <td>-0.017004</td>\n",
       "      <td>...</td>\n",
       "      <td>-0.021837</td>\n",
       "      <td>-0.020712</td>\n",
       "      <td>-0.019479</td>\n",
       "      <td>-0.018152</td>\n",
       "      <td>-0.016744</td>\n",
       "      <td>-0.015268</td>\n",
       "      <td>-0.013739</td>\n",
       "      <td>-0.012170</td>\n",
       "      <td>-0.010578</td>\n",
       "      <td>-0.008977</td>\n",
       "    </tr>\n",
       "    <tr>\n",
       "      <th>1</th>\n",
       "      <td>0.009304</td>\n",
       "      <td>0.021842</td>\n",
       "      <td>0.033879</td>\n",
       "      <td>0.045306</td>\n",
       "      <td>0.056014</td>\n",
       "      <td>0.065896</td>\n",
       "      <td>0.074863</td>\n",
       "      <td>0.082851</td>\n",
       "      <td>0.089815</td>\n",
       "      <td>0.095731</td>\n",
       "      <td>...</td>\n",
       "      <td>0.050114</td>\n",
       "      <td>0.058153</td>\n",
       "      <td>0.063773</td>\n",
       "      <td>0.067161</td>\n",
       "      <td>0.068616</td>\n",
       "      <td>0.068502</td>\n",
       "      <td>0.067116</td>\n",
       "      <td>0.064680</td>\n",
       "      <td>0.061295</td>\n",
       "      <td>0.056942</td>\n",
       "    </tr>\n",
       "    <tr>\n",
       "      <th>2</th>\n",
       "      <td>-0.005727</td>\n",
       "      <td>-0.005276</td>\n",
       "      <td>-0.004836</td>\n",
       "      <td>-0.004408</td>\n",
       "      <td>-0.003996</td>\n",
       "      <td>-0.003603</td>\n",
       "      <td>-0.003231</td>\n",
       "      <td>-0.002883</td>\n",
       "      <td>-0.002563</td>\n",
       "      <td>-0.002271</td>\n",
       "      <td>...</td>\n",
       "      <td>0.006510</td>\n",
       "      <td>0.007567</td>\n",
       "      <td>0.008368</td>\n",
       "      <td>0.008822</td>\n",
       "      <td>0.008842</td>\n",
       "      <td>0.008344</td>\n",
       "      <td>0.007253</td>\n",
       "      <td>0.005504</td>\n",
       "      <td>0.003052</td>\n",
       "      <td>-0.000126</td>\n",
       "    </tr>\n",
       "    <tr>\n",
       "      <th>3</th>\n",
       "      <td>-0.026250</td>\n",
       "      <td>-0.025997</td>\n",
       "      <td>-0.025726</td>\n",
       "      <td>-0.025434</td>\n",
       "      <td>-0.025120</td>\n",
       "      <td>-0.024778</td>\n",
       "      <td>-0.024405</td>\n",
       "      <td>-0.024001</td>\n",
       "      <td>-0.023565</td>\n",
       "      <td>-0.023100</td>\n",
       "      <td>...</td>\n",
       "      <td>-0.012253</td>\n",
       "      <td>-0.012578</td>\n",
       "      <td>-0.012836</td>\n",
       "      <td>-0.012995</td>\n",
       "      <td>-0.013030</td>\n",
       "      <td>-0.012911</td>\n",
       "      <td>-0.012613</td>\n",
       "      <td>-0.012114</td>\n",
       "      <td>-0.011398</td>\n",
       "      <td>-0.010458</td>\n",
       "    </tr>\n",
       "    <tr>\n",
       "      <th>4</th>\n",
       "      <td>-0.006010</td>\n",
       "      <td>-0.005675</td>\n",
       "      <td>-0.005332</td>\n",
       "      <td>-0.004981</td>\n",
       "      <td>-0.004624</td>\n",
       "      <td>-0.004261</td>\n",
       "      <td>-0.003895</td>\n",
       "      <td>-0.003527</td>\n",
       "      <td>-0.003161</td>\n",
       "      <td>-0.002797</td>\n",
       "      <td>...</td>\n",
       "      <td>0.059234</td>\n",
       "      <td>0.045491</td>\n",
       "      <td>0.014588</td>\n",
       "      <td>-0.020497</td>\n",
       "      <td>-0.046473</td>\n",
       "      <td>-0.056446</td>\n",
       "      <td>-0.048871</td>\n",
       "      <td>-0.030119</td>\n",
       "      <td>-0.013631</td>\n",
       "      <td>-0.010627</td>\n",
       "    </tr>\n",
       "    <tr>\n",
       "      <th>...</th>\n",
       "      <td>...</td>\n",
       "      <td>...</td>\n",
       "      <td>...</td>\n",
       "      <td>...</td>\n",
       "      <td>...</td>\n",
       "      <td>...</td>\n",
       "      <td>...</td>\n",
       "      <td>...</td>\n",
       "      <td>...</td>\n",
       "      <td>...</td>\n",
       "      <td>...</td>\n",
       "      <td>...</td>\n",
       "      <td>...</td>\n",
       "      <td>...</td>\n",
       "      <td>...</td>\n",
       "      <td>...</td>\n",
       "      <td>...</td>\n",
       "      <td>...</td>\n",
       "      <td>...</td>\n",
       "      <td>...</td>\n",
       "      <td>...</td>\n",
       "    </tr>\n",
       "    <tr>\n",
       "      <th>423</th>\n",
       "      <td>-0.033142</td>\n",
       "      <td>-0.029804</td>\n",
       "      <td>-0.026550</td>\n",
       "      <td>-0.023404</td>\n",
       "      <td>-0.020389</td>\n",
       "      <td>-0.017527</td>\n",
       "      <td>-0.014838</td>\n",
       "      <td>-0.012335</td>\n",
       "      <td>-0.010028</td>\n",
       "      <td>-0.007927</td>\n",
       "      <td>...</td>\n",
       "      <td>-0.086332</td>\n",
       "      <td>-0.093527</td>\n",
       "      <td>-0.101049</td>\n",
       "      <td>-0.108533</td>\n",
       "      <td>-0.115540</td>\n",
       "      <td>-0.121655</td>\n",
       "      <td>-0.126665</td>\n",
       "      <td>-0.130605</td>\n",
       "      <td>-0.133600</td>\n",
       "      <td>-0.135789</td>\n",
       "    </tr>\n",
       "    <tr>\n",
       "      <th>424</th>\n",
       "      <td>0.000519</td>\n",
       "      <td>-0.000955</td>\n",
       "      <td>-0.002394</td>\n",
       "      <td>-0.003777</td>\n",
       "      <td>-0.005084</td>\n",
       "      <td>-0.006292</td>\n",
       "      <td>-0.007378</td>\n",
       "      <td>-0.008325</td>\n",
       "      <td>-0.009114</td>\n",
       "      <td>-0.009734</td>\n",
       "      <td>...</td>\n",
       "      <td>0.007789</td>\n",
       "      <td>0.006701</td>\n",
       "      <td>0.005612</td>\n",
       "      <td>0.004599</td>\n",
       "      <td>0.003741</td>\n",
       "      <td>0.003107</td>\n",
       "      <td>0.002742</td>\n",
       "      <td>0.002664</td>\n",
       "      <td>0.002864</td>\n",
       "      <td>0.003301</td>\n",
       "    </tr>\n",
       "    <tr>\n",
       "      <th>425</th>\n",
       "      <td>-0.031075</td>\n",
       "      <td>-0.029285</td>\n",
       "      <td>-0.027447</td>\n",
       "      <td>-0.025559</td>\n",
       "      <td>-0.023625</td>\n",
       "      <td>-0.021648</td>\n",
       "      <td>-0.019631</td>\n",
       "      <td>-0.017578</td>\n",
       "      <td>-0.015496</td>\n",
       "      <td>-0.013390</td>\n",
       "      <td>...</td>\n",
       "      <td>0.114691</td>\n",
       "      <td>0.119021</td>\n",
       "      <td>0.122603</td>\n",
       "      <td>0.125608</td>\n",
       "      <td>0.128198</td>\n",
       "      <td>0.130509</td>\n",
       "      <td>0.132572</td>\n",
       "      <td>0.134369</td>\n",
       "      <td>0.135841</td>\n",
       "      <td>0.136879</td>\n",
       "    </tr>\n",
       "    <tr>\n",
       "      <th>426</th>\n",
       "      <td>0.003585</td>\n",
       "      <td>0.003623</td>\n",
       "      <td>0.003652</td>\n",
       "      <td>0.003670</td>\n",
       "      <td>0.003677</td>\n",
       "      <td>0.003674</td>\n",
       "      <td>0.003660</td>\n",
       "      <td>0.003635</td>\n",
       "      <td>0.003598</td>\n",
       "      <td>0.003551</td>\n",
       "      <td>...</td>\n",
       "      <td>-0.001713</td>\n",
       "      <td>-0.001729</td>\n",
       "      <td>-0.001745</td>\n",
       "      <td>-0.001760</td>\n",
       "      <td>-0.001776</td>\n",
       "      <td>-0.001792</td>\n",
       "      <td>-0.001808</td>\n",
       "      <td>-0.001824</td>\n",
       "      <td>-0.001839</td>\n",
       "      <td>-0.001855</td>\n",
       "    </tr>\n",
       "    <tr>\n",
       "      <th>427</th>\n",
       "      <td>0.020303</td>\n",
       "      <td>0.019104</td>\n",
       "      <td>0.017917</td>\n",
       "      <td>0.016746</td>\n",
       "      <td>0.015595</td>\n",
       "      <td>0.014468</td>\n",
       "      <td>0.013371</td>\n",
       "      <td>0.012308</td>\n",
       "      <td>0.011285</td>\n",
       "      <td>0.010308</td>\n",
       "      <td>...</td>\n",
       "      <td>-0.006325</td>\n",
       "      <td>-0.005318</td>\n",
       "      <td>-0.004125</td>\n",
       "      <td>-0.002775</td>\n",
       "      <td>-0.001303</td>\n",
       "      <td>0.000258</td>\n",
       "      <td>0.001871</td>\n",
       "      <td>0.003497</td>\n",
       "      <td>0.005101</td>\n",
       "      <td>0.006644</td>\n",
       "    </tr>\n",
       "  </tbody>\n",
       "</table>\n",
       "<p>428 rows × 2400 columns</p>\n",
       "</div>"
      ],
      "text/plain": [
       "         0         1         2         3         4         5         6     \\\n",
       "0   -0.014940 -0.015138 -0.015345 -0.015561 -0.015785 -0.016017 -0.016255   \n",
       "1    0.009304  0.021842  0.033879  0.045306  0.056014  0.065896  0.074863   \n",
       "2   -0.005727 -0.005276 -0.004836 -0.004408 -0.003996 -0.003603 -0.003231   \n",
       "3   -0.026250 -0.025997 -0.025726 -0.025434 -0.025120 -0.024778 -0.024405   \n",
       "4   -0.006010 -0.005675 -0.005332 -0.004981 -0.004624 -0.004261 -0.003895   \n",
       "..        ...       ...       ...       ...       ...       ...       ...   \n",
       "423 -0.033142 -0.029804 -0.026550 -0.023404 -0.020389 -0.017527 -0.014838   \n",
       "424  0.000519 -0.000955 -0.002394 -0.003777 -0.005084 -0.006292 -0.007378   \n",
       "425 -0.031075 -0.029285 -0.027447 -0.025559 -0.023625 -0.021648 -0.019631   \n",
       "426  0.003585  0.003623  0.003652  0.003670  0.003677  0.003674  0.003660   \n",
       "427  0.020303  0.019104  0.017917  0.016746  0.015595  0.014468  0.013371   \n",
       "\n",
       "         7         8         9     ...      2390      2391      2392  \\\n",
       "0   -0.016500 -0.016750 -0.017004  ... -0.021837 -0.020712 -0.019479   \n",
       "1    0.082851  0.089815  0.095731  ...  0.050114  0.058153  0.063773   \n",
       "2   -0.002883 -0.002563 -0.002271  ...  0.006510  0.007567  0.008368   \n",
       "3   -0.024001 -0.023565 -0.023100  ... -0.012253 -0.012578 -0.012836   \n",
       "4   -0.003527 -0.003161 -0.002797  ...  0.059234  0.045491  0.014588   \n",
       "..        ...       ...       ...  ...       ...       ...       ...   \n",
       "423 -0.012335 -0.010028 -0.007927  ... -0.086332 -0.093527 -0.101049   \n",
       "424 -0.008325 -0.009114 -0.009734  ...  0.007789  0.006701  0.005612   \n",
       "425 -0.017578 -0.015496 -0.013390  ...  0.114691  0.119021  0.122603   \n",
       "426  0.003635  0.003598  0.003551  ... -0.001713 -0.001729 -0.001745   \n",
       "427  0.012308  0.011285  0.010308  ... -0.006325 -0.005318 -0.004125   \n",
       "\n",
       "         2393      2394      2395      2396      2397      2398      2399  \n",
       "0   -0.018152 -0.016744 -0.015268 -0.013739 -0.012170 -0.010578 -0.008977  \n",
       "1    0.067161  0.068616  0.068502  0.067116  0.064680  0.061295  0.056942  \n",
       "2    0.008822  0.008842  0.008344  0.007253  0.005504  0.003052 -0.000126  \n",
       "3   -0.012995 -0.013030 -0.012911 -0.012613 -0.012114 -0.011398 -0.010458  \n",
       "4   -0.020497 -0.046473 -0.056446 -0.048871 -0.030119 -0.013631 -0.010627  \n",
       "..        ...       ...       ...       ...       ...       ...       ...  \n",
       "423 -0.108533 -0.115540 -0.121655 -0.126665 -0.130605 -0.133600 -0.135789  \n",
       "424  0.004599  0.003741  0.003107  0.002742  0.002664  0.002864  0.003301  \n",
       "425  0.125608  0.128198  0.130509  0.132572  0.134369  0.135841  0.136879  \n",
       "426 -0.001760 -0.001776 -0.001792 -0.001808 -0.001824 -0.001839 -0.001855  \n",
       "427 -0.002775 -0.001303  0.000258  0.001871  0.003497  0.005101  0.006644  \n",
       "\n",
       "[428 rows x 2400 columns]"
      ]
     },
     "execution_count": 19,
     "metadata": {},
     "output_type": "execute_result"
    }
   ],
   "source": [
    "#Convert to a data frame form with numpy elements as features\n",
    "X = X.apply(lambda row: pd.Series(row))\n",
    "X = X.reset_index(drop=True)\n",
    "X"
   ]
  },
  {
   "cell_type": "code",
   "execution_count": 70,
   "id": "a36edc1d",
   "metadata": {},
   "outputs": [
    {
     "data": {
      "text/html": [
       "<div>\n",
       "<style scoped>\n",
       "    .dataframe tbody tr th:only-of-type {\n",
       "        vertical-align: middle;\n",
       "    }\n",
       "\n",
       "    .dataframe tbody tr th {\n",
       "        vertical-align: top;\n",
       "    }\n",
       "\n",
       "    .dataframe thead th {\n",
       "        text-align: right;\n",
       "    }\n",
       "</style>\n",
       "<table border=\"1\" class=\"dataframe\">\n",
       "  <thead>\n",
       "    <tr style=\"text-align: right;\">\n",
       "      <th></th>\n",
       "      <th>0</th>\n",
       "      <th>1</th>\n",
       "      <th>2</th>\n",
       "      <th>3</th>\n",
       "      <th>4</th>\n",
       "      <th>5</th>\n",
       "      <th>6</th>\n",
       "      <th>7</th>\n",
       "      <th>8</th>\n",
       "      <th>9</th>\n",
       "      <th>...</th>\n",
       "      <th>2390</th>\n",
       "      <th>2391</th>\n",
       "      <th>2392</th>\n",
       "      <th>2393</th>\n",
       "      <th>2394</th>\n",
       "      <th>2395</th>\n",
       "      <th>2396</th>\n",
       "      <th>2397</th>\n",
       "      <th>2398</th>\n",
       "      <th>2399</th>\n",
       "    </tr>\n",
       "  </thead>\n",
       "  <tbody>\n",
       "    <tr>\n",
       "      <th>12</th>\n",
       "      <td>-0.000915</td>\n",
       "      <td>-0.001033</td>\n",
       "      <td>-0.001149</td>\n",
       "      <td>-0.001262</td>\n",
       "      <td>-0.001371</td>\n",
       "      <td>-0.001476</td>\n",
       "      <td>-0.001576</td>\n",
       "      <td>-0.001671</td>\n",
       "      <td>-0.001760</td>\n",
       "      <td>-0.001844</td>\n",
       "      <td>...</td>\n",
       "      <td>0.002240</td>\n",
       "      <td>0.002358</td>\n",
       "      <td>0.002470</td>\n",
       "      <td>0.002573</td>\n",
       "      <td>0.002669</td>\n",
       "      <td>0.002757</td>\n",
       "      <td>0.002836</td>\n",
       "      <td>0.002906</td>\n",
       "      <td>0.002967</td>\n",
       "      <td>0.003019</td>\n",
       "    </tr>\n",
       "    <tr>\n",
       "      <th>141</th>\n",
       "      <td>0.005205</td>\n",
       "      <td>0.004495</td>\n",
       "      <td>0.003791</td>\n",
       "      <td>0.003095</td>\n",
       "      <td>0.002409</td>\n",
       "      <td>0.001733</td>\n",
       "      <td>0.001070</td>\n",
       "      <td>0.000422</td>\n",
       "      <td>-0.000212</td>\n",
       "      <td>-0.000828</td>\n",
       "      <td>...</td>\n",
       "      <td>-0.002446</td>\n",
       "      <td>-0.004477</td>\n",
       "      <td>-0.006515</td>\n",
       "      <td>-0.008533</td>\n",
       "      <td>-0.010503</td>\n",
       "      <td>-0.012395</td>\n",
       "      <td>-0.014185</td>\n",
       "      <td>-0.015846</td>\n",
       "      <td>-0.017357</td>\n",
       "      <td>-0.018695</td>\n",
       "    </tr>\n",
       "    <tr>\n",
       "      <th>252</th>\n",
       "      <td>-0.004828</td>\n",
       "      <td>-0.004697</td>\n",
       "      <td>-0.004552</td>\n",
       "      <td>-0.004390</td>\n",
       "      <td>-0.004207</td>\n",
       "      <td>-0.003998</td>\n",
       "      <td>-0.003761</td>\n",
       "      <td>-0.003492</td>\n",
       "      <td>-0.003191</td>\n",
       "      <td>-0.002857</td>\n",
       "      <td>...</td>\n",
       "      <td>-0.001413</td>\n",
       "      <td>-0.001537</td>\n",
       "      <td>-0.001656</td>\n",
       "      <td>-0.001768</td>\n",
       "      <td>-0.001874</td>\n",
       "      <td>-0.001973</td>\n",
       "      <td>-0.002067</td>\n",
       "      <td>-0.002163</td>\n",
       "      <td>-0.002270</td>\n",
       "      <td>-0.002392</td>\n",
       "    </tr>\n",
       "    <tr>\n",
       "      <th>310</th>\n",
       "      <td>0.026386</td>\n",
       "      <td>0.024894</td>\n",
       "      <td>0.023608</td>\n",
       "      <td>0.022530</td>\n",
       "      <td>0.021653</td>\n",
       "      <td>0.020969</td>\n",
       "      <td>0.020464</td>\n",
       "      <td>0.020114</td>\n",
       "      <td>0.019893</td>\n",
       "      <td>0.019767</td>\n",
       "      <td>...</td>\n",
       "      <td>0.004233</td>\n",
       "      <td>0.004203</td>\n",
       "      <td>0.004174</td>\n",
       "      <td>0.004145</td>\n",
       "      <td>0.004117</td>\n",
       "      <td>0.004089</td>\n",
       "      <td>0.004063</td>\n",
       "      <td>0.004038</td>\n",
       "      <td>0.004013</td>\n",
       "      <td>0.003989</td>\n",
       "    </tr>\n",
       "    <tr>\n",
       "      <th>292</th>\n",
       "      <td>0.009027</td>\n",
       "      <td>0.008695</td>\n",
       "      <td>0.008350</td>\n",
       "      <td>0.007995</td>\n",
       "      <td>0.007631</td>\n",
       "      <td>0.007260</td>\n",
       "      <td>0.006887</td>\n",
       "      <td>0.006512</td>\n",
       "      <td>0.006141</td>\n",
       "      <td>0.005776</td>\n",
       "      <td>...</td>\n",
       "      <td>-0.000028</td>\n",
       "      <td>-0.000030</td>\n",
       "      <td>-0.000033</td>\n",
       "      <td>-0.000036</td>\n",
       "      <td>-0.000039</td>\n",
       "      <td>-0.000042</td>\n",
       "      <td>-0.000045</td>\n",
       "      <td>-0.000048</td>\n",
       "      <td>-0.000051</td>\n",
       "      <td>-0.000055</td>\n",
       "    </tr>\n",
       "    <tr>\n",
       "      <th>...</th>\n",
       "      <td>...</td>\n",
       "      <td>...</td>\n",
       "      <td>...</td>\n",
       "      <td>...</td>\n",
       "      <td>...</td>\n",
       "      <td>...</td>\n",
       "      <td>...</td>\n",
       "      <td>...</td>\n",
       "      <td>...</td>\n",
       "      <td>...</td>\n",
       "      <td>...</td>\n",
       "      <td>...</td>\n",
       "      <td>...</td>\n",
       "      <td>...</td>\n",
       "      <td>...</td>\n",
       "      <td>...</td>\n",
       "      <td>...</td>\n",
       "      <td>...</td>\n",
       "      <td>...</td>\n",
       "      <td>...</td>\n",
       "      <td>...</td>\n",
       "    </tr>\n",
       "    <tr>\n",
       "      <th>85</th>\n",
       "      <td>0.049976</td>\n",
       "      <td>0.048704</td>\n",
       "      <td>0.047025</td>\n",
       "      <td>0.044652</td>\n",
       "      <td>0.041381</td>\n",
       "      <td>0.037138</td>\n",
       "      <td>0.032030</td>\n",
       "      <td>0.026360</td>\n",
       "      <td>0.020575</td>\n",
       "      <td>0.015157</td>\n",
       "      <td>...</td>\n",
       "      <td>0.042250</td>\n",
       "      <td>0.043622</td>\n",
       "      <td>0.044248</td>\n",
       "      <td>0.044260</td>\n",
       "      <td>0.043818</td>\n",
       "      <td>0.043073</td>\n",
       "      <td>0.042094</td>\n",
       "      <td>0.040922</td>\n",
       "      <td>0.039525</td>\n",
       "      <td>0.037805</td>\n",
       "    </tr>\n",
       "    <tr>\n",
       "      <th>307</th>\n",
       "      <td>-0.002656</td>\n",
       "      <td>-0.002299</td>\n",
       "      <td>-0.001954</td>\n",
       "      <td>-0.001620</td>\n",
       "      <td>-0.001297</td>\n",
       "      <td>-0.000984</td>\n",
       "      <td>-0.000677</td>\n",
       "      <td>-0.000373</td>\n",
       "      <td>-0.000065</td>\n",
       "      <td>0.000255</td>\n",
       "      <td>...</td>\n",
       "      <td>-0.001915</td>\n",
       "      <td>-0.001996</td>\n",
       "      <td>-0.002088</td>\n",
       "      <td>-0.002189</td>\n",
       "      <td>-0.002301</td>\n",
       "      <td>-0.002423</td>\n",
       "      <td>-0.002556</td>\n",
       "      <td>-0.002697</td>\n",
       "      <td>-0.002846</td>\n",
       "      <td>-0.003000</td>\n",
       "    </tr>\n",
       "    <tr>\n",
       "      <th>54</th>\n",
       "      <td>0.002958</td>\n",
       "      <td>0.002966</td>\n",
       "      <td>0.003238</td>\n",
       "      <td>0.003810</td>\n",
       "      <td>0.004666</td>\n",
       "      <td>0.005733</td>\n",
       "      <td>0.006887</td>\n",
       "      <td>0.007959</td>\n",
       "      <td>0.008756</td>\n",
       "      <td>0.009088</td>\n",
       "      <td>...</td>\n",
       "      <td>0.090341</td>\n",
       "      <td>0.082216</td>\n",
       "      <td>0.073355</td>\n",
       "      <td>0.063948</td>\n",
       "      <td>0.054197</td>\n",
       "      <td>0.044311</td>\n",
       "      <td>0.034477</td>\n",
       "      <td>0.024845</td>\n",
       "      <td>0.015546</td>\n",
       "      <td>0.006694</td>\n",
       "    </tr>\n",
       "    <tr>\n",
       "      <th>166</th>\n",
       "      <td>-0.005105</td>\n",
       "      <td>-0.004992</td>\n",
       "      <td>-0.004880</td>\n",
       "      <td>-0.004770</td>\n",
       "      <td>-0.004661</td>\n",
       "      <td>-0.004554</td>\n",
       "      <td>-0.004449</td>\n",
       "      <td>-0.004346</td>\n",
       "      <td>-0.004243</td>\n",
       "      <td>-0.004143</td>\n",
       "      <td>...</td>\n",
       "      <td>0.003770</td>\n",
       "      <td>0.003772</td>\n",
       "      <td>0.003772</td>\n",
       "      <td>0.003772</td>\n",
       "      <td>0.003771</td>\n",
       "      <td>0.003769</td>\n",
       "      <td>0.003765</td>\n",
       "      <td>0.003761</td>\n",
       "      <td>0.003756</td>\n",
       "      <td>0.003749</td>\n",
       "    </tr>\n",
       "    <tr>\n",
       "      <th>119</th>\n",
       "      <td>0.003902</td>\n",
       "      <td>0.003738</td>\n",
       "      <td>0.003577</td>\n",
       "      <td>0.003420</td>\n",
       "      <td>0.003267</td>\n",
       "      <td>0.003116</td>\n",
       "      <td>0.002970</td>\n",
       "      <td>0.002826</td>\n",
       "      <td>0.002686</td>\n",
       "      <td>0.002550</td>\n",
       "      <td>...</td>\n",
       "      <td>0.000083</td>\n",
       "      <td>0.000080</td>\n",
       "      <td>0.000076</td>\n",
       "      <td>0.000072</td>\n",
       "      <td>0.000068</td>\n",
       "      <td>0.000063</td>\n",
       "      <td>0.000059</td>\n",
       "      <td>0.000054</td>\n",
       "      <td>0.000049</td>\n",
       "      <td>0.000044</td>\n",
       "    </tr>\n",
       "  </tbody>\n",
       "</table>\n",
       "<p>299 rows × 2400 columns</p>\n",
       "</div>"
      ],
      "text/plain": [
       "         0         1         2         3         4         5         6     \\\n",
       "12  -0.000915 -0.001033 -0.001149 -0.001262 -0.001371 -0.001476 -0.001576   \n",
       "141  0.005205  0.004495  0.003791  0.003095  0.002409  0.001733  0.001070   \n",
       "252 -0.004828 -0.004697 -0.004552 -0.004390 -0.004207 -0.003998 -0.003761   \n",
       "310  0.026386  0.024894  0.023608  0.022530  0.021653  0.020969  0.020464   \n",
       "292  0.009027  0.008695  0.008350  0.007995  0.007631  0.007260  0.006887   \n",
       "..        ...       ...       ...       ...       ...       ...       ...   \n",
       "85   0.049976  0.048704  0.047025  0.044652  0.041381  0.037138  0.032030   \n",
       "307 -0.002656 -0.002299 -0.001954 -0.001620 -0.001297 -0.000984 -0.000677   \n",
       "54   0.002958  0.002966  0.003238  0.003810  0.004666  0.005733  0.006887   \n",
       "166 -0.005105 -0.004992 -0.004880 -0.004770 -0.004661 -0.004554 -0.004449   \n",
       "119  0.003902  0.003738  0.003577  0.003420  0.003267  0.003116  0.002970   \n",
       "\n",
       "         7         8         9     ...      2390      2391      2392  \\\n",
       "12  -0.001671 -0.001760 -0.001844  ...  0.002240  0.002358  0.002470   \n",
       "141  0.000422 -0.000212 -0.000828  ... -0.002446 -0.004477 -0.006515   \n",
       "252 -0.003492 -0.003191 -0.002857  ... -0.001413 -0.001537 -0.001656   \n",
       "310  0.020114  0.019893  0.019767  ...  0.004233  0.004203  0.004174   \n",
       "292  0.006512  0.006141  0.005776  ... -0.000028 -0.000030 -0.000033   \n",
       "..        ...       ...       ...  ...       ...       ...       ...   \n",
       "85   0.026360  0.020575  0.015157  ...  0.042250  0.043622  0.044248   \n",
       "307 -0.000373 -0.000065  0.000255  ... -0.001915 -0.001996 -0.002088   \n",
       "54   0.007959  0.008756  0.009088  ...  0.090341  0.082216  0.073355   \n",
       "166 -0.004346 -0.004243 -0.004143  ...  0.003770  0.003772  0.003772   \n",
       "119  0.002826  0.002686  0.002550  ...  0.000083  0.000080  0.000076   \n",
       "\n",
       "         2393      2394      2395      2396      2397      2398      2399  \n",
       "12   0.002573  0.002669  0.002757  0.002836  0.002906  0.002967  0.003019  \n",
       "141 -0.008533 -0.010503 -0.012395 -0.014185 -0.015846 -0.017357 -0.018695  \n",
       "252 -0.001768 -0.001874 -0.001973 -0.002067 -0.002163 -0.002270 -0.002392  \n",
       "310  0.004145  0.004117  0.004089  0.004063  0.004038  0.004013  0.003989  \n",
       "292 -0.000036 -0.000039 -0.000042 -0.000045 -0.000048 -0.000051 -0.000055  \n",
       "..        ...       ...       ...       ...       ...       ...       ...  \n",
       "85   0.044260  0.043818  0.043073  0.042094  0.040922  0.039525  0.037805  \n",
       "307 -0.002189 -0.002301 -0.002423 -0.002556 -0.002697 -0.002846 -0.003000  \n",
       "54   0.063948  0.054197  0.044311  0.034477  0.024845  0.015546  0.006694  \n",
       "166  0.003772  0.003771  0.003769  0.003765  0.003761  0.003756  0.003749  \n",
       "119  0.000072  0.000068  0.000063  0.000059  0.000054  0.000049  0.000044  \n",
       "\n",
       "[299 rows x 2400 columns]"
      ]
     },
     "execution_count": 70,
     "metadata": {},
     "output_type": "execute_result"
    }
   ],
   "source": [
    "X_train, X_test, y_train, y_test = train_test_split(X, y, test_size=0.3, random_state=64)\n",
    "X_train"
   ]
  },
  {
   "cell_type": "code",
   "execution_count": 21,
   "id": "eeda018d",
   "metadata": {},
   "outputs": [],
   "source": [
    "mscaler = MinMaxScaler()\n",
    "X_train = mscaler.fit_transform(X_train)\n",
    "X_test = mscaler.transform(X_test)"
   ]
  },
  {
   "cell_type": "code",
   "execution_count": 22,
   "id": "4626550f",
   "metadata": {},
   "outputs": [],
   "source": [
    "# plt.plot(np.max(npy_list_no_adol, axis=1))"
   ]
  },
  {
   "cell_type": "code",
   "execution_count": 364,
   "id": "c0bbc072",
   "metadata": {},
   "outputs": [
    {
     "data": {
      "text/plain": [
       "(400,)"
      ]
     },
     "execution_count": 364,
     "metadata": {},
     "output_type": "execute_result"
    }
   ],
   "source": [
    "# unique, counts = np.unique(npy_list_no_adol, axis =1, return_counts=True)\n",
    "# counts.shape\n",
    "# #print(np.asarray((unique, counts)).T)\n"
   ]
  },
  {
   "cell_type": "code",
   "execution_count": 355,
   "id": "16c34256",
   "metadata": {},
   "outputs": [
    {
     "data": {
      "text/plain": [
       "[<matplotlib.lines.Line2D at 0x7fce7ea268c0>]"
      ]
     },
     "execution_count": 355,
     "metadata": {},
     "output_type": "execute_result"
    },
    {
     "data": {
      "image/png": "[encoded data removed]",
      "text/plain": [
       "<Figure size 640x480 with 1 Axes>"
      ]
     },
     "metadata": {},
     "output_type": "display_data"
    }
   ],
   "source": [
    "# plt.plot(np.std(npy_list_no_adol, axis=1))"
   ]
  },
  {
   "cell_type": "code",
   "execution_count": 14,
   "id": "32ad1dd6",
   "metadata": {},
   "outputs": [
    {
     "data": {
      "text/plain": [
       "0    252\n",
       "1    222\n",
       "Name: outcome, dtype: int64"
      ]
     },
     "execution_count": 14,
     "metadata": {},
     "output_type": "execute_result"
    }
   ],
   "source": [
    "# npy_df_no_adol.outcome.value_counts()"
   ]
  },
  {
   "cell_type": "markdown",
   "id": "127d8b31",
   "metadata": {},
   "source": [
    "# KNN analysis"
   ]
  },
  {
   "cell_type": "code",
   "execution_count": 188,
   "id": "4bad6414",
   "metadata": {},
   "outputs": [],
   "source": [
    "# np.ravel(X)"
   ]
  },
  {
   "cell_type": "code",
   "execution_count": 213,
   "id": "c12f4a30",
   "metadata": {},
   "outputs": [],
   "source": [
    "# np.ravel(X).map(lambda x: x.flatten())"
   ]
  },
  {
   "cell_type": "code",
   "execution_count": 183,
   "id": "178b665a",
   "metadata": {},
   "outputs": [
    {
     "data": {
      "text/plain": [
       "(474,)"
      ]
     },
     "execution_count": 183,
     "metadata": {},
     "output_type": "execute_result"
    }
   ],
   "source": [
    "# np.ravel(X).flatten().shape"
   ]
  },
  {
   "cell_type": "code",
   "execution_count": 189,
   "id": "5caf7e41",
   "metadata": {},
   "outputs": [],
   "source": [
    "# np.reshape(np.ravel(X), (474, 2400), order='A')"
   ]
  },
  {
   "cell_type": "markdown",
   "id": "04a69c9a",
   "metadata": {},
   "source": [
    "## Cross validation"
   ]
  },
  {
   "cell_type": "code",
   "execution_count": 27,
   "id": "cc401172",
   "metadata": {},
   "outputs": [
    {
     "data": {
      "text/plain": [
       "0.34157894736842104"
      ]
     },
     "execution_count": 27,
     "metadata": {},
     "output_type": "execute_result"
    }
   ],
   "source": [
    "knn_cv_results = cross_validate(KNeighborsClassifier(n_neighbors=7, weights='uniform',\n",
    "                                algorithm='auto',\n",
    "                                leaf_size=30,\n",
    "                                p=2,\n",
    "                                metric='minkowski',\n",
    "                                metric_params=None,\n",
    "                                n_jobs=None), \n",
    "                                X, y, \n",
    "                                cv=10, \n",
    "                                scoring=['recall']) \n",
    "\n",
    "knn_score = knn_cv_results['test_recall'].mean()\n",
    "knn_score"
   ]
  },
  {
   "cell_type": "markdown",
   "id": "c2ccb3e0",
   "metadata": {},
   "source": [
    "**We find that for children with 10 fold cross-val:**\n",
    "- With the first 2400 points, we have a recall rate of about $0.378$ for $\\textrm{n_neighbours} = 5$ and about $0.343$ for $\\textrm{n_neighbours} = 7$ \n",
    "\n",
    "OLDER [some ERRORS and for non-adoloscents]\n",
    "    \n",
    "- With the first 6000 points, we have a recall rate of about $0.342$ for $\\textrm{n_neighbours} = 5$ and about $0.338$ for $\\textrm{n_neighbours} = 7$ \n",
    "- With the first 2000 points, we have a recall rate of about $0.419$ for $\\textrm{n_neighbours} = 5$ and about $0.414$ for $\\textrm{n_neighbours} = 7$ \n",
    "- With 1200 points chosen evenly from the first 6000 points, $0.334$ for $\\textrm{n_neighbours} = 5$ and about $0.306$ for $\\textrm{n_neighbours} = 7$\n",
    "- With 400 points chosen evenly from the first 2000 points, $0.427$ for $\\textrm{n_neighbours} = 5$ and about $0.414$ for $\\textrm{n_neighbours} = 7$ "
   ]
  },
  {
   "cell_type": "markdown",
   "id": "cb7c655e",
   "metadata": {},
   "source": [
    "**While keeping all the patients, we have: TO DO**"
   ]
  },
  {
   "cell_type": "markdown",
   "id": "7d58ea98",
   "metadata": {},
   "source": [
    "## Holdout method"
   ]
  },
  {
   "cell_type": "markdown",
   "id": "f8ec1c83",
   "metadata": {},
   "source": [
    "Without cross validation, and a simple holdout method, we find:"
   ]
  },
  {
   "cell_type": "code",
   "execution_count": 113,
   "id": "24b0bc72",
   "metadata": {},
   "outputs": [],
   "source": [
    "knn = KNeighborsClassifier(n_neighbors=5)"
   ]
  },
  {
   "cell_type": "code",
   "execution_count": 114,
   "id": "b8bb9848",
   "metadata": {},
   "outputs": [
    {
     "data": {
      "text/plain": [
       "array([0, 0, 1, 0, 0, 1, 0, 0, 1, 1, 1, 1, 1, 1, 0, 1, 1, 1, 1, 0, 1, 0,\n",
       "       0, 1, 0, 1, 1, 1, 0, 1, 1, 0, 1, 1, 0, 1, 1, 1, 0, 1, 1, 0, 1, 1,\n",
       "       0, 1, 1, 0, 0, 0, 0, 0, 0, 0, 1, 1, 1, 0, 1, 1, 0, 0, 1, 1, 1, 1,\n",
       "       1, 1, 1, 0, 0, 0, 0, 0, 0, 1, 0, 1, 0, 0, 0, 0, 1, 0, 1, 0, 0, 0,\n",
       "       1, 1, 1, 0, 1, 0, 0, 0, 1, 1, 0, 0, 0, 1, 0, 0, 0, 0, 0, 1, 0, 0,\n",
       "       0, 0, 0, 0, 0, 0, 1, 0, 1, 1, 1, 0, 1, 1, 1, 1, 1, 1, 0])"
      ]
     },
     "execution_count": 114,
     "metadata": {},
     "output_type": "execute_result"
    }
   ],
   "source": [
    "knn.fit(X_train, y_train)\n",
    "y_pred = knn.predict(X_test)\n",
    "y_pred"
   ]
  },
  {
   "cell_type": "code",
   "execution_count": 115,
   "id": "bd233645",
   "metadata": {},
   "outputs": [
    {
     "name": "stdout",
     "output_type": "stream",
     "text": [
      "              precision    recall  f1-score   support\n",
      "\n",
      "           0       0.58      0.51      0.55        74\n",
      "           1       0.44      0.51      0.47        55\n",
      "\n",
      "    accuracy                           0.51       129\n",
      "   macro avg       0.51      0.51      0.51       129\n",
      "weighted avg       0.52      0.51      0.51       129\n",
      "\n"
     ]
    }
   ],
   "source": [
    "print(classification_report(y_test_array, y_pred))"
   ]
  },
  {
   "cell_type": "code",
   "execution_count": 116,
   "id": "df085cbd",
   "metadata": {},
   "outputs": [
    {
     "name": "stdout",
     "output_type": "stream",
     "text": [
      "(0.5110576923076924, 0.5113022113022112, 0.5086754126110876, None)\n"
     ]
    }
   ],
   "source": [
    "print(precision_recall_fscore_support(y_test, y_pred, average='macro'))"
   ]
  },
  {
   "cell_type": "code",
   "execution_count": 461,
   "id": "0e756802",
   "metadata": {},
   "outputs": [
    {
     "data": {
      "text/plain": [
       "0.4954545454545455"
      ]
     },
     "execution_count": 461,
     "metadata": {},
     "output_type": "execute_result"
    }
   ],
   "source": [
    "# recall_unscaled = precision_recall_fscore_support(y_test, y_pred, average='macro')[1]\n",
    "# recall_unscaled"
   ]
  },
  {
   "cell_type": "markdown",
   "id": "e2eca8c3",
   "metadata": {},
   "source": [
    "# With PCA"
   ]
  },
  {
   "cell_type": "code",
   "execution_count": 51,
   "id": "e04906f5",
   "metadata": {},
   "outputs": [],
   "source": [
    "pca = PCA(n_components=120).fit(X_train)"
   ]
  },
  {
   "cell_type": "code",
   "execution_count": 52,
   "id": "00a45faf",
   "metadata": {},
   "outputs": [
    {
     "data": {
      "text/plain": [
       "(120, 2400)"
      ]
     },
     "execution_count": 52,
     "metadata": {},
     "output_type": "execute_result"
    }
   ],
   "source": [
    "pca.components_.shape"
   ]
  },
  {
   "cell_type": "code",
   "execution_count": 43,
   "id": "ab5c410a",
   "metadata": {},
   "outputs": [],
   "source": [
    "pca.explained_variance_;"
   ]
  },
  {
   "cell_type": "code",
   "execution_count": 53,
   "id": "8ab495d5",
   "metadata": {},
   "outputs": [],
   "source": [
    "X_transformed = pca.transform(X)"
   ]
  },
  {
   "cell_type": "code",
   "execution_count": 54,
   "id": "50a4a6e6",
   "metadata": {},
   "outputs": [
    {
     "data": {
      "text/plain": [
       "(428, 120)"
      ]
     },
     "execution_count": 54,
     "metadata": {},
     "output_type": "execute_result"
    }
   ],
   "source": [
    "X_transformed.shape"
   ]
  },
  {
   "cell_type": "code",
   "execution_count": 55,
   "id": "dbbcde8d",
   "metadata": {},
   "outputs": [
    {
     "data": {
      "image/png": "[encoded data removed]",
      "text/plain": [
       "<Figure size 640x480 with 1 Axes>"
      ]
     },
     "metadata": {},
     "output_type": "display_data"
    }
   ],
   "source": [
    "plt.plot(np.cumsum(pca.explained_variance_ratio_))\n",
    "plt.xlabel('number of components')\n",
    "plt.ylabel('cumulative explained variance')\n",
    "plt.grid()"
   ]
  },
  {
   "cell_type": "code",
   "execution_count": 63,
   "id": "c6863d0a",
   "metadata": {},
   "outputs": [
    {
     "data": {
      "text/plain": [
       "0.32736842105263164"
      ]
     },
     "execution_count": 63,
     "metadata": {},
     "output_type": "execute_result"
    }
   ],
   "source": [
    "knn_cv_results_pca = cross_validate(KNeighborsClassifier(n_neighbors=7, weights='uniform',\n",
    "                                algorithm='auto',\n",
    "                                leaf_size=30,\n",
    "                                p=2,\n",
    "                                metric='minkowski',\n",
    "                                metric_params=None,\n",
    "                                n_jobs=None), \n",
    "                                X_transformed, y, \n",
    "                                cv=10, \n",
    "                                scoring=['recall']) \n",
    "\n",
    "knn_score_pca = knn_cv_results_pca['test_recall'].mean()\n",
    "knn_score_pca"
   ]
  },
  {
   "cell_type": "markdown",
   "id": "3a3dc3bd",
   "metadata": {},
   "source": [
    "**We find that for non-adoloscents with 10 fold cross-val and a PCA step:**\n",
    "\n",
    "ERROR (may be) commented out in the cell:\n",
    "\n",
    "%%- With $\\textrm{n_components}=400$, and the first 6000 points, we have a recall rate of about $0.343$ for $\\textrm{n_neighbours} = 5$ and about %%$0.324$\n",
    "%%  for $\\textrm{n_neighbours} = 7$ \n",
    "%%- With $\\textrm{n_components}=400$, and the first 2000 points, we have a recall rate of about $0.419$ for $\\textrm{n_neighbours} = 5$ and about $0.414$\n",
    "%%  for $\\textrm{n_neighbours} = 7$  \n",
    "%%- With $\\textrm{n_components}=400$, and 1200 points chosen evenly from the first 6000 points, $0.4186$ for $\\textrm{n_neighbours} = 5$ and about %%$0.414$ for $\\textrm{n_neighbours} = 7$\n",
    "%%- With $\\textrm{n_components}=250$, and 1200 points chosen evenly from the first 6000 points, $0.333$ for $\\textrm{n_neighbours} = 5$ and about %%$0.297$ for $\\textrm{n_neighbours} = 7$\n",
    "%%- With $\\textrm{n_components}=100$, and 400 points chosen evenly from the first 2000 points, $0.437$ for $\\textrm{n_neighbours} = 5$ and about %%$0.405$ for $\\textrm{n_neighbours} = 7$\n",
    "%%- With $\\textrm{n_components}=50$, and 1200 points chosen evenly from the first 2000 points, $0.409$ for $\\textrm{n_neighbours} = 5$ and about %%$0.373$ for $\\textrm{n_neighbours} = 7$"
   ]
  },
  {
   "cell_type": "markdown",
   "id": "bef9ab63",
   "metadata": {},
   "source": [
    "**We find that for children with 10 fold cross-val for X_train and a PCA step:**\n",
    "\n",
    "- With $\\textrm{n_components}=120$, and the first 2400 points, $0.363$ for $\\textrm{n_neighbours} = 5$ and about $0.327$ for $\\textrm{n_neighbours} = 7$"
   ]
  },
  {
   "cell_type": "markdown",
   "id": "4a95d455",
   "metadata": {},
   "source": [
    "# SVC"
   ]
  },
  {
   "cell_type": "code",
   "execution_count": 134,
   "id": "2acdfbdb",
   "metadata": {},
   "outputs": [],
   "source": [
    "X_train, X_test, y_train, y_test = train_test_split(X, y, test_size=0.3, random_state=64)"
   ]
  },
  {
   "cell_type": "code",
   "execution_count": 136,
   "id": "a34ff983",
   "metadata": {},
   "outputs": [
    {
     "data": {
      "text/plain": [
       "pandas.core.series.Series"
      ]
     },
     "execution_count": 136,
     "metadata": {},
     "output_type": "execute_result"
    }
   ],
   "source": [
    "type(y)"
   ]
  },
  {
   "cell_type": "code",
   "execution_count": 137,
   "id": "a36fd68f",
   "metadata": {},
   "outputs": [],
   "source": [
    "svc = SVC(C=0.1,\n",
    "    kernel='rbf',\n",
    "    degree=5,\n",
    "    gamma='scale',\n",
    "    coef0=0.0,\n",
    "    shrinking=True,\n",
    "    probability=False,\n",
    "    tol=0.001,\n",
    "    cache_size=200,\n",
    "    class_weight=None,\n",
    "    verbose=False,\n",
    "    max_iter=-1,\n",
    "    decision_function_shape='ovr',\n",
    "    break_ties=False,\n",
    "    random_state=32)"
   ]
  },
  {
   "cell_type": "code",
   "execution_count": 138,
   "id": "478bd022",
   "metadata": {},
   "outputs": [
    {
     "data": {
      "text/plain": [
       "Pipeline(steps=[('minmaxscaler', MinMaxScaler()),\n",
       "                ('svc', SVC(C=0.1, degree=5, random_state=32))])"
      ]
     },
     "execution_count": 138,
     "metadata": {},
     "output_type": "execute_result"
    }
   ],
   "source": [
    "clf_svc = make_pipeline(MinMaxScaler(), svc)\n",
    "clf_svc.fit(X_train, y_train)"
   ]
  },
  {
   "cell_type": "code",
   "execution_count": 139,
   "id": "6ac77b97",
   "metadata": {},
   "outputs": [
    {
     "data": {
      "text/plain": [
       "array([0, 0, 0, 0, 0, 0, 0, 0, 0, 0, 0, 0, 0, 0, 0, 0, 0, 0, 0, 0, 0, 0,\n",
       "       0, 0, 0, 0, 0, 0, 0, 0, 0, 0, 0, 0, 0, 0, 0, 0, 0, 0, 0, 0, 0, 0,\n",
       "       0, 0, 0, 0, 0, 0, 0, 0, 0, 0, 0, 0, 0, 0, 0, 0, 0, 0, 0, 0, 0, 0,\n",
       "       0, 0, 0, 0, 0, 0, 0, 0, 0, 0, 0, 0, 0, 0, 0, 0, 0, 0, 0, 0, 0, 0,\n",
       "       0, 0, 0, 0, 0, 0, 0, 0, 0, 0, 0, 0, 0, 0, 0, 0, 0, 0, 0, 0, 0, 0,\n",
       "       0, 0, 0, 0, 0, 0, 0, 0, 0, 0, 0, 0, 0, 0, 0, 0, 0, 0, 0])"
      ]
     },
     "execution_count": 139,
     "metadata": {},
     "output_type": "execute_result"
    }
   ],
   "source": [
    "y_pred = clf_svc.predict(X_test)\n",
    "y_pred"
   ]
  },
  {
   "cell_type": "markdown",
   "id": "6763146f",
   "metadata": {},
   "source": [
    "**ERROR, ALL THE VALUES ARE ZERO**"
   ]
  },
  {
   "cell_type": "code",
   "execution_count": 140,
   "id": "7fb33071",
   "metadata": {},
   "outputs": [
    {
     "data": {
      "text/plain": [
       "47     0\n",
       "350    0\n",
       "328    1\n",
       "327    1\n",
       "383    1\n",
       "      ..\n",
       "87     1\n",
       "178    1\n",
       "239    1\n",
       "50     0\n",
       "186    0\n",
       "Name: outcome, Length: 129, dtype: int64"
      ]
     },
     "execution_count": 140,
     "metadata": {},
     "output_type": "execute_result"
    }
   ],
   "source": [
    "y_test"
   ]
  },
  {
   "cell_type": "code",
   "execution_count": 141,
   "id": "9eee7a4a",
   "metadata": {},
   "outputs": [
    {
     "name": "stdout",
     "output_type": "stream",
     "text": [
      "              precision    recall  f1-score   support\n",
      "\n",
      "           0       1.00      0.57      0.73       129\n",
      "           1       0.00      0.00      0.00         0\n",
      "\n",
      "    accuracy                           0.57       129\n",
      "   macro avg       0.50      0.29      0.36       129\n",
      "weighted avg       1.00      0.57      0.73       129\n",
      "\n"
     ]
    },
    {
     "name": "stderr",
     "output_type": "stream",
     "text": [
      "/home/fermion/.pyenv/versions/3.10.6/envs/circor/lib/python3.10/site-packages/sklearn/metrics/_classification.py:1334: UndefinedMetricWarning: Recall and F-score are ill-defined and being set to 0.0 in labels with no true samples. Use `zero_division` parameter to control this behavior.\n",
      "  _warn_prf(average, modifier, msg_start, len(result))\n",
      "/home/fermion/.pyenv/versions/3.10.6/envs/circor/lib/python3.10/site-packages/sklearn/metrics/_classification.py:1334: UndefinedMetricWarning: Recall and F-score are ill-defined and being set to 0.0 in labels with no true samples. Use `zero_division` parameter to control this behavior.\n",
      "  _warn_prf(average, modifier, msg_start, len(result))\n",
      "/home/fermion/.pyenv/versions/3.10.6/envs/circor/lib/python3.10/site-packages/sklearn/metrics/_classification.py:1334: UndefinedMetricWarning: Recall and F-score are ill-defined and being set to 0.0 in labels with no true samples. Use `zero_division` parameter to control this behavior.\n",
      "  _warn_prf(average, modifier, msg_start, len(result))\n"
     ]
    }
   ],
   "source": [
    "print(classification_report(y_pred, y_test))"
   ]
  },
  {
   "cell_type": "code",
   "execution_count": 126,
   "id": "a4f8af1a",
   "metadata": {},
   "outputs": [
    {
     "data": {
      "text/plain": [
       "0.34157894736842104"
      ]
     },
     "execution_count": 126,
     "metadata": {},
     "output_type": "execute_result"
    }
   ],
   "source": [
    "svc_cv_results = cross_validate(clf_svc,\n",
    "                                X, y, \n",
    "                                cv=10, \n",
    "                                scoring=['recall']) \n",
    "\n",
    "svc_score = knn_cv_results['test_recall'].mean()\n",
    "svc_score"
   ]
  },
  {
   "cell_type": "markdown",
   "id": "aa5dab7a",
   "metadata": {},
   "source": [
    "**TO FIX**"
   ]
  },
  {
   "cell_type": "markdown",
   "id": "7e252ce4",
   "metadata": {},
   "source": [
    "# Grid Search"
   ]
  },
  {
   "cell_type": "markdown",
   "id": "7e1cdaed",
   "metadata": {},
   "source": [
    "## SVC pipeline"
   ]
  },
  {
   "cell_type": "code",
   "execution_count": 143,
   "id": "41858f0d",
   "metadata": {},
   "outputs": [],
   "source": [
    "svc = SVC()\n",
    "clf_svc = make_pipeline(MinMaxScaler(), svc)"
   ]
  },
  {
   "cell_type": "code",
   "execution_count": 144,
   "id": "c6fe8abd",
   "metadata": {},
   "outputs": [
    {
     "data": {
      "text/plain": [
       "{'memory': None,\n",
       " 'steps': [('minmaxscaler', MinMaxScaler()), ('svc', SVC())],\n",
       " 'verbose': False,\n",
       " 'minmaxscaler': MinMaxScaler(),\n",
       " 'svc': SVC(),\n",
       " 'minmaxscaler__clip': False,\n",
       " 'minmaxscaler__copy': True,\n",
       " 'minmaxscaler__feature_range': (0, 1),\n",
       " 'svc__C': 1.0,\n",
       " 'svc__break_ties': False,\n",
       " 'svc__cache_size': 200,\n",
       " 'svc__class_weight': None,\n",
       " 'svc__coef0': 0.0,\n",
       " 'svc__decision_function_shape': 'ovr',\n",
       " 'svc__degree': 3,\n",
       " 'svc__gamma': 'scale',\n",
       " 'svc__kernel': 'rbf',\n",
       " 'svc__max_iter': -1,\n",
       " 'svc__probability': False,\n",
       " 'svc__random_state': None,\n",
       " 'svc__shrinking': True,\n",
       " 'svc__tol': 0.001,\n",
       " 'svc__verbose': False}"
      ]
     },
     "execution_count": 144,
     "metadata": {},
     "output_type": "execute_result"
    }
   ],
   "source": [
    "clf_svc.get_params()"
   ]
  },
  {
   "cell_type": "code",
   "execution_count": 145,
   "id": "4ea5903b",
   "metadata": {},
   "outputs": [
    {
     "name": "stdout",
     "output_type": "stream",
     "text": [
      "CPU times: user 1min 12s, sys: 1.32 s, total: 1min 14s\n",
      "Wall time: 1min 14s\n"
     ]
    },
    {
     "data": {
      "text/plain": [
       "Pipeline(steps=[('minmaxscaler', MinMaxScaler()),\n",
       "                ('svc', SVC(C=6.75713264940173, degree=5, kernel='poly'))])"
      ]
     },
     "execution_count": 145,
     "metadata": {},
     "output_type": "execute_result"
    }
   ],
   "source": [
    "%%time\n",
    "# Random search for pipe with MinMaxScaler and SVC classifier\n",
    "search_svc = RandomizedSearchCV(\n",
    "    clf_svc, \n",
    "    param_distributions ={\n",
    "        'svc__kernel' : ['linear', 'poly', 'rbf', 'sigmoid'],\n",
    "        'svc__gamma': ['scale', 'auto'],\n",
    "        'svc__C': uniform(0.1,10),\n",
    "        'svc__degree' : [3, 5, 8]\n",
    "    },\n",
    "    cv=5,\n",
    "    n_iter = 50,\n",
    "    scoring=\"recall\"\n",
    ")\n",
    "\n",
    "search_svc.fit(X,y)\n",
    "\n",
    "clf_svc_tuned = search_svc.best_estimator_\n",
    "clf_svc_tuned"
   ]
  },
  {
   "cell_type": "code",
   "execution_count": 148,
   "id": "54f244f0",
   "metadata": {},
   "outputs": [
    {
     "data": {
      "text/plain": [
       "{'memory': None,\n",
       " 'steps': [('minmaxscaler', MinMaxScaler()),\n",
       "  ('svc', SVC(C=6.75713264940173, degree=5, kernel='poly'))],\n",
       " 'verbose': False,\n",
       " 'minmaxscaler': MinMaxScaler(),\n",
       " 'svc': SVC(C=6.75713264940173, degree=5, kernel='poly'),\n",
       " 'minmaxscaler__clip': False,\n",
       " 'minmaxscaler__copy': True,\n",
       " 'minmaxscaler__feature_range': (0, 1),\n",
       " 'svc__C': 6.75713264940173,\n",
       " 'svc__break_ties': False,\n",
       " 'svc__cache_size': 200,\n",
       " 'svc__class_weight': None,\n",
       " 'svc__coef0': 0.0,\n",
       " 'svc__decision_function_shape': 'ovr',\n",
       " 'svc__degree': 5,\n",
       " 'svc__gamma': 'scale',\n",
       " 'svc__kernel': 'poly',\n",
       " 'svc__max_iter': -1,\n",
       " 'svc__probability': False,\n",
       " 'svc__random_state': None,\n",
       " 'svc__shrinking': True,\n",
       " 'svc__tol': 0.001,\n",
       " 'svc__verbose': False}"
      ]
     },
     "execution_count": 148,
     "metadata": {},
     "output_type": "execute_result"
    }
   ],
   "source": [
    "clf_svc_tuned.get_params()"
   ]
  },
  {
   "cell_type": "code",
   "execution_count": 150,
   "id": "11de0107",
   "metadata": {},
   "outputs": [
    {
     "name": "stdout",
     "output_type": "stream",
     "text": [
      "[0.65       0.5        0.4        0.36842105 0.42105263 0.73684211\n",
      " 0.47368421 0.42105263 0.47368421 0.57894737]\n",
      "0.5023684210526316\n"
     ]
    }
   ],
   "source": [
    "scores = cross_val_score(clf_svc_tuned, X,y,cv=10, scoring=\"recall\")\n",
    "score = scores.mean()\n",
    "\n",
    "print(scores)\n",
    "print(scores.mean())"
   ]
  },
  {
   "cell_type": "markdown",
   "id": "b002eeb4",
   "metadata": {},
   "source": [
    "## KNN pipeline"
   ]
  },
  {
   "cell_type": "code",
   "execution_count": 151,
   "id": "37d7d6d7",
   "metadata": {},
   "outputs": [
    {
     "data": {
      "text/plain": [
       "Pipeline(steps=[('minmaxscaler', MinMaxScaler()),\n",
       "                ('kneighborsclassifier', KNeighborsClassifier())])"
      ]
     },
     "execution_count": 151,
     "metadata": {},
     "output_type": "execute_result"
    }
   ],
   "source": [
    "knn = KNeighborsClassifier()\n",
    "clf_knn = make_pipeline(MinMaxScaler(), knn)\n",
    "clf_knn"
   ]
  },
  {
   "cell_type": "code",
   "execution_count": 152,
   "id": "4eee0ea3",
   "metadata": {},
   "outputs": [
    {
     "data": {
      "text/plain": [
       "{'memory': None,\n",
       " 'steps': [('minmaxscaler', MinMaxScaler()),\n",
       "  ('kneighborsclassifier', KNeighborsClassifier())],\n",
       " 'verbose': False,\n",
       " 'minmaxscaler': MinMaxScaler(),\n",
       " 'kneighborsclassifier': KNeighborsClassifier(),\n",
       " 'minmaxscaler__clip': False,\n",
       " 'minmaxscaler__copy': True,\n",
       " 'minmaxscaler__feature_range': (0, 1),\n",
       " 'kneighborsclassifier__algorithm': 'auto',\n",
       " 'kneighborsclassifier__leaf_size': 30,\n",
       " 'kneighborsclassifier__metric': 'minkowski',\n",
       " 'kneighborsclassifier__metric_params': None,\n",
       " 'kneighborsclassifier__n_jobs': None,\n",
       " 'kneighborsclassifier__n_neighbors': 5,\n",
       " 'kneighborsclassifier__p': 2,\n",
       " 'kneighborsclassifier__weights': 'uniform'}"
      ]
     },
     "execution_count": 152,
     "metadata": {},
     "output_type": "execute_result"
    }
   ],
   "source": [
    "clf_knn.get_params()"
   ]
  },
  {
   "cell_type": "code",
   "execution_count": 153,
   "id": "769cb6a8",
   "metadata": {},
   "outputs": [
    {
     "name": "stdout",
     "output_type": "stream",
     "text": [
      "CPU times: user 1min 46s, sys: 4.44 s, total: 1min 50s\n",
      "Wall time: 1min 43s\n"
     ]
    },
    {
     "name": "stderr",
     "output_type": "stream",
     "text": [
      "/home/fermion/.pyenv/versions/3.10.6/envs/circor/lib/python3.10/site-packages/sklearn/model_selection/_validation.py:378: FitFailedWarning: \n",
      "145 fits failed out of a total of 250.\n",
      "The score on these train-test partitions for these parameters will be set to nan.\n",
      "If these failures are not expected, you can try to debug them by setting error_score='raise'.\n",
      "\n",
      "Below are more details about the failures:\n",
      "--------------------------------------------------------------------------------\n",
      "80 fits failed with the following error:\n",
      "Traceback (most recent call last):\n",
      "  File \"/home/fermion/.pyenv/versions/3.10.6/envs/circor/lib/python3.10/site-packages/sklearn/model_selection/_validation.py\", line 686, in _fit_and_score\n",
      "    estimator.fit(X_train, y_train, **fit_params)\n",
      "  File \"/home/fermion/.pyenv/versions/3.10.6/envs/circor/lib/python3.10/site-packages/sklearn/pipeline.py\", line 382, in fit\n",
      "    self._final_estimator.fit(Xt, y, **fit_params_last_step)\n",
      "  File \"/home/fermion/.pyenv/versions/3.10.6/envs/circor/lib/python3.10/site-packages/sklearn/neighbors/_classification.py\", line 207, in fit\n",
      "    return self._fit(X, y)\n",
      "  File \"/home/fermion/.pyenv/versions/3.10.6/envs/circor/lib/python3.10/site-packages/sklearn/neighbors/_base.py\", line 446, in _fit\n",
      "    self._check_algorithm_metric()\n",
      "  File \"/home/fermion/.pyenv/versions/3.10.6/envs/circor/lib/python3.10/site-packages/sklearn/neighbors/_base.py\", line 381, in _check_algorithm_metric\n",
      "    raise ValueError(\n",
      "ValueError: Metric 'auto' not valid. Use sorted(sklearn.neighbors.VALID_METRICS['brute']) to get valid options. Metric can also be a callable function.\n",
      "\n",
      "--------------------------------------------------------------------------------\n",
      "40 fits failed with the following error:\n",
      "Traceback (most recent call last):\n",
      "  File \"/home/fermion/.pyenv/versions/3.10.6/envs/circor/lib/python3.10/site-packages/sklearn/model_selection/_validation.py\", line 686, in _fit_and_score\n",
      "    estimator.fit(X_train, y_train, **fit_params)\n",
      "  File \"/home/fermion/.pyenv/versions/3.10.6/envs/circor/lib/python3.10/site-packages/sklearn/pipeline.py\", line 382, in fit\n",
      "    self._final_estimator.fit(Xt, y, **fit_params_last_step)\n",
      "  File \"/home/fermion/.pyenv/versions/3.10.6/envs/circor/lib/python3.10/site-packages/sklearn/neighbors/_classification.py\", line 207, in fit\n",
      "    return self._fit(X, y)\n",
      "  File \"/home/fermion/.pyenv/versions/3.10.6/envs/circor/lib/python3.10/site-packages/sklearn/neighbors/_base.py\", line 446, in _fit\n",
      "    self._check_algorithm_metric()\n",
      "  File \"/home/fermion/.pyenv/versions/3.10.6/envs/circor/lib/python3.10/site-packages/sklearn/neighbors/_base.py\", line 381, in _check_algorithm_metric\n",
      "    raise ValueError(\n",
      "ValueError: Metric 'auto' not valid. Use sorted(sklearn.neighbors.VALID_METRICS['kd_tree']) to get valid options. Metric can also be a callable function.\n",
      "\n",
      "--------------------------------------------------------------------------------\n",
      "25 fits failed with the following error:\n",
      "Traceback (most recent call last):\n",
      "  File \"/home/fermion/.pyenv/versions/3.10.6/envs/circor/lib/python3.10/site-packages/sklearn/model_selection/_validation.py\", line 686, in _fit_and_score\n",
      "    estimator.fit(X_train, y_train, **fit_params)\n",
      "  File \"/home/fermion/.pyenv/versions/3.10.6/envs/circor/lib/python3.10/site-packages/sklearn/pipeline.py\", line 382, in fit\n",
      "    self._final_estimator.fit(Xt, y, **fit_params_last_step)\n",
      "  File \"/home/fermion/.pyenv/versions/3.10.6/envs/circor/lib/python3.10/site-packages/sklearn/neighbors/_classification.py\", line 207, in fit\n",
      "    return self._fit(X, y)\n",
      "  File \"/home/fermion/.pyenv/versions/3.10.6/envs/circor/lib/python3.10/site-packages/sklearn/neighbors/_base.py\", line 446, in _fit\n",
      "    self._check_algorithm_metric()\n",
      "  File \"/home/fermion/.pyenv/versions/3.10.6/envs/circor/lib/python3.10/site-packages/sklearn/neighbors/_base.py\", line 381, in _check_algorithm_metric\n",
      "    raise ValueError(\n",
      "ValueError: Metric 'auto' not valid. Use sorted(sklearn.neighbors.VALID_METRICS['ball_tree']) to get valid options. Metric can also be a callable function.\n",
      "\n",
      "  warnings.warn(some_fits_failed_message, FitFailedWarning)\n",
      "/home/fermion/.pyenv/versions/3.10.6/envs/circor/lib/python3.10/site-packages/sklearn/model_selection/_search.py:953: UserWarning: One or more of the test scores are non-finite: [0.42010796 0.42010796 0.41066127 0.36423752        nan 0.35398111\n",
      "        nan        nan        nan 0.21875843        nan 0.46140351\n",
      "        nan 0.15020243 0.34912281        nan        nan        nan\n",
      "        nan        nan        nan        nan 0.42537112        nan\n",
      " 0.21835358        nan        nan        nan 0.22955466 0.39473684\n",
      "        nan 0.38974359        nan        nan 0.39473684 0.39473684\n",
      "        nan        nan        nan        nan        nan 0.22874494\n",
      " 0.43589744        nan 0.19217274 0.36423752        nan        nan\n",
      "        nan 0.3900135 ]\n",
      "  warnings.warn(\n"
     ]
    },
    {
     "data": {
      "text/plain": [
       "Pipeline(steps=[('minmaxscaler', MinMaxScaler()),\n",
       "                ('kneighborsclassifier',\n",
       "                 KNeighborsClassifier(algorithm='brute', leaf_size=20,\n",
       "                                      n_neighbors=1, p=1,\n",
       "                                      weights='distance'))])"
      ]
     },
     "execution_count": 153,
     "metadata": {},
     "output_type": "execute_result"
    }
   ],
   "source": [
    "%%time\n",
    "\n",
    "# Random search for pipe with MinMaxScaler and KNN classifier\n",
    "search_knn = RandomizedSearchCV(\n",
    "    clf_knn, \n",
    "    param_distributions ={\n",
    "        'kneighborsclassifier__n_neighbors' : [1,2,3,4,5,6,7,8,9,10,11,12],\n",
    "        'kneighborsclassifier__metric': ['minkowski', 'auto'],\n",
    "        'kneighborsclassifier__algorithm' :['auto', 'ball_tree', 'kd_tree', 'brute'],\n",
    "        'kneighborsclassifier__weights' : ['uniform', 'distance'],\n",
    "        'kneighborsclassifier__leaf_size':[20,30,40],\n",
    "        'kneighborsclassifier__p':[1,2,3]\n",
    "    },\n",
    "    cv=5,\n",
    "    n_iter = 50,\n",
    "    scoring=\"recall\"\n",
    ")\n",
    "\n",
    "search_knn.fit(X,y)\n",
    "\n",
    "clf_knn_tuned = search_knn.best_estimator_\n",
    "clf_knn_tuned"
   ]
  },
  {
   "cell_type": "code",
   "execution_count": 154,
   "id": "4cf9badc",
   "metadata": {},
   "outputs": [
    {
     "data": {
      "text/plain": [
       "{'memory': None,\n",
       " 'steps': [('minmaxscaler', MinMaxScaler()),\n",
       "  ('kneighborsclassifier',\n",
       "   KNeighborsClassifier(algorithm='brute', leaf_size=20, n_neighbors=1, p=1,\n",
       "                        weights='distance'))],\n",
       " 'verbose': False,\n",
       " 'minmaxscaler': MinMaxScaler(),\n",
       " 'kneighborsclassifier': KNeighborsClassifier(algorithm='brute', leaf_size=20, n_neighbors=1, p=1,\n",
       "                      weights='distance'),\n",
       " 'minmaxscaler__clip': False,\n",
       " 'minmaxscaler__copy': True,\n",
       " 'minmaxscaler__feature_range': (0, 1),\n",
       " 'kneighborsclassifier__algorithm': 'brute',\n",
       " 'kneighborsclassifier__leaf_size': 20,\n",
       " 'kneighborsclassifier__metric': 'minkowski',\n",
       " 'kneighborsclassifier__metric_params': None,\n",
       " 'kneighborsclassifier__n_jobs': None,\n",
       " 'kneighborsclassifier__n_neighbors': 1,\n",
       " 'kneighborsclassifier__p': 1,\n",
       " 'kneighborsclassifier__weights': 'distance'}"
      ]
     },
     "execution_count": 154,
     "metadata": {},
     "output_type": "execute_result"
    }
   ],
   "source": [
    "clf_knn_tuned.get_params()"
   ]
  },
  {
   "cell_type": "code",
   "execution_count": 155,
   "id": "00b3656e",
   "metadata": {},
   "outputs": [
    {
     "name": "stdout",
     "output_type": "stream",
     "text": [
      "[0.6        0.4        0.45       0.36842105 0.47368421 0.57894737\n",
      " 0.52631579 0.42105263 0.47368421 0.52631579]\n",
      "0.4818421052631579\n"
     ]
    }
   ],
   "source": [
    "scores_knn = cross_val_score(clf_knn_tuned, X,y,cv=10, scoring=\"recall\")\n",
    "score_knn = scores_knn.mean()\n",
    "\n",
    "print(scores_knn)\n",
    "print(scores_knn.mean())"
   ]
  },
  {
   "cell_type": "markdown",
   "id": "55edee0c",
   "metadata": {},
   "source": [
    "# Time Series Forest Classifier (sktime)"
   ]
  },
  {
   "cell_type": "markdown",
   "id": "581452ce",
   "metadata": {},
   "source": [
    "We can try the sktime package to take care time shift effects. KNN first and then ensemble classifiers"
   ]
  },
  {
   "cell_type": "code",
   "execution_count": 156,
   "id": "8f9af3c7",
   "metadata": {},
   "outputs": [],
   "source": [
    "from sktime.datatypes._panel._convert import from_multi_index_to_3d_numpy"
   ]
  },
  {
   "cell_type": "code",
   "execution_count": 159,
   "id": "80f3cdda",
   "metadata": {},
   "outputs": [
    {
     "data": {
      "text/plain": [
       "0      [-0.014939931, -0.015137674, -0.015344764, -0....\n",
       "1      [0.009304384, 0.021842243, 0.03387945, 0.04530...\n",
       "2      [-0.0057269894, -0.0052762283, -0.0048356913, ...\n",
       "3      [-0.02624997, -0.02599725, -0.025725888, -0.02...\n",
       "4      [-0.006009835, -0.005675483, -0.005332388, -0....\n",
       "                             ...                        \n",
       "423    [-0.033141844, -0.029803721, -0.02654953, -0.0...\n",
       "424    [0.000518905, -0.0009550942, -0.0023938122, -0...\n",
       "425    [-0.031074673, -0.029285496, -0.027446643, -0....\n",
       "426    [0.0035850152, 0.003623246, 0.003651578, 0.003...\n",
       "427    [0.020302558, 0.01910412, 0.017917423, 0.01674...\n",
       "Name: npy_arrays, Length: 428, dtype: object"
      ]
     },
     "execution_count": 159,
     "metadata": {},
     "output_type": "execute_result"
    }
   ],
   "source": [
    "X = circor_df_3.loc[:, 'npy_arrays'] #This needs a different input shape, in 3D; so start with numpy arrays\n",
    "y = circor_df_3.loc[:, 'outcome']\n",
    "X"
   ]
  },
  {
   "cell_type": "code",
   "execution_count": 161,
   "id": "70005a5f",
   "metadata": {},
   "outputs": [],
   "source": [
    "# X_df_tsfc = from_multi_index_to_3d_numpy(X_df)\n",
    "# X_df_tsfc"
   ]
  },
  {
   "cell_type": "code",
   "execution_count": 162,
   "id": "6b91c49a",
   "metadata": {},
   "outputs": [],
   "source": [
    "# clf = TimeSeriesForestClassifier()\n",
    "# clf.fit(X_train, y_train)\n",
    "# y_pred = clf.predict(X_test)\n",
    "# recall_tsfc = precision_recall_fscore_support(y_test, y_pred, average='macro')[1]\n",
    "# recall_tsfc"
   ]
  }
 ],
 "metadata": {
  "kernelspec": {
   "display_name": "circor",
   "language": "python",
   "name": "circor"
  },
  "language_info": {
   "codemirror_mode": {
    "name": "ipython",
    "version": 3
   },
   "file_extension": ".py",
   "mimetype": "text/x-python",
   "name": "python",
   "nbconvert_exporter": "python",
   "pygments_lexer": "ipython3",
   "version": "3.10.6"
  },
  "latex_envs": {
   "LaTeX_envs_menu_present": true,
   "autoclose": false,
   "autocomplete": true,
   "bibliofile": "biblio.bib",
   "cite_by": "apalike",
   "current_citInitial": 1,
   "eqLabelWithNumbers": true,
   "eqNumInitial": 1,
   "hotkeys": {
    "equation": "Ctrl-E",
    "itemize": "Ctrl-I"
   },
   "labels_anchors": false,
   "latex_user_defs": false,
   "report_style_numbering": false,
   "user_envs_cfg": false
  },
  "toc": {
   "base_numbering": 1,
   "nav_menu": {},
   "number_sections": true,
   "sideBar": true,
   "skip_h1_title": false,
   "title_cell": "Table of Contents",
   "title_sidebar": "Contents",
   "toc_cell": false,
   "toc_position": {
    "height": "calc(100% - 180px)",
    "left": "10px",
    "top": "150px",
    "width": "382.391px"
   },
   "toc_section_display": true,
   "toc_window_display": true
  }
 },
 "nbformat": 4,
 "nbformat_minor": 5
}
