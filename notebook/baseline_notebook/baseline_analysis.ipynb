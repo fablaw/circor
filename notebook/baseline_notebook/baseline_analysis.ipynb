{
 "cells": [
  {
   "cell_type": "markdown",
   "id": "47185c69",
   "metadata": {},
   "source": [
    "# Imports & class repartition checkout"
   ]
  },
  {
   "cell_type": "code",
   "execution_count": 1,
   "id": "f5f6adfa",
   "metadata": {},
   "outputs": [],
   "source": [
    "import pandas as pd\n",
    "import numpy as np"
   ]
  },
  {
   "cell_type": "markdown",
   "id": "6e8afcb0",
   "metadata": {},
   "source": [
    "## Load data"
   ]
  },
  {
   "cell_type": "code",
   "execution_count": 2,
   "id": "ebb31878",
   "metadata": {},
   "outputs": [],
   "source": [
    "training_data = pd.read_csv('training_data.csv')"
   ]
  },
  {
   "cell_type": "code",
   "execution_count": 3,
   "id": "f9116262",
   "metadata": {
    "collapsed": true
   },
   "outputs": [
    {
     "data": {
      "text/html": [
       "<div>\n",
       "<style scoped>\n",
       "    .dataframe tbody tr th:only-of-type {\n",
       "        vertical-align: middle;\n",
       "    }\n",
       "\n",
       "    .dataframe tbody tr th {\n",
       "        vertical-align: top;\n",
       "    }\n",
       "\n",
       "    .dataframe thead th {\n",
       "        text-align: right;\n",
       "    }\n",
       "</style>\n",
       "<table border=\"1\" class=\"dataframe\">\n",
       "  <thead>\n",
       "    <tr style=\"text-align: right;\">\n",
       "      <th></th>\n",
       "      <th>Patient ID</th>\n",
       "      <th>Recording locations:</th>\n",
       "      <th>Age</th>\n",
       "      <th>Sex</th>\n",
       "      <th>Height</th>\n",
       "      <th>Weight</th>\n",
       "      <th>Pregnancy status</th>\n",
       "      <th>Murmur</th>\n",
       "      <th>Murmur locations</th>\n",
       "      <th>Most audible location</th>\n",
       "      <th>...</th>\n",
       "      <th>Systolic murmur pitch</th>\n",
       "      <th>Systolic murmur quality</th>\n",
       "      <th>Diastolic murmur timing</th>\n",
       "      <th>Diastolic murmur shape</th>\n",
       "      <th>Diastolic murmur grading</th>\n",
       "      <th>Diastolic murmur pitch</th>\n",
       "      <th>Diastolic murmur quality</th>\n",
       "      <th>Outcome</th>\n",
       "      <th>Campaign</th>\n",
       "      <th>Additional ID</th>\n",
       "    </tr>\n",
       "  </thead>\n",
       "  <tbody>\n",
       "    <tr>\n",
       "      <th>0</th>\n",
       "      <td>2530</td>\n",
       "      <td>AV+PV+TV+MV</td>\n",
       "      <td>Child</td>\n",
       "      <td>Female</td>\n",
       "      <td>98.0</td>\n",
       "      <td>15.9</td>\n",
       "      <td>False</td>\n",
       "      <td>Absent</td>\n",
       "      <td>NaN</td>\n",
       "      <td>NaN</td>\n",
       "      <td>...</td>\n",
       "      <td>NaN</td>\n",
       "      <td>NaN</td>\n",
       "      <td>NaN</td>\n",
       "      <td>NaN</td>\n",
       "      <td>NaN</td>\n",
       "      <td>NaN</td>\n",
       "      <td>NaN</td>\n",
       "      <td>Abnormal</td>\n",
       "      <td>CC2015</td>\n",
       "      <td>NaN</td>\n",
       "    </tr>\n",
       "    <tr>\n",
       "      <th>1</th>\n",
       "      <td>9979</td>\n",
       "      <td>AV+PV+TV+MV</td>\n",
       "      <td>Child</td>\n",
       "      <td>Female</td>\n",
       "      <td>103.0</td>\n",
       "      <td>13.1</td>\n",
       "      <td>False</td>\n",
       "      <td>Present</td>\n",
       "      <td>AV+MV+PV+TV</td>\n",
       "      <td>TV</td>\n",
       "      <td>...</td>\n",
       "      <td>High</td>\n",
       "      <td>Harsh</td>\n",
       "      <td>NaN</td>\n",
       "      <td>NaN</td>\n",
       "      <td>NaN</td>\n",
       "      <td>NaN</td>\n",
       "      <td>NaN</td>\n",
       "      <td>Abnormal</td>\n",
       "      <td>CC2015</td>\n",
       "      <td>NaN</td>\n",
       "    </tr>\n",
       "    <tr>\n",
       "      <th>2</th>\n",
       "      <td>9983</td>\n",
       "      <td>AV+PV+TV+MV</td>\n",
       "      <td>Child</td>\n",
       "      <td>Male</td>\n",
       "      <td>115.0</td>\n",
       "      <td>19.1</td>\n",
       "      <td>False</td>\n",
       "      <td>Unknown</td>\n",
       "      <td>NaN</td>\n",
       "      <td>NaN</td>\n",
       "      <td>...</td>\n",
       "      <td>NaN</td>\n",
       "      <td>NaN</td>\n",
       "      <td>NaN</td>\n",
       "      <td>NaN</td>\n",
       "      <td>NaN</td>\n",
       "      <td>NaN</td>\n",
       "      <td>NaN</td>\n",
       "      <td>Abnormal</td>\n",
       "      <td>CC2015</td>\n",
       "      <td>NaN</td>\n",
       "    </tr>\n",
       "    <tr>\n",
       "      <th>3</th>\n",
       "      <td>13918</td>\n",
       "      <td>AV+PV+TV+MV</td>\n",
       "      <td>Child</td>\n",
       "      <td>Male</td>\n",
       "      <td>98.0</td>\n",
       "      <td>15.9</td>\n",
       "      <td>False</td>\n",
       "      <td>Present</td>\n",
       "      <td>TV</td>\n",
       "      <td>TV</td>\n",
       "      <td>...</td>\n",
       "      <td>Low</td>\n",
       "      <td>Blowing</td>\n",
       "      <td>NaN</td>\n",
       "      <td>NaN</td>\n",
       "      <td>NaN</td>\n",
       "      <td>NaN</td>\n",
       "      <td>NaN</td>\n",
       "      <td>Abnormal</td>\n",
       "      <td>CC2015</td>\n",
       "      <td>NaN</td>\n",
       "    </tr>\n",
       "    <tr>\n",
       "      <th>4</th>\n",
       "      <td>14241</td>\n",
       "      <td>AV+PV+TV+MV</td>\n",
       "      <td>Child</td>\n",
       "      <td>Male</td>\n",
       "      <td>87.0</td>\n",
       "      <td>11.2</td>\n",
       "      <td>False</td>\n",
       "      <td>Present</td>\n",
       "      <td>AV+MV+PV+TV</td>\n",
       "      <td>PV</td>\n",
       "      <td>...</td>\n",
       "      <td>Low</td>\n",
       "      <td>Harsh</td>\n",
       "      <td>NaN</td>\n",
       "      <td>NaN</td>\n",
       "      <td>NaN</td>\n",
       "      <td>NaN</td>\n",
       "      <td>NaN</td>\n",
       "      <td>Abnormal</td>\n",
       "      <td>CC2015</td>\n",
       "      <td>NaN</td>\n",
       "    </tr>\n",
       "  </tbody>\n",
       "</table>\n",
       "<p>5 rows × 23 columns</p>\n",
       "</div>"
      ],
      "text/plain": [
       "   Patient ID Recording locations:    Age     Sex  Height  Weight  \\\n",
       "0        2530          AV+PV+TV+MV  Child  Female    98.0    15.9   \n",
       "1        9979          AV+PV+TV+MV  Child  Female   103.0    13.1   \n",
       "2        9983          AV+PV+TV+MV  Child    Male   115.0    19.1   \n",
       "3       13918          AV+PV+TV+MV  Child    Male    98.0    15.9   \n",
       "4       14241          AV+PV+TV+MV  Child    Male    87.0    11.2   \n",
       "\n",
       "   Pregnancy status   Murmur Murmur locations Most audible location  ...  \\\n",
       "0             False   Absent              NaN                   NaN  ...   \n",
       "1             False  Present      AV+MV+PV+TV                    TV  ...   \n",
       "2             False  Unknown              NaN                   NaN  ...   \n",
       "3             False  Present               TV                    TV  ...   \n",
       "4             False  Present      AV+MV+PV+TV                    PV  ...   \n",
       "\n",
       "  Systolic murmur pitch Systolic murmur quality Diastolic murmur timing  \\\n",
       "0                   NaN                     NaN                     NaN   \n",
       "1                  High                   Harsh                     NaN   \n",
       "2                   NaN                     NaN                     NaN   \n",
       "3                   Low                 Blowing                     NaN   \n",
       "4                   Low                   Harsh                     NaN   \n",
       "\n",
       "  Diastolic murmur shape Diastolic murmur grading Diastolic murmur pitch  \\\n",
       "0                    NaN                      NaN                    NaN   \n",
       "1                    NaN                      NaN                    NaN   \n",
       "2                    NaN                      NaN                    NaN   \n",
       "3                    NaN                      NaN                    NaN   \n",
       "4                    NaN                      NaN                    NaN   \n",
       "\n",
       "  Diastolic murmur quality   Outcome Campaign Additional ID  \n",
       "0                      NaN  Abnormal   CC2015           NaN  \n",
       "1                      NaN  Abnormal   CC2015           NaN  \n",
       "2                      NaN  Abnormal   CC2015           NaN  \n",
       "3                      NaN  Abnormal   CC2015           NaN  \n",
       "4                      NaN  Abnormal   CC2015           NaN  \n",
       "\n",
       "[5 rows x 23 columns]"
      ]
     },
     "execution_count": 3,
     "metadata": {},
     "output_type": "execute_result"
    }
   ],
   "source": [
    "training_data.head()"
   ]
  },
  {
   "cell_type": "markdown",
   "id": "1d1c5ae5",
   "metadata": {},
   "source": [
    "## Checkout initial class balance"
   ]
  },
  {
   "cell_type": "code",
   "execution_count": 4,
   "id": "6ae5cdd2",
   "metadata": {
    "collapsed": true
   },
   "outputs": [
    {
     "data": {
      "text/plain": [
       "Absent     695\n",
       "Present    179\n",
       "Unknown     68\n",
       "Name: Murmur, dtype: int64"
      ]
     },
     "execution_count": 4,
     "metadata": {},
     "output_type": "execute_result"
    }
   ],
   "source": [
    "training_data['Murmur'].value_counts()"
   ]
  },
  {
   "cell_type": "code",
   "execution_count": 5,
   "id": "123c576e",
   "metadata": {
    "collapsed": true
   },
   "outputs": [
    {
     "data": {
      "text/plain": [
       "Normal      486\n",
       "Abnormal    456\n",
       "Name: Outcome, dtype: int64"
      ]
     },
     "execution_count": 5,
     "metadata": {},
     "output_type": "execute_result"
    }
   ],
   "source": [
    "training_data['Outcome'].value_counts()"
   ]
  },
  {
   "cell_type": "code",
   "execution_count": 7,
   "id": "142a2ebb",
   "metadata": {},
   "outputs": [
    {
     "data": {
      "text/plain": [
       "874"
      ]
     },
     "execution_count": 7,
     "metadata": {},
     "output_type": "execute_result"
    }
   ],
   "source": [
    "n_observations_without_unknown = len(training_data[training_data['Murmur'] != 'Unknown'])\n",
    "n_observations_without_unknown #number of observations different than "
   ]
  },
  {
   "cell_type": "code",
   "execution_count": 6,
   "id": "33b03036",
   "metadata": {},
   "outputs": [],
   "source": [
    "n_observations = len(training_data) #compute number of observations"
   ]
  },
  {
   "cell_type": "markdown",
   "id": "3eaf1846",
   "metadata": {},
   "source": [
    "# Baseline model creation"
   ]
  },
  {
   "cell_type": "markdown",
   "id": "88811d72",
   "metadata": {},
   "source": [
    "## Definition & Result overview"
   ]
  },
  {
   "cell_type": "markdown",
   "id": "470c01ea",
   "metadata": {},
   "source": [
    "This dataset gathers information about the heart' condition of brazilian patients. In the perspective of the heart disease prevention campaign, heart recordings were taken as well as a full checkup of the patients. Based only on the sound recordings, auditors (specialised doctors with heavy experience in the field) categorized the patients (COLUMN 'MURMUR') as having a murmur : Absent, Present or Unknown. \n",
    "\n",
    "For each of those patients, a full checkup confirmed or not the presence of a murmur => this is what we consider as truth. \n",
    "\n",
    "Therefore our baseline is the ability of the auditor to classify correctly a heart recordings.\n",
    "\n",
    "NB: For 68 observations, auditor input a \"Unknown\" diagnostic. In the following section we will consider this class in different ways in order to have the best evaluation of auditor' performance."
   ]
  },
  {
   "cell_type": "markdown",
   "id": "5adebb02",
   "metadata": {},
   "source": [
    "<span style='color:blue '>  Baseline without taking into consideration \"unknown\" situation is recall = 36% </span>"
   ]
  },
  {
   "cell_type": "markdown",
   "id": "a24cd280",
   "metadata": {},
   "source": [
    "<span style='color:blue '>  Baseline taking into consideration \"unknown\" as =Present is recall = 42% </span>"
   ]
  },
  {
   "cell_type": "markdown",
   "id": "98c57394",
   "metadata": {},
   "source": [
    "<span style='color:blue '>  Baseline taking into consideration \"unknown\" as \"Normal\" situation is recall = 32% </span>"
   ]
  },
  {
   "cell_type": "markdown",
   "id": "e2e5560a",
   "metadata": {},
   "source": [
    "## Baseline without taking Unknown into consideration"
   ]
  },
  {
   "cell_type": "code",
   "execution_count": 8,
   "id": "e6e2e328",
   "metadata": {},
   "outputs": [],
   "source": [
    "#Compute the number of rows where auditor says murmur is absent and full checkup confirms it\n",
    "true_negatives = len(training_data[(training_data['Murmur'] == 'Absent') \n",
    "                    & (training_data['Outcome'] == 'Normal')])\n",
    "\n",
    "#Compute the number of rows where auditor says murmur is present and full checkup confirms it\n",
    "true_positives = len(training_data[(training_data['Murmur'] == 'Present')\n",
    "                    & (training_data['Outcome'] == 'Abnormal')])\n",
    "\n",
    "#Compute the number of rows where auditor says murmur is present but full checkup says the opposite\n",
    "false_positives=len(training_data[(training_data['Murmur']=='Present')\n",
    "                    & (training_data['Outcome']=='Normal')])\n",
    "\n",
    "#Compute the number of rows where auditor says murmur is absent but full checkup says the opposite\n",
    "false_negatives=len(training_data[(training_data['Murmur']=='Absent')\n",
    "                    & (training_data['Outcome']=='Abnormal')])"
   ]
  },
  {
   "cell_type": "code",
   "execution_count": 12,
   "id": "8991384c",
   "metadata": {},
   "outputs": [
    {
     "name": "stdout",
     "output_type": "stream",
     "text": [
      " Without taking into considerations the \"Unknown diagnostics\", we have: \n",
      " n_true_positives = 150, n_true_negatives = 432 \n",
      " n_false_positives = 29, n_false_negatives = 263\n"
     ]
    }
   ],
   "source": [
    "print(f' Without taking into considerations the \"Unknown diagnostics\", we have: \\n n_true_positives = {true_positives}, n_true_negatives = {true_negatives} \\n n_false_positives = {false_positives}, n_false_negatives = {false_negatives}')"
   ]
  },
  {
   "cell_type": "code",
   "execution_count": 13,
   "id": "0a61e321",
   "metadata": {},
   "outputs": [
    {
     "data": {
      "text/plain": [
       "36.31961259079903"
      ]
     },
     "execution_count": 13,
     "metadata": {},
     "output_type": "execute_result"
    }
   ],
   "source": [
    "recall_no_unknown = true_positives / (true_positives + false_negatives) * 100\n",
    "recall_no_unknown"
   ]
  },
  {
   "cell_type": "markdown",
   "id": "7ed46c2a",
   "metadata": {},
   "source": [
    "<span style='color:blue '>  Baseline without taking into consideration \"unknown\" situation is recall = 36% </span>"
   ]
  },
  {
   "cell_type": "markdown",
   "id": "3f8f7b9d",
   "metadata": {},
   "source": [
    "## Baseline if we handle Unknown as \"Abnormal\""
   ]
  },
  {
   "cell_type": "code",
   "execution_count": 15,
   "id": "2dcd06d4",
   "metadata": {},
   "outputs": [],
   "source": [
    "training_data_ua = training_data.copy()"
   ]
  },
  {
   "cell_type": "code",
   "execution_count": 17,
   "id": "a0c58f0d",
   "metadata": {},
   "outputs": [],
   "source": [
    "#Replacing all \"Unknown values by \"Present\" in the Murmur column\n",
    "\n",
    "training_data_ua.loc[training_data_ua['Murmur']=='Unknown', 'Murmur'] = 'Present'"
   ]
  },
  {
   "cell_type": "code",
   "execution_count": 20,
   "id": "6647d081",
   "metadata": {},
   "outputs": [],
   "source": [
    "#Compute the number of rows where auditor says murmur is absent and full checkup confirms it\n",
    "true_negatives = len(training_data_ua[(training_data_ua['Murmur'] == 'Absent') \n",
    "                    & (training_data_ua['Outcome'] == 'Normal')])\n",
    "\n",
    "#Compute the number of rows where auditor says murmur is absent but full checkup says the opposite\n",
    "false_negatives=len(training_data_ua[(training_data_ua['Murmur']=='Absent')\n",
    "                    & (training_data_ua['Outcome']=='Abnormal')])\n",
    "\n",
    "#Compute the number of rows where auditor says murmur is present and full checkup confirms it\n",
    "true_positives = len(training_data_ua[(training_data_ua['Murmur'] == 'Present')\n",
    "                    & (training_data_ua['Outcome'] == 'Abnormal')])\n",
    "\n",
    "#Compute the number of rows where auditor says murmur is present but full checkup says the opposite\n",
    "false_positives=len(training_data_ua[(training_data_ua['Murmur']=='Present')\n",
    "                    & (training_data_ua['Outcome']=='Normal')])"
   ]
  },
  {
   "cell_type": "code",
   "execution_count": 33,
   "id": "1fc75639",
   "metadata": {},
   "outputs": [
    {
     "name": "stdout",
     "output_type": "stream",
     "text": [
      " Taking into consideration the \"Unknown diagnostics\" as \"Present\", we have: \n",
      " n_true_positives = 150, n_true_negatives = 457 \n",
      " n_false_positives = 29, n_false_negatives = 306\n"
     ]
    }
   ],
   "source": [
    "print(f' Taking into consideration the \"Unknown diagnostics\" as \"Present\", we have: \\n n_true_positives = {true_positives}, n_true_negatives = {true_negatives} \\n n_false_positives = {false_positives}, n_false_negatives = {false_negatives}')"
   ]
  },
  {
   "cell_type": "code",
   "execution_count": 21,
   "id": "d8fd71d8",
   "metadata": {},
   "outputs": [
    {
     "data": {
      "text/plain": [
       "42.32456140350877"
      ]
     },
     "execution_count": 21,
     "metadata": {},
     "output_type": "execute_result"
    }
   ],
   "source": [
    "recall_unknown_as_abnormal = true_positives / (true_positives + false_negatives) * 100\n",
    "recall_unknown_as_abnormal"
   ]
  },
  {
   "cell_type": "markdown",
   "id": "034ae7ca",
   "metadata": {},
   "source": [
    "<span style='color:blue '>  Baseline taking into consideration \"unknown\" as =Present is recall = 42% </span>"
   ]
  },
  {
   "cell_type": "markdown",
   "id": "fd19e8b9",
   "metadata": {},
   "source": [
    "## Baseline if we handle Unknown as \"Normal / Absent\""
   ]
  },
  {
   "cell_type": "code",
   "execution_count": 22,
   "id": "8a910131",
   "metadata": {},
   "outputs": [],
   "source": [
    "training_data_un = training_data.copy()"
   ]
  },
  {
   "cell_type": "code",
   "execution_count": 34,
   "id": "a7c9aa3c",
   "metadata": {},
   "outputs": [
    {
     "data": {
      "text/plain": [
       "Absent     763\n",
       "Present    179\n",
       "Name: Murmur, dtype: int64"
      ]
     },
     "execution_count": 34,
     "metadata": {},
     "output_type": "execute_result"
    }
   ],
   "source": [
    "#Replacing all \"Unknown values by \"Absent\" in the Murmur column\n",
    "\n",
    "training_data_un.loc[training_data_un['Murmur']=='Unknown', 'Murmur'] = 'Absent'\n",
    "\n",
    "#Checking that change ocurred \n",
    "\n",
    "training_data_un['Murmur'].value_counts()"
   ]
  },
  {
   "cell_type": "code",
   "execution_count": 26,
   "id": "589ac687",
   "metadata": {},
   "outputs": [],
   "source": [
    "#Compute the number of rows where auditor says murmur is absent and full checkup confirms it\n",
    "true_negatives = len(training_data_un[(training_data_un['Murmur'] == 'Absent') \n",
    "                    & (training_data_un['Outcome'] == 'Normal')])\n",
    "\n",
    "#Compute the number of rows where auditor says murmur is absent but full checkup says the opposite\n",
    "false_negatives=len(training_data_un[(training_data_un['Murmur']=='Absent')\n",
    "                    & (training_data_un['Outcome']=='Abnormal')])\n",
    "\n",
    "#Compute the number of rows where auditor says murmur is present and full checkup confirms it\n",
    "true_positives = len(training_data_un[(training_data_un['Murmur'] == 'Present')\n",
    "                    & (training_data_un['Outcome'] == 'Abnormal')])\n",
    "\n",
    "#Compute the number of rows where auditor says murmur is present but full checkup says the opposite\n",
    "false_positives=len(training_data_un[(training_data_un['Murmur']=='Present')\n",
    "                    & (training_data_un['Outcome']=='Normal')])"
   ]
  },
  {
   "cell_type": "code",
   "execution_count": 27,
   "id": "b1bc7ce9",
   "metadata": {},
   "outputs": [
    {
     "data": {
      "text/plain": [
       "32.89473684210527"
      ]
     },
     "execution_count": 27,
     "metadata": {},
     "output_type": "execute_result"
    }
   ],
   "source": [
    "recall_unknown_as_normal = true_positives / (true_positives + false_negatives) * 100\n",
    "recall_unknown_as_normal"
   ]
  },
  {
   "cell_type": "markdown",
   "id": "12b07854",
   "metadata": {},
   "source": [
    "<span style='color:blue '>  Baseline taking into consideration \"unknown\" as =Absent is recall = 32% </span>"
   ]
  }
 ],
 "metadata": {
  "kernelspec": {
   "display_name": "Python 3 (ipykernel)",
   "language": "python",
   "name": "python3"
  },
  "language_info": {
   "codemirror_mode": {
    "name": "ipython",
    "version": 3
   },
   "file_extension": ".py",
   "mimetype": "text/x-python",
   "name": "python",
   "nbconvert_exporter": "python",
   "pygments_lexer": "ipython3",
   "version": "3.10.6"
  },
  "toc": {
   "base_numbering": 1,
   "nav_menu": {},
   "number_sections": true,
   "sideBar": true,
   "skip_h1_title": false,
   "title_cell": "Table of Contents",
   "title_sidebar": "Contents",
   "toc_cell": false,
   "toc_position": {},
   "toc_section_display": true,
   "toc_window_display": true
  },
  "varInspector": {
   "cols": {
    "lenName": 16,
    "lenType": 16,
    "lenVar": 40
   },
   "kernels_config": {
    "python": {
     "delete_cmd_postfix": "",
     "delete_cmd_prefix": "del ",
     "library": "var_list.py",
     "varRefreshCmd": "print(var_dic_list())"
    },
    "r": {
     "delete_cmd_postfix": ") ",
     "delete_cmd_prefix": "rm(",
     "library": "var_list.r",
     "varRefreshCmd": "cat(var_dic_list()) "
    }
   },
   "types_to_exclude": [
    "module",
    "function",
    "builtin_function_or_method",
    "instance",
    "_Feature"
   ],
   "window_display": false
  }
 },
 "nbformat": 4,
 "nbformat_minor": 5
}
