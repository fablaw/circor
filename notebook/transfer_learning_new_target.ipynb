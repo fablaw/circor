{
 "cells": [
  {
   "cell_type": "code",
   "execution_count": 1,
   "id": "6b83daa9",
   "metadata": {},
   "outputs": [
    {
     "data": {
      "text/html": [
       "<div>\n",
       "<style scoped>\n",
       "    .dataframe tbody tr th:only-of-type {\n",
       "        vertical-align: middle;\n",
       "    }\n",
       "\n",
       "    .dataframe tbody tr th {\n",
       "        vertical-align: top;\n",
       "    }\n",
       "\n",
       "    .dataframe thead th {\n",
       "        text-align: right;\n",
       "    }\n",
       "</style>\n",
       "<table border=\"1\" class=\"dataframe\">\n",
       "  <thead>\n",
       "    <tr style=\"text-align: right;\">\n",
       "      <th></th>\n",
       "      <th>Unnamed: 0</th>\n",
       "      <th>Patient_id</th>\n",
       "      <th>select</th>\n",
       "      <th>audible</th>\n",
       "      <th>target</th>\n",
       "    </tr>\n",
       "  </thead>\n",
       "  <tbody>\n",
       "    <tr>\n",
       "      <th>0</th>\n",
       "      <td>0</td>\n",
       "      <td>2530</td>\n",
       "      <td>TV</td>\n",
       "      <td>TV</td>\n",
       "      <td>Absent</td>\n",
       "    </tr>\n",
       "    <tr>\n",
       "      <th>1</th>\n",
       "      <td>1</td>\n",
       "      <td>9979</td>\n",
       "      <td>TV</td>\n",
       "      <td>TV</td>\n",
       "      <td>Present</td>\n",
       "    </tr>\n",
       "    <tr>\n",
       "      <th>2</th>\n",
       "      <td>3</td>\n",
       "      <td>13918</td>\n",
       "      <td>TV</td>\n",
       "      <td>TV</td>\n",
       "      <td>Present</td>\n",
       "    </tr>\n",
       "    <tr>\n",
       "      <th>3</th>\n",
       "      <td>4</td>\n",
       "      <td>14241</td>\n",
       "      <td>PV</td>\n",
       "      <td>PV</td>\n",
       "      <td>Present</td>\n",
       "    </tr>\n",
       "    <tr>\n",
       "      <th>4</th>\n",
       "      <td>5</td>\n",
       "      <td>14998</td>\n",
       "      <td>PV</td>\n",
       "      <td>PV</td>\n",
       "      <td>Absent</td>\n",
       "    </tr>\n",
       "    <tr>\n",
       "      <th>...</th>\n",
       "      <td>...</td>\n",
       "      <td>...</td>\n",
       "      <td>...</td>\n",
       "      <td>...</td>\n",
       "      <td>...</td>\n",
       "    </tr>\n",
       "    <tr>\n",
       "      <th>807</th>\n",
       "      <td>937</td>\n",
       "      <td>85340</td>\n",
       "      <td>MV</td>\n",
       "      <td>MV</td>\n",
       "      <td>Absent</td>\n",
       "    </tr>\n",
       "    <tr>\n",
       "      <th>808</th>\n",
       "      <td>938</td>\n",
       "      <td>85341</td>\n",
       "      <td>MV</td>\n",
       "      <td>MV</td>\n",
       "      <td>Absent</td>\n",
       "    </tr>\n",
       "    <tr>\n",
       "      <th>809</th>\n",
       "      <td>939</td>\n",
       "      <td>85343</td>\n",
       "      <td>AV</td>\n",
       "      <td>TV</td>\n",
       "      <td>Present</td>\n",
       "    </tr>\n",
       "    <tr>\n",
       "      <th>810</th>\n",
       "      <td>940</td>\n",
       "      <td>85345</td>\n",
       "      <td>PV</td>\n",
       "      <td>PV</td>\n",
       "      <td>Absent</td>\n",
       "    </tr>\n",
       "    <tr>\n",
       "      <th>811</th>\n",
       "      <td>941</td>\n",
       "      <td>85349</td>\n",
       "      <td>PV</td>\n",
       "      <td>PV</td>\n",
       "      <td>Absent</td>\n",
       "    </tr>\n",
       "  </tbody>\n",
       "</table>\n",
       "<p>812 rows × 5 columns</p>\n",
       "</div>"
      ],
      "text/plain": [
       "     Unnamed: 0  Patient_id select audible   target\n",
       "0             0        2530     TV      TV   Absent\n",
       "1             1        9979     TV      TV  Present\n",
       "2             3       13918     TV      TV  Present\n",
       "3             4       14241     PV      PV  Present\n",
       "4             5       14998     PV      PV   Absent\n",
       "..          ...         ...    ...     ...      ...\n",
       "807         937       85340     MV      MV   Absent\n",
       "808         938       85341     MV      MV   Absent\n",
       "809         939       85343     AV      TV  Present\n",
       "810         940       85345     PV      PV   Absent\n",
       "811         941       85349     PV      PV   Absent\n",
       "\n",
       "[812 rows x 5 columns]"
      ]
     },
     "execution_count": 1,
     "metadata": {},
     "output_type": "execute_result"
    }
   ],
   "source": [
    "import numpy as np\n",
    "import pandas as pd\n",
    "\n",
    "df=pd.read_csv('/Users/fabianlaw/code/fablaw/circor/raw_data/1.0.3/new_table_3.csv')\n",
    "df"
   ]
  },
  {
   "cell_type": "code",
   "execution_count": 2,
   "id": "126011bb",
   "metadata": {},
   "outputs": [
    {
     "data": {
      "text/plain": [
       "array([720])"
      ]
     },
     "execution_count": 2,
     "metadata": {},
     "output_type": "execute_result"
    }
   ],
   "source": [
    "df[df.Patient_id == 85165].index.values"
   ]
  },
  {
   "cell_type": "code",
   "execution_count": 3,
   "id": "1baa3ead",
   "metadata": {},
   "outputs": [],
   "source": [
    "df.loc[720, 'audible']='AV'"
   ]
  },
  {
   "cell_type": "code",
   "execution_count": 4,
   "id": "17800ed0",
   "metadata": {},
   "outputs": [],
   "source": [
    "X_raw=[]\n",
    "for i in df.index:\n",
    "    file='../raw_data/1.0.3/proc_img_2/'+str(df.loc[i,'Patient_id'])+'_'+df.loc[i,'audible']+'.npy'\n",
    "    v=np.load(file)\n",
    "    X_raw.append(v)\n",
    "    \n",
    "X=np.stack(X_raw)"
   ]
  },
  {
   "cell_type": "code",
   "execution_count": 5,
   "id": "c78fc7bc",
   "metadata": {},
   "outputs": [
    {
     "data": {
      "text/plain": [
       "(812,)"
      ]
     },
     "execution_count": 5,
     "metadata": {},
     "output_type": "execute_result"
    }
   ],
   "source": [
    "y=df.target.map({'Present': 1, 'Absent': 0})\n",
    "y.shape"
   ]
  },
  {
   "cell_type": "code",
   "execution_count": 6,
   "id": "cddc226f",
   "metadata": {},
   "outputs": [
    {
     "data": {
      "text/plain": [
       "(812, 224, 224, 3)"
      ]
     },
     "execution_count": 6,
     "metadata": {},
     "output_type": "execute_result"
    }
   ],
   "source": [
    "X.shape"
   ]
  },
  {
   "cell_type": "code",
   "execution_count": 7,
   "id": "69dbeb70",
   "metadata": {},
   "outputs": [
    {
     "data": {
      "text/plain": [
       "0      0\n",
       "1      1\n",
       "2      1\n",
       "3      1\n",
       "4      0\n",
       "      ..\n",
       "807    0\n",
       "808    0\n",
       "809    1\n",
       "810    0\n",
       "811    0\n",
       "Name: target, Length: 812, dtype: int64"
      ]
     },
     "execution_count": 7,
     "metadata": {},
     "output_type": "execute_result"
    }
   ],
   "source": [
    "y"
   ]
  },
  {
   "cell_type": "code",
   "execution_count": 8,
   "id": "fdec86ad",
   "metadata": {},
   "outputs": [],
   "source": [
    "from sklearn.utils import class_weight\n",
    "from sklearn.model_selection import train_test_split\n",
    "\n",
    "X_train, X_test, y_train, y_test=train_test_split(X, y, test_size=0.3, random_state=1)\n",
    "class_weights = class_weight.compute_class_weight(class_weight='balanced',\n",
    "                                                  classes=np.unique(y_train),\n",
    "                                                  y=y_train)"
   ]
  },
  {
   "cell_type": "code",
   "execution_count": 9,
   "id": "eff99db3",
   "metadata": {},
   "outputs": [
    {
     "data": {
      "text/plain": [
       "array([0.61471861, 2.67924528])"
      ]
     },
     "execution_count": 9,
     "metadata": {},
     "output_type": "execute_result"
    }
   ],
   "source": [
    "class_weights"
   ]
  },
  {
   "cell_type": "code",
   "execution_count": 10,
   "id": "afe7db6e",
   "metadata": {},
   "outputs": [],
   "source": [
    "cl={0: class_weights[0], 1: class_weights[1]}"
   ]
  },
  {
   "cell_type": "code",
   "execution_count": 11,
   "id": "882cc698",
   "metadata": {},
   "outputs": [],
   "source": [
    "from tensorflow.keras.layers import Dense, Flatten, MaxPooling2D, Conv2D, LSTM, BatchNormalization\n",
    "from tensorflow.keras import Sequential\n",
    "from tensorflow.keras.optimizers import Adam\n",
    "from tensorflow.keras.losses import BinaryCrossentropy\n",
    "from tensorflow.keras.callbacks import EarlyStopping\n",
    "from tensorflow.keras.applications.resnet import ResNet101\n",
    "from tensorflow.keras.metrics import Recall\n",
    "\n",
    "import matplotlib.pyplot as plt"
   ]
  },
  {
   "cell_type": "code",
   "execution_count": 12,
   "id": "f7c66a62",
   "metadata": {},
   "outputs": [],
   "source": [
    "base_model = ResNet101(include_top=False, input_shape=(224, 224, 3))"
   ]
  },
  {
   "cell_type": "code",
   "execution_count": 13,
   "id": "0e5daf24",
   "metadata": {},
   "outputs": [],
   "source": [
    "base_model.trainable = False"
   ]
  },
  {
   "cell_type": "code",
   "execution_count": 16,
   "id": "079519c8",
   "metadata": {},
   "outputs": [],
   "source": [
    "layer1=Conv2D(32, kernel_size=(3,3), activation='relu')\n",
    "layer2=BatchNormalization(gamma_initializer='ones', beta_initializer='zeros', moving_mean_)\n",
    "layer3=Dense(1, activation='sigmoid')"
   ]
  },
  {
   "cell_type": "code",
   "execution_count": 17,
   "id": "4e9d8885",
   "metadata": {},
   "outputs": [],
   "source": [
    "model = Sequential([base_model, layer1, layer2, layer3])"
   ]
  },
  {
   "cell_type": "code",
   "execution_count": 18,
   "id": "bea66477",
   "metadata": {},
   "outputs": [
    {
     "name": "stdout",
     "output_type": "stream",
     "text": [
      "Model: \"sequential\"\n",
      "_________________________________________________________________\n",
      " Layer (type)                Output Shape              Param #   \n",
      "=================================================================\n",
      " resnet101 (Functional)      (None, 7, 7, 2048)        42658176  \n",
      "                                                                 \n",
      " flatten (Flatten)           (None, 100352)            0         \n",
      "                                                                 \n",
      " dense (Dense)               (None, 1024)              102761472 \n",
      "                                                                 \n",
      " dense_1 (Dense)             (None, 1)                 1025      \n",
      "                                                                 \n",
      "=================================================================\n",
      "Total params: 145,420,673\n",
      "Trainable params: 102,762,497\n",
      "Non-trainable params: 42,658,176\n",
      "_________________________________________________________________\n"
     ]
    }
   ],
   "source": [
    "model.summary()"
   ]
  },
  {
   "cell_type": "code",
   "execution_count": 19,
   "id": "d5f7b18f",
   "metadata": {},
   "outputs": [],
   "source": [
    "model.compile(loss=BinaryCrossentropy(),\n",
    "              optimizer=Adam(learning_rate=0.0001),\n",
    "              metrics=['accuracy', Recall()])"
   ]
  },
  {
   "cell_type": "code",
   "execution_count": 24,
   "id": "dc8fb327",
   "metadata": {},
   "outputs": [
    {
     "name": "stderr",
     "output_type": "stream",
     "text": [
      "/Users/fabianlaw/.pyenv/versions/3.10.6/envs/circor/lib/python3.10/site-packages/keras/engine/data_adapter.py:1699: FutureWarning: The behavior of `series[i:j]` with an integer-dtype index is deprecated. In a future version, this will be treated as *label-based* indexing, consistent with e.g. `series[i]` lookups. To retain the old behavior, use `series.iloc[i:j]`. To get the future behavior, use `series.loc[i:j]`.\n",
      "  return t[start:end]\n"
     ]
    },
    {
     "name": "stdout",
     "output_type": "stream",
     "text": [
      "Epoch 1/150\n"
     ]
    },
    {
     "name": "stderr",
     "output_type": "stream",
     "text": [
      "2022-12-01 22:07:09.916482: W tensorflow/core/platform/profile_utils/cpu_utils.cc:128] Failed to get CPU frequency: 0 Hz\n"
     ]
    },
    {
     "name": "stdout",
     "output_type": "stream",
     "text": [
      "15/15 [==============================] - 39s 2s/step - loss: 1.7884 - accuracy: 0.4912 - recall: 0.4598 - val_loss: 0.6830 - val_accuracy: 0.8246 - val_recall: 0.1579\n",
      "Epoch 2/150\n",
      "15/15 [==============================] - 38s 3s/step - loss: 0.7551 - accuracy: 0.4053 - recall: 0.5977 - val_loss: 0.6219 - val_accuracy: 0.8333 - val_recall: 0.0000e+00\n",
      "Epoch 3/150\n",
      "15/15 [==============================] - 39s 3s/step - loss: 0.7407 - accuracy: 0.5044 - recall: 0.4943 - val_loss: 0.4790 - val_accuracy: 0.8333 - val_recall: 0.0000e+00\n",
      "Epoch 4/150\n",
      "15/15 [==============================] - 40s 3s/step - loss: 0.8383 - accuracy: 0.4736 - recall: 0.4138 - val_loss: 0.4506 - val_accuracy: 0.8333 - val_recall: 0.0000e+00\n",
      "Epoch 5/150\n",
      "15/15 [==============================] - 41s 3s/step - loss: 0.7799 - accuracy: 0.5044 - recall: 0.4368 - val_loss: 1.0125 - val_accuracy: 0.1667 - val_recall: 1.0000\n",
      "Epoch 6/150\n",
      "15/15 [==============================] - 41s 3s/step - loss: 0.7355 - accuracy: 0.5683 - recall: 0.5172 - val_loss: 0.7083 - val_accuracy: 0.3947 - val_recall: 0.6316\n",
      "Epoch 7/150\n",
      "15/15 [==============================] - 41s 3s/step - loss: 0.7340 - accuracy: 0.4670 - recall: 0.5402 - val_loss: 0.4546 - val_accuracy: 0.8333 - val_recall: 0.0000e+00\n",
      "Epoch 8/150\n",
      "15/15 [==============================] - 42s 3s/step - loss: 1.1311 - accuracy: 0.5286 - recall: 0.5517 - val_loss: 0.9037 - val_accuracy: 0.1667 - val_recall: 1.0000\n",
      "Epoch 9/150\n",
      "15/15 [==============================] - 41s 3s/step - loss: 0.9524 - accuracy: 0.5683 - recall: 0.4713 - val_loss: 1.7919 - val_accuracy: 0.1667 - val_recall: 1.0000\n",
      "Epoch 10/150\n",
      "15/15 [==============================] - 42s 3s/step - loss: 0.8396 - accuracy: 0.4978 - recall: 0.5057 - val_loss: 0.7150 - val_accuracy: 0.3947 - val_recall: 0.6316\n",
      "Epoch 11/150\n",
      "15/15 [==============================] - 43s 3s/step - loss: 0.7296 - accuracy: 0.5507 - recall: 0.4713 - val_loss: 0.6425 - val_accuracy: 0.7281 - val_recall: 0.3684\n",
      "Epoch 12/150\n",
      "15/15 [==============================] - 43s 3s/step - loss: 0.7424 - accuracy: 0.5463 - recall: 0.5862 - val_loss: 0.6006 - val_accuracy: 0.7982 - val_recall: 0.1579\n"
     ]
    }
   ],
   "source": [
    "es=EarlyStopping(patience=10, restore_best_weights=True, monitor='val_recall')\n",
    "history=model.fit(X_train, y_train, \n",
    "                  validation_split=0.2, \n",
    "                  batch_size=32, \n",
    "                  epochs=150, \n",
    "                  callbacks=[es], \n",
    "                  class_weight=cl)"
   ]
  },
  {
   "cell_type": "code",
   "execution_count": 25,
   "id": "3bc0f6d0",
   "metadata": {},
   "outputs": [],
   "source": [
    "def plot_loss_recall(history):\n",
    "    fig, (ax1, ax2) = plt.subplots(1,2, figsize=(13,4))\n",
    "    ax1.plot(history.history['loss'])\n",
    "    ax1.plot(history.history['val_loss'])\n",
    "    ax1.set_title('Model loss')\n",
    "    ax1.set_ylabel('Loss')\n",
    "    ax1.set_xlabel('Epoch')\n",
    "    ax1.set_ylim(ymin=0, ymax=1)\n",
    "    ax1.legend(['Train', 'Validation'], loc='best')\n",
    "    ax1.grid(axis=\"x\",linewidth=0.5)\n",
    "    ax1.grid(axis=\"y\",linewidth=0.5)    \n",
    "\n",
    "    \n",
    "    ax2.plot(history.history['recall'])\n",
    "    ax2.plot(history.history['val_recall'])\n",
    "    ax2.set_title('RECALL')\n",
    "    ax2.set_ylabel('Recall')\n",
    "    ax2.set_xlabel('Epoch')\n",
    "    ax2.set_ylim(ymin=0, ymax=2)\n",
    "    ax2.legend(['Train', 'Validation'], loc='best')\n",
    "    ax2.grid(axis=\"x\",linewidth=0.5)\n",
    "    ax2.grid(axis=\"y\",linewidth=0.5)    \n",
    "\n",
    "    plt.show()"
   ]
  },
  {
   "cell_type": "code",
   "execution_count": 26,
   "id": "e0dcb166",
   "metadata": {},
   "outputs": [
    {
     "data": {
      "image/png": "[encoded data removed]",
      "text/plain": [
       "<Figure size 1300x400 with 2 Axes>"
      ]
     },
     "metadata": {},
     "output_type": "display_data"
    }
   ],
   "source": [
    "plot_loss_recall(history)"
   ]
  },
  {
   "cell_type": "code",
   "execution_count": null,
   "id": "1847bfa4",
   "metadata": {},
   "outputs": [],
   "source": []
  }
 ],
 "metadata": {
  "kernelspec": {
   "display_name": "Python 3 (ipykernel)",
   "language": "python",
   "name": "python3"
  },
  "language_info": {
   "codemirror_mode": {
    "name": "ipython",
    "version": 3
   },
   "file_extension": ".py",
   "mimetype": "text/x-python",
   "name": "python",
   "nbconvert_exporter": "python",
   "pygments_lexer": "ipython3",
   "version": "3.10.6"
  },
  "toc": {
   "base_numbering": 1,
   "nav_menu": {},
   "number_sections": true,
   "sideBar": true,
   "skip_h1_title": false,
   "title_cell": "Table of Contents",
   "title_sidebar": "Contents",
   "toc_cell": false,
   "toc_position": {},
   "toc_section_display": true,
   "toc_window_display": false
  }
 },
 "nbformat": 4,
 "nbformat_minor": 5
}
