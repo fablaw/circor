{
 "cells": [
  {
   "cell_type": "markdown",
   "id": "1f3dd251",
   "metadata": {},
   "source": [
    "# Import cleaned dataset"
   ]
  },
  {
   "cell_type": "code",
   "execution_count": 1,
   "id": "9ce009e7",
   "metadata": {},
   "outputs": [
    {
     "data": {
      "text/html": [
       "<div>\n",
       "<style scoped>\n",
       "    .dataframe tbody tr th:only-of-type {\n",
       "        vertical-align: middle;\n",
       "    }\n",
       "\n",
       "    .dataframe tbody tr th {\n",
       "        vertical-align: top;\n",
       "    }\n",
       "\n",
       "    .dataframe thead th {\n",
       "        text-align: right;\n",
       "    }\n",
       "</style>\n",
       "<table border=\"1\" class=\"dataframe\">\n",
       "  <thead>\n",
       "    <tr style=\"text-align: right;\">\n",
       "      <th></th>\n",
       "      <th>Unnamed: 0</th>\n",
       "      <th>Patient ID</th>\n",
       "      <th>Recording locations:</th>\n",
       "      <th>Murmur</th>\n",
       "      <th>Murmur locations</th>\n",
       "      <th>Most audible location</th>\n",
       "      <th>Outcome</th>\n",
       "    </tr>\n",
       "  </thead>\n",
       "  <tbody>\n",
       "    <tr>\n",
       "      <th>0</th>\n",
       "      <td>0</td>\n",
       "      <td>2530</td>\n",
       "      <td>AV+PV+TV+MV</td>\n",
       "      <td>Absent</td>\n",
       "      <td>NaN</td>\n",
       "      <td>NaN</td>\n",
       "      <td>1</td>\n",
       "    </tr>\n",
       "    <tr>\n",
       "      <th>1</th>\n",
       "      <td>1</td>\n",
       "      <td>9979</td>\n",
       "      <td>AV+PV+TV+MV</td>\n",
       "      <td>Present</td>\n",
       "      <td>AV+MV+PV+TV</td>\n",
       "      <td>TV</td>\n",
       "      <td>1</td>\n",
       "    </tr>\n",
       "    <tr>\n",
       "      <th>2</th>\n",
       "      <td>3</td>\n",
       "      <td>13918</td>\n",
       "      <td>AV+PV+TV+MV</td>\n",
       "      <td>Present</td>\n",
       "      <td>TV</td>\n",
       "      <td>TV</td>\n",
       "      <td>1</td>\n",
       "    </tr>\n",
       "    <tr>\n",
       "      <th>3</th>\n",
       "      <td>4</td>\n",
       "      <td>14241</td>\n",
       "      <td>AV+PV+TV+MV</td>\n",
       "      <td>Present</td>\n",
       "      <td>AV+MV+PV+TV</td>\n",
       "      <td>PV</td>\n",
       "      <td>1</td>\n",
       "    </tr>\n",
       "    <tr>\n",
       "      <th>4</th>\n",
       "      <td>5</td>\n",
       "      <td>14998</td>\n",
       "      <td>AV+PV+TV+MV</td>\n",
       "      <td>Absent</td>\n",
       "      <td>NaN</td>\n",
       "      <td>NaN</td>\n",
       "      <td>1</td>\n",
       "    </tr>\n",
       "    <tr>\n",
       "      <th>...</th>\n",
       "      <td>...</td>\n",
       "      <td>...</td>\n",
       "      <td>...</td>\n",
       "      <td>...</td>\n",
       "      <td>...</td>\n",
       "      <td>...</td>\n",
       "      <td>...</td>\n",
       "    </tr>\n",
       "    <tr>\n",
       "      <th>516</th>\n",
       "      <td>934</td>\n",
       "      <td>85337</td>\n",
       "      <td>AV+PV+TV+MV</td>\n",
       "      <td>Absent</td>\n",
       "      <td>NaN</td>\n",
       "      <td>NaN</td>\n",
       "      <td>0</td>\n",
       "    </tr>\n",
       "    <tr>\n",
       "      <th>517</th>\n",
       "      <td>935</td>\n",
       "      <td>85338</td>\n",
       "      <td>AV+PV+TV+MV</td>\n",
       "      <td>Absent</td>\n",
       "      <td>NaN</td>\n",
       "      <td>NaN</td>\n",
       "      <td>0</td>\n",
       "    </tr>\n",
       "    <tr>\n",
       "      <th>518</th>\n",
       "      <td>937</td>\n",
       "      <td>85340</td>\n",
       "      <td>AV+PV+TV+MV</td>\n",
       "      <td>Absent</td>\n",
       "      <td>NaN</td>\n",
       "      <td>NaN</td>\n",
       "      <td>0</td>\n",
       "    </tr>\n",
       "    <tr>\n",
       "      <th>519</th>\n",
       "      <td>938</td>\n",
       "      <td>85341</td>\n",
       "      <td>AV+PV+TV+MV</td>\n",
       "      <td>Absent</td>\n",
       "      <td>NaN</td>\n",
       "      <td>NaN</td>\n",
       "      <td>0</td>\n",
       "    </tr>\n",
       "    <tr>\n",
       "      <th>520</th>\n",
       "      <td>939</td>\n",
       "      <td>85343</td>\n",
       "      <td>AV+PV+TV+MV</td>\n",
       "      <td>Present</td>\n",
       "      <td>MV+TV</td>\n",
       "      <td>TV</td>\n",
       "      <td>1</td>\n",
       "    </tr>\n",
       "  </tbody>\n",
       "</table>\n",
       "<p>521 rows × 7 columns</p>\n",
       "</div>"
      ],
      "text/plain": [
       "     Unnamed: 0  Patient ID Recording locations:   Murmur Murmur locations  \\\n",
       "0             0        2530          AV+PV+TV+MV   Absent              NaN   \n",
       "1             1        9979          AV+PV+TV+MV  Present      AV+MV+PV+TV   \n",
       "2             3       13918          AV+PV+TV+MV  Present               TV   \n",
       "3             4       14241          AV+PV+TV+MV  Present      AV+MV+PV+TV   \n",
       "4             5       14998          AV+PV+TV+MV   Absent              NaN   \n",
       "..          ...         ...                  ...      ...              ...   \n",
       "516         934       85337          AV+PV+TV+MV   Absent              NaN   \n",
       "517         935       85338          AV+PV+TV+MV   Absent              NaN   \n",
       "518         937       85340          AV+PV+TV+MV   Absent              NaN   \n",
       "519         938       85341          AV+PV+TV+MV   Absent              NaN   \n",
       "520         939       85343          AV+PV+TV+MV  Present            MV+TV   \n",
       "\n",
       "    Most audible location  Outcome  \n",
       "0                     NaN        1  \n",
       "1                      TV        1  \n",
       "2                      TV        1  \n",
       "3                      PV        1  \n",
       "4                     NaN        1  \n",
       "..                    ...      ...  \n",
       "516                   NaN        0  \n",
       "517                   NaN        0  \n",
       "518                   NaN        0  \n",
       "519                   NaN        0  \n",
       "520                    TV        1  \n",
       "\n",
       "[521 rows x 7 columns]"
      ]
     },
     "execution_count": 1,
     "metadata": {},
     "output_type": "execute_result"
    }
   ],
   "source": [
    "import pandas as pd\n",
    "import numpy as np\n",
    "import librosa\n",
    "import librosa.display\n",
    "\n",
    "df=pd.read_csv('~/code/fablaw/circor/raw_data/1.0.3/circor_dropped_modelConv1D.csv')\n",
    "df"
   ]
  },
  {
   "cell_type": "markdown",
   "id": "c6c69e0e",
   "metadata": {},
   "source": [
    "# Select random recordings for subjects w/o most audible location"
   ]
  },
  {
   "cell_type": "code",
   "execution_count": 2,
   "id": "0c65de44",
   "metadata": {},
   "outputs": [],
   "source": [
    "ls=[]\n",
    "for i in df.index:\n",
    "    r=df.loc[i, 'Recording locations:'].split('+')\n",
    "    l=np.random.choice(r)\n",
    "    ls.append(l)"
   ]
  },
  {
   "cell_type": "markdown",
   "id": "f304d852",
   "metadata": {},
   "source": [
    "# Construct new dataframe"
   ]
  },
  {
   "cell_type": "code",
   "execution_count": 3,
   "id": "40f06e63",
   "metadata": {},
   "outputs": [
    {
     "data": {
      "text/html": [
       "<div>\n",
       "<style scoped>\n",
       "    .dataframe tbody tr th:only-of-type {\n",
       "        vertical-align: middle;\n",
       "    }\n",
       "\n",
       "    .dataframe tbody tr th {\n",
       "        vertical-align: top;\n",
       "    }\n",
       "\n",
       "    .dataframe thead th {\n",
       "        text-align: right;\n",
       "    }\n",
       "</style>\n",
       "<table border=\"1\" class=\"dataframe\">\n",
       "  <thead>\n",
       "    <tr style=\"text-align: right;\">\n",
       "      <th></th>\n",
       "      <th>patient_id</th>\n",
       "      <th>select</th>\n",
       "      <th>audible</th>\n",
       "      <th>outcome</th>\n",
       "    </tr>\n",
       "  </thead>\n",
       "  <tbody>\n",
       "    <tr>\n",
       "      <th>0</th>\n",
       "      <td>2530</td>\n",
       "      <td>TV</td>\n",
       "      <td>NaN</td>\n",
       "      <td>1</td>\n",
       "    </tr>\n",
       "    <tr>\n",
       "      <th>1</th>\n",
       "      <td>9979</td>\n",
       "      <td>PV</td>\n",
       "      <td>TV</td>\n",
       "      <td>1</td>\n",
       "    </tr>\n",
       "    <tr>\n",
       "      <th>2</th>\n",
       "      <td>13918</td>\n",
       "      <td>AV</td>\n",
       "      <td>TV</td>\n",
       "      <td>1</td>\n",
       "    </tr>\n",
       "    <tr>\n",
       "      <th>3</th>\n",
       "      <td>14241</td>\n",
       "      <td>PV</td>\n",
       "      <td>PV</td>\n",
       "      <td>1</td>\n",
       "    </tr>\n",
       "    <tr>\n",
       "      <th>4</th>\n",
       "      <td>14998</td>\n",
       "      <td>PV</td>\n",
       "      <td>NaN</td>\n",
       "      <td>1</td>\n",
       "    </tr>\n",
       "    <tr>\n",
       "      <th>...</th>\n",
       "      <td>...</td>\n",
       "      <td>...</td>\n",
       "      <td>...</td>\n",
       "      <td>...</td>\n",
       "    </tr>\n",
       "    <tr>\n",
       "      <th>516</th>\n",
       "      <td>85337</td>\n",
       "      <td>MV</td>\n",
       "      <td>NaN</td>\n",
       "      <td>0</td>\n",
       "    </tr>\n",
       "    <tr>\n",
       "      <th>517</th>\n",
       "      <td>85338</td>\n",
       "      <td>PV</td>\n",
       "      <td>NaN</td>\n",
       "      <td>0</td>\n",
       "    </tr>\n",
       "    <tr>\n",
       "      <th>518</th>\n",
       "      <td>85340</td>\n",
       "      <td>MV</td>\n",
       "      <td>NaN</td>\n",
       "      <td>0</td>\n",
       "    </tr>\n",
       "    <tr>\n",
       "      <th>519</th>\n",
       "      <td>85341</td>\n",
       "      <td>PV</td>\n",
       "      <td>NaN</td>\n",
       "      <td>0</td>\n",
       "    </tr>\n",
       "    <tr>\n",
       "      <th>520</th>\n",
       "      <td>85343</td>\n",
       "      <td>PV</td>\n",
       "      <td>TV</td>\n",
       "      <td>1</td>\n",
       "    </tr>\n",
       "  </tbody>\n",
       "</table>\n",
       "<p>521 rows × 4 columns</p>\n",
       "</div>"
      ],
      "text/plain": [
       "     patient_id select audible  outcome\n",
       "0          2530     TV     NaN        1\n",
       "1          9979     PV      TV        1\n",
       "2         13918     AV      TV        1\n",
       "3         14241     PV      PV        1\n",
       "4         14998     PV     NaN        1\n",
       "..          ...    ...     ...      ...\n",
       "516       85337     MV     NaN        0\n",
       "517       85338     PV     NaN        0\n",
       "518       85340     MV     NaN        0\n",
       "519       85341     PV     NaN        0\n",
       "520       85343     PV      TV        1\n",
       "\n",
       "[521 rows x 4 columns]"
      ]
     },
     "execution_count": 3,
     "metadata": {},
     "output_type": "execute_result"
    }
   ],
   "source": [
    "df_new=pd.DataFrame({'patient_id': df['Patient ID'], \n",
    "                     'select': ls,\n",
    "                     'audible': df['Most audible location'],\n",
    "                     'outcome': df.Outcome\n",
    "                    })\n",
    "df_new"
   ]
  },
  {
   "cell_type": "markdown",
   "id": "7b48c923",
   "metadata": {},
   "source": [
    "# Fill audible column with random recordings for subjects w/o most audible rec"
   ]
  },
  {
   "cell_type": "code",
   "execution_count": 4,
   "id": "b52fbb58",
   "metadata": {},
   "outputs": [
    {
     "data": {
      "text/html": [
       "<div>\n",
       "<style scoped>\n",
       "    .dataframe tbody tr th:only-of-type {\n",
       "        vertical-align: middle;\n",
       "    }\n",
       "\n",
       "    .dataframe tbody tr th {\n",
       "        vertical-align: top;\n",
       "    }\n",
       "\n",
       "    .dataframe thead th {\n",
       "        text-align: right;\n",
       "    }\n",
       "</style>\n",
       "<table border=\"1\" class=\"dataframe\">\n",
       "  <thead>\n",
       "    <tr style=\"text-align: right;\">\n",
       "      <th></th>\n",
       "      <th>patient_id</th>\n",
       "      <th>select</th>\n",
       "      <th>audible</th>\n",
       "      <th>outcome</th>\n",
       "    </tr>\n",
       "  </thead>\n",
       "  <tbody>\n",
       "    <tr>\n",
       "      <th>0</th>\n",
       "      <td>2530</td>\n",
       "      <td>TV</td>\n",
       "      <td>TV</td>\n",
       "      <td>1</td>\n",
       "    </tr>\n",
       "    <tr>\n",
       "      <th>1</th>\n",
       "      <td>9979</td>\n",
       "      <td>PV</td>\n",
       "      <td>TV</td>\n",
       "      <td>1</td>\n",
       "    </tr>\n",
       "    <tr>\n",
       "      <th>2</th>\n",
       "      <td>13918</td>\n",
       "      <td>AV</td>\n",
       "      <td>TV</td>\n",
       "      <td>1</td>\n",
       "    </tr>\n",
       "    <tr>\n",
       "      <th>3</th>\n",
       "      <td>14241</td>\n",
       "      <td>PV</td>\n",
       "      <td>PV</td>\n",
       "      <td>1</td>\n",
       "    </tr>\n",
       "    <tr>\n",
       "      <th>4</th>\n",
       "      <td>14998</td>\n",
       "      <td>PV</td>\n",
       "      <td>PV</td>\n",
       "      <td>1</td>\n",
       "    </tr>\n",
       "    <tr>\n",
       "      <th>...</th>\n",
       "      <td>...</td>\n",
       "      <td>...</td>\n",
       "      <td>...</td>\n",
       "      <td>...</td>\n",
       "    </tr>\n",
       "    <tr>\n",
       "      <th>516</th>\n",
       "      <td>85337</td>\n",
       "      <td>MV</td>\n",
       "      <td>MV</td>\n",
       "      <td>0</td>\n",
       "    </tr>\n",
       "    <tr>\n",
       "      <th>517</th>\n",
       "      <td>85338</td>\n",
       "      <td>PV</td>\n",
       "      <td>PV</td>\n",
       "      <td>0</td>\n",
       "    </tr>\n",
       "    <tr>\n",
       "      <th>518</th>\n",
       "      <td>85340</td>\n",
       "      <td>MV</td>\n",
       "      <td>MV</td>\n",
       "      <td>0</td>\n",
       "    </tr>\n",
       "    <tr>\n",
       "      <th>519</th>\n",
       "      <td>85341</td>\n",
       "      <td>PV</td>\n",
       "      <td>PV</td>\n",
       "      <td>0</td>\n",
       "    </tr>\n",
       "    <tr>\n",
       "      <th>520</th>\n",
       "      <td>85343</td>\n",
       "      <td>PV</td>\n",
       "      <td>TV</td>\n",
       "      <td>1</td>\n",
       "    </tr>\n",
       "  </tbody>\n",
       "</table>\n",
       "<p>521 rows × 4 columns</p>\n",
       "</div>"
      ],
      "text/plain": [
       "     patient_id select audible  outcome\n",
       "0          2530     TV      TV        1\n",
       "1          9979     PV      TV        1\n",
       "2         13918     AV      TV        1\n",
       "3         14241     PV      PV        1\n",
       "4         14998     PV      PV        1\n",
       "..          ...    ...     ...      ...\n",
       "516       85337     MV      MV        0\n",
       "517       85338     PV      PV        0\n",
       "518       85340     MV      MV        0\n",
       "519       85341     PV      PV        0\n",
       "520       85343     PV      TV        1\n",
       "\n",
       "[521 rows x 4 columns]"
      ]
     },
     "execution_count": 4,
     "metadata": {},
     "output_type": "execute_result"
    }
   ],
   "source": [
    "df_new.audible.fillna(df_new.select, inplace=True)\n",
    "df_new"
   ]
  },
  {
   "cell_type": "markdown",
   "id": "a73f84a8",
   "metadata": {},
   "source": [
    "# Convert wav files to RGBA files"
   ]
  },
  {
   "cell_type": "code",
   "execution_count": 5,
   "id": "0fb62f9b",
   "metadata": {},
   "outputs": [
    {
     "data": {
      "image/png": "[encoded data removed]",
      "text/plain": [
       "<Figure size 640x480 with 1 Axes>"
      ]
     },
     "metadata": {},
     "output_type": "display_data"
    }
   ],
   "source": [
    "for i in df_new.index:\n",
    "    file='../raw_data/1.0.3/audio_treated/'+str(df_new.loc[i, 'patient_id'])+'_'+df_new.loc[i,'audible']+'.wav'\n",
    "    x, sr=librosa.load(file)\n",
    "    \n",
    "    D = librosa.stft(x[0:50000], n_fft=446, hop_length=224)\n",
    "    S_db = librosa.amplitude_to_db(np.abs(D), ref=np.max)\n",
    "    \n",
    "    spectrogram = librosa.display.specshow(S_db, y_axis=\"log\", sr=sr, hop_length=1024, x_axis=\"time\")\n",
    "    \n",
    "    rgbas= spectrogram.to_rgba(spectrogram.get_array().reshape(S_db.shape))\n",
    "    \n",
    "    rgba=rgbas[:,:,0:3]\n",
    "    \n",
    "    output='/Users/fabianlaw/code/fablaw/circor/raw_data/1.0.3/proc_img_treated/'+str(df_new.loc[i, 'patient_id'])+'_'+df_new.loc[i,'audible']+'.npy'\n",
    "    np.save(output, rgba)"
   ]
  },
  {
   "cell_type": "markdown",
   "id": "20d86203",
   "metadata": {},
   "source": [
    "# Create X and y"
   ]
  },
  {
   "cell_type": "code",
   "execution_count": 6,
   "id": "177c54ff",
   "metadata": {},
   "outputs": [],
   "source": [
    "X_raw=[]\n",
    "for i in df_new.index:\n",
    "    file='../raw_data/1.0.3/proc_img_treated/'+str(df_new.loc[i,'patient_id'])+'_'+df_new.loc[i,'audible']+'.npy'\n",
    "    v=np.load(file)\n",
    "    X_raw.append(v)\n",
    "    \n",
    "X=np.stack(X_raw)"
   ]
  },
  {
   "cell_type": "code",
   "execution_count": 7,
   "id": "1d5aadc9",
   "metadata": {},
   "outputs": [
    {
     "data": {
      "text/plain": [
       "(521, 224, 224, 3)"
      ]
     },
     "execution_count": 7,
     "metadata": {},
     "output_type": "execute_result"
    }
   ],
   "source": [
    "X.shape"
   ]
  },
  {
   "cell_type": "code",
   "execution_count": 8,
   "id": "c28d5b56",
   "metadata": {},
   "outputs": [
    {
     "data": {
      "text/plain": [
       "(521,)"
      ]
     },
     "execution_count": 8,
     "metadata": {},
     "output_type": "execute_result"
    }
   ],
   "source": [
    "y=df_new.outcome\n",
    "y.shape"
   ]
  },
  {
   "cell_type": "markdown",
   "id": "41fdb390",
   "metadata": {},
   "source": [
    "# Create training set and testing set"
   ]
  },
  {
   "cell_type": "code",
   "execution_count": 9,
   "id": "31d1154f",
   "metadata": {},
   "outputs": [],
   "source": [
    "\n",
    "from sklearn.model_selection import train_test_split\n",
    "\n",
    "X_train, X_test, y_train, y_test=train_test_split(X, y, test_size=0.3, random_state=1)"
   ]
  },
  {
   "cell_type": "markdown",
   "id": "e4384145",
   "metadata": {},
   "source": [
    "# Construct DL with transfer learning"
   ]
  },
  {
   "cell_type": "code",
   "execution_count": 10,
   "id": "5b634b2c",
   "metadata": {},
   "outputs": [],
   "source": [
    "from tensorflow.keras.layers import Dense, Flatten, MaxPool1D, Conv1D, LSTM, BatchNormalization, Dropout\n",
    "from tensorflow.keras import Sequential\n",
    "from tensorflow.keras.optimizers import Adam\n",
    "from tensorflow.keras.losses import BinaryCrossentropy\n",
    "from tensorflow.keras.callbacks import EarlyStopping\n",
    "from tensorflow.keras.applications.densenet import DenseNet201\n",
    "from tensorflow.keras.metrics import Recall\n",
    "\n",
    "import matplotlib.pyplot as plt"
   ]
  },
  {
   "cell_type": "code",
   "execution_count": 11,
   "id": "56b4f528",
   "metadata": {},
   "outputs": [],
   "source": [
    "base_model = DenseNet201(include_top=False, input_shape=(224, 224, 3))"
   ]
  },
  {
   "cell_type": "code",
   "execution_count": 12,
   "id": "d0fec1b7",
   "metadata": {},
   "outputs": [],
   "source": [
    "base_model.trainable = False"
   ]
  },
  {
   "cell_type": "code",
   "execution_count": 13,
   "id": "31b85b94",
   "metadata": {},
   "outputs": [],
   "source": [
    "layer1=Flatten()\n",
    "layer2=Dense(2048, activation='relu')\n",
    "layer3=Dense(1024, activation='relu')\n",
    "layer4=Dense(512, activation='relu')\n",
    "layer5=Dense(256, activation='relu')\n",
    "layer6=Dense(128, activation='relu')\n",
    "layer7=Dense(64, activation='relu')\n",
    "layer8=Dense(32, activation='relu')\n",
    "layer9=Dense(16, activation='relu')\n",
    "layer10=Dense(8, activation='relu')\n",
    "layer11=Dense(1, activation='sigmoid')"
   ]
  },
  {
   "cell_type": "code",
   "execution_count": 14,
   "id": "f9e26ba9",
   "metadata": {},
   "outputs": [],
   "source": [
    "model = Sequential([base_model, layer1, layer2, layer3, layer4, layer5, layer6, layer7, layer8, layer9, layer10, layer11])"
   ]
  },
  {
   "cell_type": "code",
   "execution_count": 15,
   "id": "3dc03910",
   "metadata": {},
   "outputs": [
    {
     "name": "stdout",
     "output_type": "stream",
     "text": [
      "Model: \"sequential\"\n",
      "_________________________________________________________________\n",
      " Layer (type)                Output Shape              Param #   \n",
      "=================================================================\n",
      " densenet201 (Functional)    (None, 7, 7, 1920)        18321984  \n",
      "                                                                 \n",
      " flatten (Flatten)           (None, 94080)             0         \n",
      "                                                                 \n",
      " dense (Dense)               (None, 2048)              192677888 \n",
      "                                                                 \n",
      " dense_1 (Dense)             (None, 1024)              2098176   \n",
      "                                                                 \n",
      " dense_2 (Dense)             (None, 512)               524800    \n",
      "                                                                 \n",
      " dense_3 (Dense)             (None, 256)               131328    \n",
      "                                                                 \n",
      " dense_4 (Dense)             (None, 128)               32896     \n",
      "                                                                 \n",
      " dense_5 (Dense)             (None, 64)                8256      \n",
      "                                                                 \n",
      " dense_6 (Dense)             (None, 32)                2080      \n",
      "                                                                 \n",
      " dense_7 (Dense)             (None, 16)                528       \n",
      "                                                                 \n",
      " dense_8 (Dense)             (None, 8)                 136       \n",
      "                                                                 \n",
      " dense_9 (Dense)             (None, 1)                 9         \n",
      "                                                                 \n",
      "=================================================================\n",
      "Total params: 213,798,081\n",
      "Trainable params: 195,476,097\n",
      "Non-trainable params: 18,321,984\n",
      "_________________________________________________________________\n"
     ]
    }
   ],
   "source": [
    "model.summary()"
   ]
  },
  {
   "cell_type": "code",
   "execution_count": 16,
   "id": "59a68d1c",
   "metadata": {},
   "outputs": [],
   "source": [
    "model.compile(loss=BinaryCrossentropy(),\n",
    "              optimizer=Adam(learning_rate=0.0001),\n",
    "              metrics=['accuracy', Recall()])"
   ]
  },
  {
   "cell_type": "markdown",
   "id": "9b9fa6e6",
   "metadata": {},
   "source": [
    "# Testing model on training set with validation split"
   ]
  },
  {
   "cell_type": "code",
   "execution_count": 17,
   "id": "b172feae",
   "metadata": {},
   "outputs": [
    {
     "name": "stdout",
     "output_type": "stream",
     "text": [
      "Epoch 1/30\n"
     ]
    },
    {
     "name": "stderr",
     "output_type": "stream",
     "text": [
      "/Users/fabianlaw/.pyenv/versions/3.10.6/envs/circor/lib/python3.10/site-packages/keras/engine/data_adapter.py:1699: FutureWarning: The behavior of `series[i:j]` with an integer-dtype index is deprecated. In a future version, this will be treated as *label-based* indexing, consistent with e.g. `series[i]` lookups. To retain the old behavior, use `series.iloc[i:j]`. To get the future behavior, use `series.loc[i:j]`.\n",
      "  return t[start:end]\n",
      "2022-12-02 11:53:47.061574: W tensorflow/core/platform/profile_utils/cpu_utils.cc:128] Failed to get CPU frequency: 0 Hz\n"
     ]
    },
    {
     "name": "stdout",
     "output_type": "stream",
     "text": [
      "10/10 [==============================] - 36s 3s/step - loss: 0.7023 - accuracy: 0.5670 - recall: 0.0000e+00 - val_loss: 0.7842 - val_accuracy: 0.4384 - val_recall: 0.0000e+00\n",
      "Epoch 2/30\n",
      "10/10 [==============================] - 24s 2s/step - loss: 0.7000 - accuracy: 0.5533 - recall: 0.2276 - val_loss: 0.8650 - val_accuracy: 0.4384 - val_recall: 0.0000e+00\n",
      "Epoch 3/30\n",
      "10/10 [==============================] - 26s 3s/step - loss: 0.6814 - accuracy: 0.5704 - recall: 0.3333 - val_loss: 0.8591 - val_accuracy: 0.4384 - val_recall: 0.0000e+00\n",
      "Epoch 4/30\n",
      "10/10 [==============================] - 29s 3s/step - loss: 0.6618 - accuracy: 0.6701 - recall: 0.2764 - val_loss: 0.7918 - val_accuracy: 0.4795 - val_recall: 0.0732\n",
      "Epoch 5/30\n",
      "10/10 [==============================] - 28s 3s/step - loss: 0.6340 - accuracy: 0.6460 - recall: 0.4309 - val_loss: 0.7429 - val_accuracy: 0.4932 - val_recall: 0.1220\n",
      "Epoch 6/30\n",
      "10/10 [==============================] - 26s 3s/step - loss: 0.6067 - accuracy: 0.6323 - recall: 0.4146 - val_loss: 0.6515 - val_accuracy: 0.5753 - val_recall: 0.4390\n",
      "Epoch 7/30\n",
      "10/10 [==============================] - 28s 3s/step - loss: 0.5922 - accuracy: 0.7354 - recall: 0.4390 - val_loss: 0.6780 - val_accuracy: 0.5616 - val_recall: 0.3902\n",
      "Epoch 8/30\n",
      "10/10 [==============================] - 26s 3s/step - loss: 0.6097 - accuracy: 0.6632 - recall: 0.5203 - val_loss: 0.8102 - val_accuracy: 0.5205 - val_recall: 0.1951\n",
      "Epoch 9/30\n",
      "10/10 [==============================] - 25s 3s/step - loss: 0.6297 - accuracy: 0.6598 - recall: 0.6260 - val_loss: 0.9402 - val_accuracy: 0.4521 - val_recall: 0.0244\n",
      "Epoch 10/30\n",
      "10/10 [==============================] - 25s 2s/step - loss: 0.6624 - accuracy: 0.6151 - recall: 0.3577 - val_loss: 0.6822 - val_accuracy: 0.5616 - val_recall: 0.2683\n",
      "Epoch 11/30\n",
      "10/10 [==============================] - 25s 2s/step - loss: 0.5483 - accuracy: 0.7251 - recall: 0.3984 - val_loss: 0.9799 - val_accuracy: 0.4795 - val_recall: 0.1220\n",
      "Epoch 12/30\n",
      "10/10 [==============================] - 25s 2s/step - loss: 0.5709 - accuracy: 0.6873 - recall: 0.4715 - val_loss: 0.7427 - val_accuracy: 0.5890 - val_recall: 0.3171\n",
      "Epoch 13/30\n",
      "10/10 [==============================] - 26s 3s/step - loss: 0.4725 - accuracy: 0.7732 - recall: 0.6423 - val_loss: 0.7669 - val_accuracy: 0.5890 - val_recall: 0.9268\n",
      "Epoch 14/30\n",
      "10/10 [==============================] - 25s 3s/step - loss: 0.6726 - accuracy: 0.6323 - recall: 0.4553 - val_loss: 0.6715 - val_accuracy: 0.5890 - val_recall: 0.4390\n",
      "Epoch 15/30\n",
      "10/10 [==============================] - 25s 3s/step - loss: 0.5483 - accuracy: 0.7698 - recall: 0.6667 - val_loss: 0.7207 - val_accuracy: 0.5890 - val_recall: 0.3415\n",
      "Epoch 16/30\n",
      "10/10 [==============================] - 30s 3s/step - loss: 0.4294 - accuracy: 0.8179 - recall: 0.6260 - val_loss: 0.7084 - val_accuracy: 0.6575 - val_recall: 0.6585\n",
      "Epoch 17/30\n",
      "10/10 [==============================] - 30s 3s/step - loss: 0.5279 - accuracy: 0.7148 - recall: 0.5610 - val_loss: 0.9525 - val_accuracy: 0.5890 - val_recall: 0.9268\n",
      "Epoch 18/30\n",
      "10/10 [==============================] - 27s 3s/step - loss: 0.7829 - accuracy: 0.5876 - recall: 0.4797 - val_loss: 0.7132 - val_accuracy: 0.5205 - val_recall: 0.1951\n",
      "Epoch 19/30\n",
      "10/10 [==============================] - 29s 3s/step - loss: 0.5404 - accuracy: 0.7663 - recall: 0.7480 - val_loss: 0.6743 - val_accuracy: 0.6575 - val_recall: 0.6585\n",
      "Epoch 20/30\n",
      "10/10 [==============================] - 28s 3s/step - loss: 0.4614 - accuracy: 0.7698 - recall: 0.6667 - val_loss: 0.6911 - val_accuracy: 0.6438 - val_recall: 0.6341\n",
      "Epoch 21/30\n",
      "10/10 [==============================] - 27s 3s/step - loss: 0.3482 - accuracy: 0.8797 - recall: 0.8130 - val_loss: 0.7860 - val_accuracy: 0.6027 - val_recall: 0.6098\n",
      "Epoch 22/30\n",
      "10/10 [==============================] - 29s 3s/step - loss: 0.2911 - accuracy: 0.8935 - recall: 0.8293 - val_loss: 0.8181 - val_accuracy: 0.5890 - val_recall: 0.6098\n",
      "Epoch 23/30\n",
      "10/10 [==============================] - 30s 3s/step - loss: 0.2575 - accuracy: 0.9244 - recall: 0.8780 - val_loss: 0.9991 - val_accuracy: 0.6438 - val_recall: 0.4390\n",
      "Epoch 24/30\n",
      "10/10 [==============================] - 28s 3s/step - loss: 0.2203 - accuracy: 0.9313 - recall: 0.8862 - val_loss: 0.9283 - val_accuracy: 0.6027 - val_recall: 0.5610\n",
      "Epoch 25/30\n",
      "10/10 [==============================] - 29s 3s/step - loss: 0.1991 - accuracy: 0.9313 - recall: 0.8943 - val_loss: 1.2711 - val_accuracy: 0.5479 - val_recall: 0.8537\n",
      "Epoch 26/30\n",
      "10/10 [==============================] - 29s 3s/step - loss: 0.3040 - accuracy: 0.8729 - recall: 0.8293 - val_loss: 0.9151 - val_accuracy: 0.5753 - val_recall: 0.5610\n",
      "Epoch 27/30\n",
      "10/10 [==============================] - 28s 3s/step - loss: 0.1847 - accuracy: 0.9313 - recall: 0.9024 - val_loss: 1.0472 - val_accuracy: 0.5753 - val_recall: 0.6098\n",
      "Epoch 28/30\n",
      "10/10 [==============================] - 30s 3s/step - loss: 0.1226 - accuracy: 0.9656 - recall: 0.9512 - val_loss: 1.0828 - val_accuracy: 0.5890 - val_recall: 0.5122\n",
      "Epoch 29/30\n",
      "10/10 [==============================] - 31s 3s/step - loss: 0.1180 - accuracy: 0.9725 - recall: 0.9431 - val_loss: 1.4234 - val_accuracy: 0.5205 - val_recall: 0.7561\n",
      "Epoch 30/30\n",
      "10/10 [==============================] - 28s 3s/step - loss: 0.1516 - accuracy: 0.9381 - recall: 0.9187 - val_loss: 1.1379 - val_accuracy: 0.6027 - val_recall: 0.7317\n"
     ]
    }
   ],
   "source": [
    "#es=EarlyStopping(patience=10, restore_best_weights=True, monitor='val_recall')\n",
    "history=model.fit(X_train, y_train, \n",
    "                  validation_split=0.2, \n",
    "                  batch_size=32, \n",
    "                  epochs=30)"
   ]
  },
  {
   "cell_type": "code",
   "execution_count": 18,
   "id": "e61a4b93",
   "metadata": {},
   "outputs": [],
   "source": [
    "def plot_loss_recall(history):\n",
    "    fig, (ax1, ax2) = plt.subplots(1,2, figsize=(13,4))\n",
    "    ax1.plot(history.history['loss'])\n",
    "    ax1.plot(history.history['val_loss'])\n",
    "    ax1.set_title('Model loss')\n",
    "    ax1.set_ylabel('Loss')\n",
    "    ax1.set_xlabel('Epoch')\n",
    "    ax1.set_ylim(ymin=0, ymax=3)\n",
    "    ax1.legend(['Train', 'Validation'], loc='best')\n",
    "    ax1.grid(axis=\"x\",linewidth=0.5)\n",
    "    ax1.grid(axis=\"y\",linewidth=0.5)    \n",
    "\n",
    "    \n",
    "    ax2.plot(history.history['recall'])\n",
    "    ax2.plot(history.history['val_recall'])\n",
    "    ax2.set_title('Recall')\n",
    "    ax2.set_ylabel('Recall')\n",
    "    ax2.set_xlabel('Epoch')\n",
    "    ax2.set_ylim(ymin=0, ymax=1)\n",
    "    ax2.legend(['Train', 'Validation'], loc='best')\n",
    "    ax2.grid(axis=\"x\",linewidth=0.5)\n",
    "    ax2.grid(axis=\"y\",linewidth=0.5)    \n",
    "\n",
    "    plt.show()"
   ]
  },
  {
   "cell_type": "code",
   "execution_count": 19,
   "id": "7f68fc54",
   "metadata": {},
   "outputs": [
    {
     "data": {
      "image/png": "[encoded data removed]",
      "text/plain": [
       "<Figure size 1300x400 with 2 Axes>"
      ]
     },
     "metadata": {},
     "output_type": "display_data"
    }
   ],
   "source": [
    "plot_loss_recall(history)"
   ]
  },
  {
   "cell_type": "markdown",
   "id": "7c11cc81",
   "metadata": {},
   "source": [
    "# Evaluation on testing set"
   ]
  },
  {
   "cell_type": "code",
   "execution_count": 20,
   "id": "8a44169e",
   "metadata": {},
   "outputs": [
    {
     "name": "stdout",
     "output_type": "stream",
     "text": [
      "5/5 [==============================] - 7s 1s/step - loss: 1.3598 - accuracy: 0.4904 - recall: 0.6267\n"
     ]
    },
    {
     "data": {
      "text/plain": [
       "[1.3597791194915771, 0.4904458522796631, 0.6266666650772095]"
      ]
     },
     "execution_count": 20,
     "metadata": {},
     "output_type": "execute_result"
    }
   ],
   "source": [
    "model.evaluate(X_test, y_test)"
   ]
  },
  {
   "cell_type": "code",
   "execution_count": 21,
   "id": "be8eec01",
   "metadata": {},
   "outputs": [],
   "source": [
    "filepath='~/code/fablaw/circor/raw_data/1.0.3/best_table.csv'\n",
    "df_new.to_csv(filepath, index=False, header=True)"
   ]
  },
  {
   "cell_type": "code",
   "execution_count": null,
   "id": "dd739b85",
   "metadata": {},
   "outputs": [],
   "source": []
  }
 ],
 "metadata": {
  "kernelspec": {
   "display_name": "Python 3 (ipykernel)",
   "language": "python",
   "name": "python3"
  },
  "language_info": {
   "codemirror_mode": {
    "name": "ipython",
    "version": 3
   },
   "file_extension": ".py",
   "mimetype": "text/x-python",
   "name": "python",
   "nbconvert_exporter": "python",
   "pygments_lexer": "ipython3",
   "version": "3.10.6"
  },
  "toc": {
   "base_numbering": 1,
   "nav_menu": {},
   "number_sections": true,
   "sideBar": true,
   "skip_h1_title": false,
   "title_cell": "Table of Contents",
   "title_sidebar": "Contents",
   "toc_cell": false,
   "toc_position": {},
   "toc_section_display": true,
   "toc_window_display": false
  }
 },
 "nbformat": 4,
 "nbformat_minor": 5
}
