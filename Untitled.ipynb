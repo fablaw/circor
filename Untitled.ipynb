{
 "cells": [
  {
   "cell_type": "code",
   "execution_count": 1,
   "id": "eeaeaa41",
   "metadata": {},
   "outputs": [],
   "source": [
    "import pandas as pd\n",
    "import glob\n",
    "import shutil"
   ]
  },
  {
   "cell_type": "code",
   "execution_count": 3,
   "id": "0dce9cc7",
   "metadata": {},
   "outputs": [],
   "source": [
    "#take df and retrieve a list of patient ID\n",
    "#from that list of patientID, download relevant npy files from the cloud \n",
    "\n",
    "patient_selected = pd.read_csv('df_new.csv')"
   ]
  },
  {
   "cell_type": "code",
   "execution_count": 10,
   "id": "b46eeda2",
   "metadata": {},
   "outputs": [],
   "source": [
    "patient_recordings_liste = (patient_selected['patient_id'].astype(str) +'_' +patient_selected['audible']).tolist()"
   ]
  },
  {
   "cell_type": "code",
   "execution_count": null,
   "id": "c74abdd9",
   "metadata": {},
   "outputs": [],
   "source": [
    "for recordings in patient_recordings_list:\n",
    "    command = f\"gsutil -m cp -r gs://le-fab88-bucket/raw_1D/06_11_04/{recordings}.npy data_06_11_05/{recordings}.npy\"\n",
    "    !os.system(command)"
   ]
  },
  {
   "cell_type": "code",
   "execution_count": 9,
   "id": "de915675",
   "metadata": {},
   "outputs": [
    {
     "ename": "IndentationError",
     "evalue": "expected an indented block after function definition on line 1 (164729979.py, line 6)",
     "output_type": "error",
     "traceback": [
      "\u001b[0;36m  Cell \u001b[0;32mIn [9], line 6\u001b[0;36m\u001b[0m\n\u001b[0;31m    npy_clean = reconstruct_signal(npy)\u001b[0m\n\u001b[0m    ^\u001b[0m\n\u001b[0;31mIndentationError\u001b[0m\u001b[0;31m:\u001b[0m expected an indented block after function definition on line 1\n"
     ]
    }
   ],
   "source": [
    "def denoise_arrays(df: pd.DataFrame, array_length: int, all_locations: bool = True,\n",
    "                                wavelet: str='db14', level:int=None, mode:str='antireflect', sigma:float=0.02,\n",
    "                                sig_len: int = 6_000, sig_start:int=0,\n",
    "                                sr:int = 4000, num_cycles: int=5) -> np.ndarray:\n",
    "    \n",
    "    patient_recording_list = (df['patient_id'].astype(str) +'_' + df['audible']).tolist()\n",
    "\n",
    "    local_destination = 'raw_data/relevant_npy'\n",
    "    final_destination = 'raw_data/relevant_npy_denoised'\n",
    "    tsv_df = pd.read_csv(file_path_tsv, sep='\\t', header = None)\n",
    "    \n",
    "    #selecting only relevant files and move them to a new directory\n",
    "    for recordings in patient_recording_list:\n",
    "        src_path = os.path.join(source, recordings)\n",
    "        dst_path = os.path.join(destination, recordings)\n",
    "        shutil.move(src_path, dst_path)\n",
    "\n",
    "    #in a folder where we have only relevant npy, we process the raw_npy\n",
    "    for element in glob.glob(local_destination):\n",
    "        npy_ raw = np.load(element)\n",
    "        npy_denoised = reconstruct_signal(sig=npy_raw, tsv_df=tsv_df, \n",
    "                                          wavelet=wavelet, level=level, \n",
    "                                          mode=mode, sigma=sigma,\n",
    "                                          sig_len = sig_len,\n",
    "                                          sig_start=sig_start,\n",
    "                             sr = sr, num_cycles=num_cycles)\n",
    "        np.save(final_destination)\n",
    "        np.save(final_destination/denoised_audio/)\n",
    " #send all denoised arrays to gcp   \n",
    "gsutil -m cp -R final_destination gs://my_bucket/denoised_relevant_npy\n",
    "\n",
    "\n"
   ]
  },
  {
   "cell_type": "code",
   "execution_count": null,
   "id": "ac76e011",
   "metadata": {},
   "outputs": [],
   "source": [
    "    \n",
    "def download_reconstruct_upload(df: pd.DataFrame, array_length: int, all_locations: bool = True,\n",
    "                                wavelet: str='db14', level:int=None, mode:str='antireflect', sigma:float=0.02,\n",
    "                                sig_len: int = 6_000, sig_start:int=0,\n",
    "                                sr:int = 4000, num_cycles: int=5) -> np.ndarray:\n",
    "    \"\"\"Download the raw npy file from the cloud and returns it with the selected array length \"\"\"\n",
    "    #!!!!!May need to fix missing arguments in functions!!!!!\n",
    "    df = pd.read_csv('../raw_data/training_data_raw.csv')\n",
    "    print('file loaded')\n",
    "    X = df\n",
    "    patient_id  = X.iloc[index][\"Patient ID\"]\n",
    "    print(patient_id)\n",
    "    rec_loc = X.iloc[index][\"Recording_location\"]\n",
    "\n",
    "    #Google bucket info\n",
    "    storage_client = storage.Client(project=PROJECT)\n",
    "    bucket = storage_client.get_bucket(BUCKET_NAME)\n",
    "\n",
    "    timestamp = time.strftime('%d_%H_%M')\n",
    "\n",
    "    if not os.path.exists(f'../raw_data/training_data_gcloud/{timestamp}'):\n",
    "        os.makedirs(f'../raw_data/training_data_gcloud/{timestamp}')\n",
    "\n",
    "   # blob_wav = bucket.blob(f\"le-fab88-bucket/audio_raw/{patient_id}_{rec_loc}.wav\")\n",
    "    blob_npy = bucket.blob(f\"le-fab88-bucket/raw_1D/{patient_id}_{rec_loc}.npy\")\n",
    "    blob_tsv = bucket.blob(f\"le-fab88-bucket/tsv_raw/{patient_id}_{rec_loc}.tsv\")\n",
    "\n",
    "\n",
    " #   file_path_wav = os.path.join('../raw_data/training_data_gcloud/wav_files/',f\"{patient_id}_{rec_loc}.wav\")\n",
    "    file_path_npy = os.path.join('../raw_data/training_data_gcloud/npy_files/',f\"{patient_id}_{rec_loc}.npy\")\n",
    "    file_path_tsv = os.path.join('../raw_data/training_data_gcloud/tsv_files/',f\"{patient_id}_{rec_loc}.tsv\")\n",
    "\n",
    "\n",
    " #   blob_wav.download_to_filename(file_path_wav)\n",
    "    blob_npy.download_to_filename(file_path_npy)\n",
    "    blob_tsv.download_to_filename(file_path_tsv)\n",
    "\n",
    "\n",
    "  #  sig= librosa.load(file_path_wav, sr = sr)[0]\n",
    "\n",
    "    #Saving locally\n",
    "    sig = np.load(file_path_npy)\n",
    "    np.save(file_path_npy, sig)\n",
    "  #  sig = np.load(file_path_npy)\n",
    "    tsv_df = pd.read_csv(file_path_tsv, sep='\\t', header = None)\n",
    "\n",
    "    #Treat and reconstruct the signal\n",
    "    sig_reconst = reconstruct_signal(sig=sig, tsv_df=tsv_df, wavelet=wavelet, level=level, mode=mode, sigma=sigma, sig_len = sig_len, sig_start=sig_start,\n",
    "                             sr = sr, num_cycles=num_cycles)\n",
    "\n",
    "    if not os.path.exists(f'../processed_data/npy_files_{timestamp}'):\n",
    "        os.makedirs(f'../processed_data/npy_files_{timestamp}')\n",
    "    if not os.path.exists(f'../processed_data/wav_files_{timestamp}'):\n",
    "        os.makedirs(f'../processed_data/wav_files_{timestamp}')\n",
    "\n",
    "\n",
    "    #Defining local file paths\n",
    "    file_path_npy_processed = os.path.join('../processed_data/npy_files{timestamp}/',f\"{patient_id}_{rec_loc}.npy\")\n",
    "    file_path_wav_processed = os.path.join('../processed_data/wav_files{timestamp}/',f\"{patient_id}_{rec_loc}.wav\")\n",
    "  #  file_path_new_wav_processed = os.path.join('../processed_data/wav_files_{timestamp}/',f\"new.wav\")\n",
    "\n",
    "    #Save files locally\n",
    "    np.save(file_path_npy_processed, sig_reconst)\n",
    "    sf.write(file=file_path_wav_processed, data=sig_reconst, samplerate=4000, subtype='PCM_24')\n",
    " #   sf.write(file=file_path_new_wav_processed, data=sig_reconst, samplerate=4000, subtype='PCM_24')\n",
    "\n",
    "    # blob_path_npy =  file_path_npy_processed.split('/')[-1].split('.')[0] #define name of processed npy file\n",
    "    # blob_path_wav =  file_path_wav_processed.split('/')[-1].split('.')[0] #define name of processed wav file\n",
    "\n",
    "\n",
    "    #locate file in dedicated folder named after timestamp\n",
    "    blob_npy_processed = bucket.blob(f\"le-fab88-bucket/processed_data/processed_npy/{timestamp}/{patient_id}_{rec_loc}.npy\")\n",
    "    blob_wav_processed = bucket.blob(f\"le-fab88-bucket/processed_data/processed_wav/{timestamp}/{patient_id}_{rec_loc}.wav\")\n",
    " #   blob_new_wav_processed = bucket.blob(f\"le-fab88-bucket/processed_data/wav_files/{timestamp}/new.wav\")\n",
    "\n",
    "    #Upload to bucket\n",
    "    blob_npy_processed.upload_from_filename(file_path_npy_processed)\n",
    "    blob_wav_processed.upload_from_filename(file_path_wav_processed)\n",
    "  #  blob_new_wav_processed.upload_from_filename(file_path_new_wav_processed)\n",
    "\n",
    "\n",
    "\n",
    "    # os.remove(file_path_npy)\n",
    "    # os.remove(file_path_tsv)\n",
    "    return sig\n"
   ]
  }
 ],
 "metadata": {
  "kernelspec": {
   "display_name": "Python 3 (ipykernel)",
   "language": "python",
   "name": "python3"
  },
  "language_info": {
   "codemirror_mode": {
    "name": "ipython",
    "version": 3
   },
   "file_extension": ".py",
   "mimetype": "text/x-python",
   "name": "python",
   "nbconvert_exporter": "python",
   "pygments_lexer": "ipython3",
   "version": "3.10.6"
  },
  "toc": {
   "base_numbering": 1,
   "nav_menu": {},
   "number_sections": true,
   "sideBar": true,
   "skip_h1_title": false,
   "title_cell": "Table of Contents",
   "title_sidebar": "Contents",
   "toc_cell": false,
   "toc_position": {},
   "toc_section_display": true,
   "toc_window_display": false
  },
  "varInspector": {
   "cols": {
    "lenName": 16,
    "lenType": 16,
    "lenVar": 40
   },
   "kernels_config": {
    "python": {
     "delete_cmd_postfix": "",
     "delete_cmd_prefix": "del ",
     "library": "var_list.py",
     "varRefreshCmd": "print(var_dic_list())"
    },
    "r": {
     "delete_cmd_postfix": ") ",
     "delete_cmd_prefix": "rm(",
     "library": "var_list.r",
     "varRefreshCmd": "cat(var_dic_list()) "
    }
   },
   "types_to_exclude": [
    "module",
    "function",
    "builtin_function_or_method",
    "instance",
    "_Feature"
   ],
   "window_display": false
  }
 },
 "nbformat": 4,
 "nbformat_minor": 5
}
